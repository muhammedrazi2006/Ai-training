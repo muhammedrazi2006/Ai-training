{
 "cells": [
  {
   "cell_type": "code",
   "execution_count": null,
   "id": "0f4c7abc",
   "metadata": {},
   "outputs": [],
   "source": [
    "\n",
    "# DAY - 06\n",
    "\n",
    "\n",
    "# exception handling error\n",
    "\n",
    "\n",
    "# IO error - if the file can't be open\n",
    "# keyboard interrupt - when an unrequired key is passed by the user\n",
    "# value error - when built-in function receives a wrong argument \n",
    "# EOF error - if end of file is hit without reading any data\n",
    "# import error - if it is unable to find the module\n",
    "\n",
    "\n",
    "\n",
    "# type error - when we use multiple data types for list and tuple ect.. is not a problem for the other operations other than this\n",
    "# syntax error - the problem in program due to which the program will stop the execution\n",
    "# name error - while we using the variable unfortunatly we use wrong spelling or any other problem \n",
    "# indendation error - there is no indendation or more than one \n",
    "# zero devitision error - any thing divided by zero\n",
    "# key error - \n",
    "# index error - we calling the higher index numbers which is not present\n",
    "# attribute error\n",
    "# compilation error\n",
    "# run timr error\n",
    "# arithmrtic error\n",
    "# module not found error / import error\n",
    "# file not found error\n",
    "# value error\n",
    "# key board interrupt error - when we stop the execution while rnning the code\n"
   ]
  },
  {
   "cell_type": "code",
   "execution_count": 2,
   "id": "9087ff91",
   "metadata": {},
   "outputs": [],
   "source": [
    "# try \n",
    "\n",
    "\n",
    "# the try block lets you test a block of code for errors                                                    - it execute the code\n",
    "# the except block lets you handle the error                                                                - it will handle the errors\n",
    "# the else block lets you execute code when there is no error                                               - it will execute there is no error \n",
    "# the finally block lets you execute code,reagardless of the result of the try and except blocks            - it always execute"
   ]
  },
  {
   "cell_type": "code",
   "execution_count": 3,
   "id": "8aba460e",
   "metadata": {},
   "outputs": [
    {
     "name": "stdout",
     "output_type": "stream",
     "text": [
      "It divide by zero\n",
      "The code executed successfully\n"
     ]
    }
   ],
   "source": [
    "\n",
    "try:\n",
    "    number=int(input(\"enter the number :\"))\n",
    "    var=number/0\n",
    "    print(var)\n",
    "except(ZeroDivisionError):\n",
    "     print(\"It divide by zero\")\n",
    "except(ValueError):\n",
    "    print(\"please enter the intiger value\")\n",
    "else:\n",
    "    print(\"it divides successfully\")\n",
    "finally:\n",
    "    print(\"The code executed successfully\")"
   ]
  },
  {
   "cell_type": "code",
   "execution_count": 4,
   "id": "f2631133",
   "metadata": {},
   "outputs": [
    {
     "name": "stdout",
     "output_type": "stream",
     "text": [
      "you guys are very smartyou are very good\n",
      "you are niceyou are very good\n",
      "you are nice\n",
      "\n",
      "the file read successfully \n",
      "its done\n"
     ]
    }
   ],
   "source": [
    "try:\n",
    "    file=open(\"Demo1.txt\",\"r\")\n",
    "    cont=file.read()\n",
    "    print(cont)\n",
    "except(FileNotFoundError):\n",
    "    print(\"file not found \")\n",
    "else:\n",
    "    print(\"the file read successfully \")\n",
    "finally:\n",
    "    print(\"its done\")"
   ]
  },
  {
   "cell_type": "code",
   "execution_count": 5,
   "id": "1b56424d",
   "metadata": {},
   "outputs": [
    {
     "name": "stdout",
     "output_type": "stream",
     "text": [
      "eligible for voting\n",
      "its done\n"
     ]
    }
   ],
   "source": [
    "# get the age from user\n",
    "# if age is above 18,then the person is eligible for voting\n",
    "# else not eligible\n",
    "# use try,except,else and finally\n",
    "\n",
    "try:\n",
    "    age=int(input(\"enter the age :\"))\n",
    "    if age>18:\n",
    "        print(\"eligible for voting\")\n",
    "    else:\n",
    "        print(\"not eligible\")\n",
    "\n",
    "\n",
    "except(ValueError):\n",
    "    print(\"enter the valid input\")\n",
    "\n",
    "finally:\n",
    "    print(\"its done\")\n",
    "    "
   ]
  },
  {
   "cell_type": "code",
   "execution_count": 6,
   "id": "bb8c7d08",
   "metadata": {},
   "outputs": [
    {
     "name": "stdout",
     "output_type": "stream",
     "text": [
      "to see the sunset\n",
      "lets have a vibe\n"
     ]
    }
   ],
   "source": [
    "# oops concept (object orianted programming system)\n",
    "# object- all real world entities\n",
    "# class-collection of objects\n",
    "\n",
    "# goa trip\n",
    "# whos going\n",
    "# how much money we need\n",
    "# what about the food\n",
    "# were we need to stay\n",
    "# who will book the tickets\n",
    "\n",
    "\n",
    "class GoaTrip():                              # class\n",
    "    def beach(self):    #self - is a parameter we can give any parameter      # methods\n",
    "        print(\"to see the sunset\")      # methods\n",
    "    def party(abc):                     # methods\n",
    "        print(\"lets have a vibe\")       # methods\n",
    "raju=GoaTrip()                   # objects\n",
    "kevin=GoaTrip()                # objects\n",
    "raju.beach()                     # objects\n",
    "kevin.party()                     # objects\n"
   ]
  },
  {
   "cell_type": "code",
   "execution_count": 7,
   "id": "adafa42e",
   "metadata": {},
   "outputs": [
    {
     "name": "stdout",
     "output_type": "stream",
     "text": [
      "kevinfood item added to cart\n",
      "kevinpayment successfull by gpay\n",
      "kevinfood item added to cart\n",
      "kevinpayment successfull by gpay\n"
     ]
    }
   ],
   "source": [
    "# food delivery\n",
    "# select food item\n",
    "# payment method\n",
    "# who want to order\n",
    "\n",
    "class food_delivery():\n",
    "    name=\"kevin\"\n",
    "    def select_food_item(abc):\n",
    "        print(f\"{abc.name}food item added to cart\")\n",
    "    def payment(abc):\n",
    "        print(f\"{abc.name}payment successfull by gpay\")\n",
    "godson=food_delivery()\n",
    "abhi=food_delivery()\n",
    "godson.select_food_item()\n",
    "godson.payment()\n",
    "abhi.select_food_item()\n",
    "abhi.payment()\n"
   ]
  },
  {
   "cell_type": "code",
   "execution_count": 8,
   "id": "38f77969",
   "metadata": {},
   "outputs": [
    {
     "name": "stdout",
     "output_type": "stream",
     "text": [
      "raju to see the sunset and the budget is 50000\n",
      "kevin lets have a vibe and the budget is 3000000\n"
     ]
    }
   ],
   "source": [
    "#  another method\n",
    "# init method\n",
    "\n",
    "\n",
    "class GoaTrip():\n",
    "    def __init__(self,name,budget):\n",
    "        self.name=name\n",
    "        self.budget=budget\n",
    "    def beach(self):    #self - is a parameter we can give any parameter\n",
    "        print(f\"{self.name} to see the sunset and the budget is {self.budget}\")\n",
    "    def party(self):\n",
    "        print(f\"{self.name} lets have a vibe and the budget is {self.budget}\")\n",
    "raju=GoaTrip(\"raju\",50000)\n",
    "kevin=GoaTrip(\"kevin\",3000000)\n",
    "raju.beach()\n",
    "kevin.party()\n"
   ]
  },
  {
   "cell_type": "code",
   "execution_count": 9,
   "id": "99c91a99",
   "metadata": {},
   "outputs": [
    {
     "name": "stdout",
     "output_type": "stream",
     "text": [
      "the deposite amount is 50000 \n",
      "the remaining amount 60000\n",
      "the balance is 110000\n"
     ]
    }
   ],
   "source": [
    "# bank account\n",
    "# balance amount\n",
    "# withdrawal amount\n",
    "# deposite amount\n",
    "\n",
    "\n",
    "# amount \n",
    "# if you kept the amount it show what ever the balance amount\n",
    "\n",
    "\n",
    "class bank():\n",
    "    def __init__(self,deposite,balance,withdrawal):\n",
    "        self.withdrawal=withdrawal\n",
    "        self.balance=balance\n",
    "        self.deposite=deposite\n",
    "\n",
    "    def deposite_amount(self):\n",
    "        print(f\"the deposite amount is {self.deposite} \")\n",
    "    \n",
    "    def balance_amount(self):\n",
    "        self.balance+=self.deposite\n",
    "        print(f\"the balance is {self.balance}\")\n",
    "\n",
    "    def withdrawal_amount(self):\n",
    "        if(self.withdrawal>self.balance):\n",
    "           print(f\"insufficiant bank balance\")\n",
    "        else:\n",
    "            self.balance-=self.withdrawal\n",
    "            print(f\"the remaining amount {self.balance}\")\n",
    "kiran= bank(50000,100000,40000)\n",
    "\n",
    "kiran.deposite_amount()\n",
    "kiran.withdrawal_amount()\n",
    "kiran.balance_amount()\n",
    "\n",
    "\n",
    "\n"
   ]
  },
  {
   "cell_type": "code",
   "execution_count": 10,
   "id": "f6cd1c3c",
   "metadata": {},
   "outputs": [
    {
     "data": {
      "text/plain": [
       "290"
      ]
     },
     "execution_count": 10,
     "metadata": {},
     "output_type": "execute_result"
    }
   ],
   "source": [
    "class rectangle():\n",
    "    def __init__(self,height,width):\n",
    "        self.height=height\n",
    "        self.width=width\n",
    "    def area(self):\n",
    "        return self.height*self.width\n",
    "    def perimeter(self):\n",
    "        return 2*(self.height)+2*(self.width)\n",
    "r1=rectangle(56,89)\n",
    "r1.area()\n",
    "r1.perimeter()"
   ]
  }
 ],
 "metadata": {
  "kernelspec": {
   "display_name": "Python 3",
   "language": "python",
   "name": "python3"
  },
  "language_info": {
   "codemirror_mode": {
    "name": "ipython",
    "version": 3
   },
   "file_extension": ".py",
   "mimetype": "text/x-python",
   "name": "python",
   "nbconvert_exporter": "python",
   "pygments_lexer": "ipython3",
   "version": "3.12.5"
  }
 },
 "nbformat": 4,
 "nbformat_minor": 5
}
