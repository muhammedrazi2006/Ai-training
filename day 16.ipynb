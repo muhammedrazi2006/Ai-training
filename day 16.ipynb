{
 "cells": [
  {
   "cell_type": "code",
   "execution_count": null,
   "id": "c39efba6",
   "metadata": {},
   "outputs": [],
   "source": [
    "# Array-\n",
    "# list[]-[87,564,5,\"anu\",\"bhai\"]\n",
    "# similar data types - arrays "
   ]
  },
  {
   "cell_type": "code",
   "execution_count": 31,
   "id": "2e8a6268",
   "metadata": {},
   "outputs": [
    {
     "name": "stdout",
     "output_type": "stream",
     "text": [
      "10\n",
      "[5, 8, 10, 20]\n",
      "10\n"
     ]
    }
   ],
   "source": [
    "# find the second largest num\n",
    "# arr=[20,5,8,10]\n",
    "\n",
    "# by using sort\n",
    "\n",
    "\n",
    "arr=[20,5,8,10]\n",
    "\n",
    "a1=sorted(arr)\n",
    "print(a1[-2])\n",
    "\n",
    "\n",
    "# another method\n",
    "arr=[20,5,8,10]\n",
    "\n",
    "arr.sort(reverse=False)\n",
    "print(arr)\n",
    "print(arr[-2])\n"
   ]
  },
  {
   "cell_type": "code",
   "execution_count": 27,
   "id": "b6eacf94",
   "metadata": {},
   "outputs": [
    {
     "name": "stdout",
     "output_type": "stream",
     "text": [
      "20\n",
      "10\n",
      "10\n"
     ]
    }
   ],
   "source": [
    "# using max()\n",
    "\n",
    "arr=[20,5,8,10]\n",
    "\n",
    "a1=max(arr)\n",
    "print(a1)\n",
    "arr.remove(a1)\n",
    "\n",
    "a2=max(arr)\n",
    "print(a2)\n",
    "\n",
    "\n",
    "# another method\n",
    "\n",
    "arr=[20,5,8,10]\n",
    "m1=len(arr)\n",
    "if m1<2:\n",
    "    print -1\n",
    "for i in arr:\n",
    "    max_1=max(arr)\n",
    "    arr.remove(max_1)\n",
    "    max_2=max(arr)\n",
    "    print(max_2)\n",
    "    break\n"
   ]
  },
  {
   "cell_type": "code",
   "execution_count": 21,
   "id": "5079c263",
   "metadata": {},
   "outputs": [
    {
     "name": "stdout",
     "output_type": "stream",
     "text": [
      "10\n"
     ]
    }
   ],
   "source": [
    "# using without function\n",
    "\n",
    "arr=[20,5,8,10]\n",
    "\n",
    "for i in range(len(arr)-1):\n",
    "    if arr[i] > arr[i+1]:\n",
    "        temp=arr[i]\n",
    "        arr[i]=arr[i+1]\n",
    "        arr[i+1]=temp\n",
    "print(arr[-2])\n"
   ]
  },
  {
   "cell_type": "code",
   "execution_count": 32,
   "id": "33a02d47",
   "metadata": {},
   "outputs": [
    {
     "name": "stdout",
     "output_type": "stream",
     "text": [
      "['vishal', 'dragon']\n"
     ]
    }
   ],
   "source": [
    "# attendence tracker\n",
    "\n",
    "\n",
    "# just creat a array - student names(5)\n",
    "# another array- how many student present\n",
    "# make another array to store the absentese \n",
    "\n",
    "\n",
    "student=[\"godson\",\"vishal\",\"raju\",\"kiran\",\"dragon\"]\n",
    "present=[\"godson\",\"raju\",\"kiran\"]\n",
    "absent=[]\n",
    "for i in student:\n",
    "    if i not in present:\n",
    "        absent.append(i)\n",
    "print(absent)\n"
   ]
  },
  {
   "cell_type": "code",
   "execution_count": 40,
   "id": "9265da9b",
   "metadata": {},
   "outputs": [
    {
     "name": "stdout",
     "output_type": "stream",
     "text": [
      "[120, 180]\n",
      "[120, 180]\n"
     ]
    }
   ],
   "source": [
    "# consider a list of product price\n",
    "# above 100 after performing a 10% discount\n",
    "\n",
    "stock=[50,120,50,20,180]\n",
    "disc=[]\n",
    "\n",
    "for i in stock:\n",
    "    if i*0.9 >100:  #\n",
    "        disc.append(i)\n",
    "print(disc)\n",
    "\n",
    "\n",
    "\n",
    "# another method\n",
    "\n",
    "cart=[50,120,50,20,180]\n",
    "dis=[]\n",
    "\n",
    "for i in cart:\n",
    "\n",
    "    cal=i/10\n",
    "    if i-cal>=100:\n",
    "        dis.append(i)\n",
    "print(dis)\n",
    "\n",
    "\n",
    "\n"
   ]
  },
  {
   "cell_type": "code",
   "execution_count": null,
   "id": "f9e45e06",
   "metadata": {},
   "outputs": [
    {
     "name": "stdout",
     "output_type": "stream",
     "text": [
      "{'3AM': 2, '4AM': 1, '5AM': 1}\n"
     ]
    }
   ],
   "source": [
    "# gym time\n",
    "# creat arr (time )\n",
    "# count same time \n",
    "# out put in dict format\n",
    "\n",
    "\n",
    "time=[\"3AM\",\"4AM\",\"3AM\",\"5AM\"]\n",
    "count_3={}\n",
    "\n",
    "for i in time:\n",
    "    if i not in count_3:\n",
    "        count_3[i]=1\n",
    "    else:\n",
    "        count_3[i]+=1\n",
    "print(count_3)"
   ]
  },
  {
   "cell_type": "code",
   "execution_count": 45,
   "id": "3a475b35",
   "metadata": {},
   "outputs": [
    {
     "name": "stdout",
     "output_type": "stream",
     "text": [
      "Counter({'3AM': 2, '4AM': 1, '5AM': 1})\n"
     ]
    }
   ],
   "source": [
    "# another method\n",
    "\n",
    "from collections import Counter\n",
    "time=[\"3AM\",\"4AM\",\"3AM\",\"5AM\"]\n",
    "slot_count=Counter(time)\n",
    "print(slot_count)\n"
   ]
  },
  {
   "cell_type": "code",
   "execution_count": null,
   "id": "0e269f7a",
   "metadata": {},
   "outputs": [
    {
     "name": "stdout",
     "output_type": "stream",
     "text": [
      "sum= 430\n",
      "avarege= 107.5\n"
     ]
    }
   ],
   "source": [
    "# Electricity bills\n",
    "# total bill and avarage\n",
    "bill=[10,5,8,20]\n",
    "s=0\n",
    "for i in bill:\n",
    "    u=i*10\n",
    "    s+=u\n",
    "avg=s/len(bill)\n",
    "print(\"sum=\",s)\n",
    "print(\"avarege=\",avg)\n",
    "\n"
   ]
  },
  {
   "cell_type": "code",
   "execution_count": null,
   "id": "c0ab5677",
   "metadata": {},
   "outputs": [],
   "source": []
  }
 ],
 "metadata": {
  "kernelspec": {
   "display_name": "Python 3",
   "language": "python",
   "name": "python3"
  },
  "language_info": {
   "codemirror_mode": {
    "name": "ipython",
    "version": 3
   },
   "file_extension": ".py",
   "mimetype": "text/x-python",
   "name": "python",
   "nbconvert_exporter": "python",
   "pygments_lexer": "ipython3",
   "version": "3.12.5"
  }
 },
 "nbformat": 4,
 "nbformat_minor": 5
}
