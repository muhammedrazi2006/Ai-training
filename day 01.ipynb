{
 "cells": [
  {
   "cell_type": "code",
   "execution_count": null,
   "id": "fe8bc17b",
   "metadata": {},
   "outputs": [],
   "source": [
    "#DAY-01\n",
    "\n",
    "\n",
    "a=10\n",
    "b=20\n",
    "sum=a+b\n",
    "print(sum)"
   ]
  },
  {
   "cell_type": "code",
   "execution_count": 6,
   "id": "1c7898ec",
   "metadata": {},
   "outputs": [
    {
     "name": "stdout",
     "output_type": "stream",
     "text": [
      "[1, 3, 2, 3, 4, [3, 45, 6]]\n"
     ]
    }
   ],
   "source": [
    "import copy\n",
    "orginal=[1,3,2,3,4,[3,45,6,]]\n",
    "ref_copy=orginal\n",
    "print(ref_copy)"
   ]
  },
  {
   "cell_type": "code",
   "execution_count": 16,
   "id": "ba7c8721",
   "metadata": {},
   "outputs": [
    {
     "name": "stdout",
     "output_type": "stream",
     "text": [
      "1\n",
      "22.0\n"
     ]
    }
   ],
   "source": [
    "a=1.5\n",
    "b=20.5\n",
    "print(int(a))\n",
    "print(a+b)"
   ]
  },
  {
   "cell_type": "code",
   "execution_count": null,
   "id": "69f007aa",
   "metadata": {},
   "outputs": [
    {
     "name": "stdout",
     "output_type": "stream",
     "text": [
      " coatis available\n"
     ]
    }
   ],
   "source": [
    "cart=[\"shirt\",\"jeans\",\"shoes\",\"coat\"]\n",
    "\n",
    "thing=input(\"enter the item\")\n",
    "if thing in cart:\n",
    "    print(f\" {thing}is available\")\n",
    "else:\n",
    "    print(\"sorry, is not available please add it\")"
   ]
  }
 ],
 "metadata": {
  "kernelspec": {
   "display_name": "Python 3",
   "language": "python",
   "name": "python3"
  },
  "language_info": {
   "codemirror_mode": {
    "name": "ipython",
    "version": 3
   },
   "file_extension": ".py",
   "mimetype": "text/x-python",
   "name": "python",
   "nbconvert_exporter": "python",
   "pygments_lexer": "ipython3",
   "version": "3.12.5"
  }
 },
 "nbformat": 4,
 "nbformat_minor": 5
}
