{
 "cells": [
  {
   "cell_type": "code",
   "execution_count": null,
   "id": "e260d060",
   "metadata": {},
   "outputs": [],
   "source": [
    "# PRIMS ALGORITHM\n",
    "\n",
    "# start with any node\n",
    "# pick the smallest element that connects with the edges\n",
    "# repeat the step again untill all nodes are visited"
   ]
  },
  {
   "cell_type": "code",
   "execution_count": 11,
   "id": "51b4bb34",
   "metadata": {},
   "outputs": [
    {
     "name": "stdout",
     "output_type": "stream",
     "text": [
      "prim's MST cost : 7\n"
     ]
    }
   ],
   "source": [
    "# Prim's Algorithm \n",
    "def prims(graph,start):\n",
    "    visited= set([start])\n",
    "    total_cost=0\n",
    "    while len(visited)<len(graph):\n",
    "        edge=None\n",
    "        min_w=float(\"inf\")\n",
    "        for u in visited:\n",
    "            for v,w in graph[u]:\n",
    "                if v not in visited and w<min_w:\n",
    "                    min_w=w\n",
    "                    edge=(u,v)\n",
    "        total_cost+=min_w\n",
    "        visited.add(edge[1])\n",
    "    return total_cost\n",
    "graph={\n",
    "    \"A\":[(\"B\",1),(\"C\",3)],\n",
    "    \"B\":[(\"A\",1),(\"C\",2),(\"D\",4)],\n",
    "    \"C\":[(\"A\",3),(\"B\",2),(\"D\",5)],\n",
    "    \"D\":[(\"B\",4),(\"C\",5)]\n",
    "}\n",
    "\n",
    "print(\"prim's MST cost :\",prims(graph,\"A\"))\n"
   ]
  },
  {
   "cell_type": "code",
   "execution_count": null,
   "id": "ea614c38",
   "metadata": {},
   "outputs": [],
   "source": [
    "# KRUSHKAL'S ALGORITHM\n",
    "\n",
    "# start with any mode \n",
    "# sort edge by cost\n",
    "# it dont form a loop or cycle\n",
    "# if it is a form  or cycle then ignore the edge\n",
    "\n"
   ]
  },
  {
   "cell_type": "code",
   "execution_count": 12,
   "id": "094e889c",
   "metadata": {},
   "outputs": [
    {
     "name": "stdout",
     "output_type": "stream",
     "text": [
      "kruskal's MST cost: 7\n"
     ]
    }
   ],
   "source": [
    "def find(parent,x):\n",
    "    if parent[x] != x:\n",
    "        parent[x] = find(parent,parent[x])\n",
    "    return parent[x]\n",
    "def kruskals(nodes,edges):\n",
    "    parent = {n:n for n in nodes }\n",
    "    edges.sort(key =lambda x:x[2])\n",
    "    total_cost=0\n",
    "\n",
    "    for u,v,w in edges:\n",
    "        if find(parent,u)!= find(parent,v):\n",
    "            parent[find(parent,u)]=find(parent,v)\n",
    "            total_cost+=w\n",
    "    return total_cost\n",
    "\n",
    "nodes=[\"A\",\"B\",\"C\",\"D\"]\n",
    "edges=[\n",
    "    (\"A\",\"B\",1),\n",
    "    (\"B\",\"C\",2),\n",
    "    (\"A\",\"C\",3),\n",
    "    (\"B\",\"D\",4),\n",
    "    (\"C\",\"D\",5)\n",
    "]\n",
    "\n",
    "print(\"kruskal's MST cost:\",kruskals(nodes,edges))"
   ]
  },
  {
   "cell_type": "code",
   "execution_count": null,
   "id": "2cb9879b",
   "metadata": {},
   "outputs": [],
   "source": [
    "# DYNAMIC PROGRAMMING \n",
    "\n",
    "''' \n",
    "Dynamic progrmming is a method for designing algorithms\n",
    "\n",
    "An algorithm designed with dynamic programming divides the problem into subproblems, find solution to the subproblem,\n",
    " and puts them togather to form a complete solution to the problem we want to solve \n",
    "'''"
   ]
  },
  {
   "cell_type": "code",
   "execution_count": null,
   "id": "ddf95081",
   "metadata": {},
   "outputs": [],
   "source": [
    "# DP = smaet recurtion memory\n",
    "\n",
    "'''used when:\n",
    "over lapping subproblems - you solve the same subproblem many times\n",
    "optimal substructure - solve big problem using optimal solutions of smaller problems\n",
    "'''"
   ]
  },
  {
   "cell_type": "code",
   "execution_count": null,
   "id": "17056379",
   "metadata": {},
   "outputs": [],
   "source": [
    "# Examples\n",
    "'''\n",
    "-climbing stairs\n",
    "-fibnocci\n",
    "-coin change\n",
    "-house robber\n",
    "'''"
   ]
  },
  {
   "cell_type": "code",
   "execution_count": null,
   "id": "7f4b721e",
   "metadata": {},
   "outputs": [],
   "source": [
    "'''1-memoization is a technique where results are stored to avoid doing the same computations many\n",
    "  2. Tabulation — It follows an Iterative Approach (Bottom up approach)\n",
    "\n",
    " '''"
   ]
  },
  {
   "cell_type": "code",
   "execution_count": null,
   "id": "96016e7b",
   "metadata": {},
   "outputs": [],
   "source": [
    "\n",
    "'''\n",
    "\n",
    "DP Building Blocks\n",
    "\n",
    "State: What changes at each step? → i, amount, etc.\n",
    "\n",
    "Decision: What options do I have? → climb 1 or 2 steps\n",
    "\n",
    "Base case: Where do I start from?\n",
    "'''\n"
   ]
  },
  {
   "cell_type": "code",
   "execution_count": 1,
   "id": "6df45894",
   "metadata": {},
   "outputs": [
    {
     "name": "stdout",
     "output_type": "stream",
     "text": [
      "8\n"
     ]
    }
   ],
   "source": [
    "#Method 1:Recursion(slow)\n",
    "def climb(n):\n",
    "    if n<=1:\n",
    "        return 1\n",
    "    return climb(n-1)+climb(n-2)\n",
    "print(climb(5))"
   ]
  },
  {
   "cell_type": "code",
   "execution_count": 4,
   "metadata": {},
   "outputs": [
    {
     "name": "stdout",
     "output_type": "stream",
     "text": [
      "8\n"
     ]
    }
   ],
   "source": [
    "#Method 2:Memoization(fast)=Top down\n",
    "\n",
    "memory={}\n",
    "def climb(n):\n",
    "    if n<=1:\n",
    "        return 1\n",
    "    if n in memory:\n",
    "        return memory[n]\n",
    "    memory[n]=climb(n-1)+climb(n-2)\n",
    "    return memory[n]\n",
    "print (climb(5))"
   ]
  },
  {
   "cell_type": "code",
   "execution_count": 3,
   "metadata": {},
   "outputs": [
    {
     "name": "stdout",
     "output_type": "stream",
     "text": [
      "8\n"
     ]
    }
   ],
   "source": [
    "#Method:3 Tabulation(bottom-up)\n",
    "def climb(n):\n",
    "    if n<=2:\n",
    "        return n\n",
    "    dp=[0]*(n+1)\n",
    "    dp[0]=dp[1]=1\n",
    "    for i in range(2,n+1):\n",
    "        dp[i]=dp[i-1]+dp[i-2]\n",
    "    return dp[n]\n",
    "print(climb(5))"
   ]
  },
  {
   "cell_type": "code",
   "execution_count": null,
   "id": "1fff4ec5",
   "metadata": {},
   "outputs": [],
   "source": [
    "# you are trying to pay exactly n rupees using "
   ]
  },
  {
   "cell_type": "code",
   "execution_count": 2,
   "metadata": {},
   "outputs": [
    {
     "data": {
      "text/plain": [
       "2"
      ]
     },
     "execution_count": 2,
     "metadata": {},
     "output_type": "execute_result"
    }
   ],
   "source": [
    "# Recursive Approach\n",
    "def minCoins(coins,amount):\n",
    "    if amount==0:\n",
    "        return 0\n",
    "    res=float(\"inf\")\n",
    "    for coin in coins :\n",
    "        if amount-coin >=0:\n",
    "            res = min(res,minCoins(coins,amount-coin)+1)\n",
    "    return res\n",
    "minCoins([1,3,4],6)  #3+3=6 , 4+1+1=6"
   ]
  },
  {
   "cell_type": "code",
   "execution_count": 7,
   "id": "5f31a542",
   "metadata": {},
   "outputs": [
    {
     "name": "stdout",
     "output_type": "stream",
     "text": [
      "2\n"
     ]
    }
   ],
   "source": [
    "# tabulation-bootom up approach\n",
    "\n",
    "def mincoins(coins,amount):\n",
    "    \n",
    "    dp=[float(\"inf\")]*(amount +1)\n",
    "    dp[0]=0\n",
    "    for x in range(1,amount+1):\n",
    "        for coin in coins:\n",
    "            if x-coin >=0:\n",
    "                dp[x]=min(dp[x],dp[x-coin]+1)\n",
    "\n",
    "    if dp[amount]!=float(\"inf\"):\n",
    "        return dp[amount]\n",
    "    return -1\n",
    "    \n",
    "\n",
    "print(mincoins([1,3,4],6))"
   ]
  },
  {
   "cell_type": "code",
   "execution_count": null,
   "id": "78a07a91",
   "metadata": {},
   "outputs": [],
   "source": [
    "# you are robbing houses on street .each house has some money \n",
    "# if you rob two next to each other ,police catch you\n",
    "# you need maximum total money without robbing two side by side"
   ]
  }
 ],
 "metadata": {
  "kernelspec": {
   "display_name": "Python 3",
   "language": "python",
   "name": "python3"
  },
  "language_info": {
   "codemirror_mode": {
    "name": "ipython",
    "version": 3
   },
   "file_extension": ".py",
   "mimetype": "text/x-python",
   "name": "python",
   "nbconvert_exporter": "python",
   "pygments_lexer": "ipython3",
   "version": "3.12.5"
  }
 },
 "nbformat": 4,
 "nbformat_minor": 5
}
