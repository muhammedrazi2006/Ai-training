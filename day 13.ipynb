{
 "cells": [
  {
   "cell_type": "code",
   "execution_count": null,
   "id": "26609270",
   "metadata": {},
   "outputs": [
    {
     "name": "stdout",
     "output_type": "stream",
     "text": [
      "5\n",
      "1\n",
      "2\n",
      "3\n",
      "[[0. 0. 0.]\n",
      " [0. 0. 0.]]\n",
      "[ 0.   2.5  5.   7.5 10. ]\n"
     ]
    }
   ],
   "source": [
    "\n",
    "# DAy 13 \n",
    "\n",
    "\n",
    "#  methods in numpy\n",
    "\n",
    "\n",
    "\n",
    "import numpy as np # numpy is a library for numerical operations in Python\n",
    "scalar=5\n",
    "vector=np.array([1,2,3,4,5]) #np.array - it is a function to create an array in numpy\n",
    "matrix=np.matrix([[1,2,2],[3,2,1],[1,2,3]]) # np.matrix - it is a function to create a matrix in numpy\n",
    "print(scalar)\n",
    "print(vector.ndim) # ndim - it is a property to get the number of dimensions of an array\n",
    "print(matrix.ndim) # ndim - it is a property to get the number of dimensions of a matrix\n",
    "print(np.linalg.matrix_rank(matrix))  # np.linalg.matrix_rank - it is a function to get the rank of a matrix\n",
    "# np.linalg - it is a module in numpy for linear algebra operations\n",
    "print(np.zeros((2,3))) # np.zeros - it is a function to create an array of zeros with the given shape(shape- (2,3) means 2 rows and 3 columns)\n",
    "# tensor- 3 or more dimensional value eg: [[[1,2],[2,3]],[[1,2],[2,3]]]\n",
    "print(np.linspace(0,10,5)) # np.linspace - (0,10,5)(start,end,step)it used to create an array of evenly spaced numbers over a specified interval (if here 0+0.25=0.25, 0.25+0.25=0.5, 0.75, 1) it divides the interval into 5 equal parts"
   ]
  },
  {
   "cell_type": "code",
   "execution_count": 11,
   "id": "a4ec08dc",
   "metadata": {},
   "outputs": [
    {
     "name": "stdout",
     "output_type": "stream",
     "text": [
      "44\n",
      "[-5 10 -5]\n",
      "[[1. 0. 0.]\n",
      " [0. 1. 0.]\n",
      " [0. 0. 1.]]\n"
     ]
    }
   ],
   "source": [
    "v1=np.array([1,2,3])\n",
    "v2=np.array([6,7,8]) # change into matrix form \n",
    "print(np.dot(v1,v2)) # np.dot - it is a function to calculate the dot product of two arrays\n",
    "\n",
    "print(np.cross(v1,v2)) # np.cross - it is a function to calculate the cross product of two arrays\n",
    "\n",
    "print(np.eye(3)) # np.eye - it is a function to create an identity matrix of size 3x3"
   ]
  },
  {
   "cell_type": "code",
   "execution_count": null,
   "id": "effe715b",
   "metadata": {},
   "outputs": [
    {
     "name": "stdout",
     "output_type": "stream",
     "text": [
      "[[ 6  1  1]\n",
      " [ 4 -2  5]\n",
      " [ 2  8  7]]\n",
      "---------------------------------------------------------------------------------------------------------------------------\n",
      "[[ 0.17647059 -0.00326797 -0.02287582]\n",
      " [ 0.05882353 -0.13071895  0.08496732]\n",
      " [-0.11764706  0.1503268   0.05228758]]\n",
      "---------------------------------------------------------------------------------------------------------------------------\n",
      "-306.0\n"
     ]
    }
   ],
   "source": [
    "# inverse of a matrix\n",
    "# np.linalg - its a library in numpy for linear algebra operations\n",
    "import numpy as np\n",
    "m1=np.matrix([[6,1,1],[4,-2,5],[2,8,7]])\n",
    "print(m1)\n",
    "print(\"---------------------------------------------------------------------------------------------------------------------------\")\n",
    "print(np.linalg.inv(m1)) # np.linalg.inv - it is a function to calculate the inverse of a matrix\n",
    "\n",
    "print(\"---------------------------------------------------------------------------------------------------------------------------\")\n",
    "\n",
    "print(np.linalg.det(m1)) # np.linalg.det - it is a function to calculate the determinant of a matrix"
   ]
  },
  {
   "cell_type": "code",
   "execution_count": 16,
   "id": "5d2cc1ec",
   "metadata": {},
   "outputs": [
    {
     "name": "stdout",
     "output_type": "stream",
     "text": [
      "-306.0\n",
      "---------------------------------------------------------------------------------------------------------------------------\n",
      "[[ 0.17647059 -0.00326797 -0.02287582]\n",
      " [ 0.05882353 -0.13071895  0.08496732]\n",
      " [-0.11764706  0.1503268   0.05228758]]\n"
     ]
    }
   ],
   "source": [
    "# another way to do the same using numpy.linalg\n",
    "\n",
    "\n",
    "from numpy.linalg import det # det - it is a function to calculate the determinant of a matrix\n",
    "print(det(m1)) # det - it is a function to calculate the determinant of a matrix\n",
    "\n",
    "print(\"---------------------------------------------------------------------------------------------------------------------------\")\n",
    "\n",
    "from numpy.linalg import inv # inv - it is a function to calculate the inverse of a matrix\n",
    "print(inv(m1)) # inv - it is a function to calculate the inverse of a matrix"
   ]
  },
  {
   "cell_type": "code",
   "execution_count": null,
   "id": "01cf9ccc",
   "metadata": {},
   "outputs": [],
   "source": [
    "# PCA-  Principal Component Analysis\n",
    "# PCA is used to reduce the dimensiones of the data \n"
   ]
  },
  {
   "cell_type": "code",
   "execution_count": 18,
   "id": "68db7fb1",
   "metadata": {},
   "outputs": [
    {
     "name": "stdout",
     "output_type": "stream",
     "text": [
      "Eigenvalues: [5. 2.]\n",
      "Eigenvectors: [[ 0.89442719 -0.70710678]\n",
      " [ 0.4472136   0.70710678]]\n"
     ]
    }
   ],
   "source": [
    "# eigen # eigenvalues and eigenvectors\n",
    "# eigenvalues - it is a scalar value that indicates the amount of variance in the data along a particular direction\n",
    "# eigenvectors - it is a vector that indicates the direction of the data along a particular axis\n",
    "\n",
    "# eqn-(A-lambda)*I=0\n",
    "# A - it is a matrix\n",
    "\n",
    "# eqn for eigen vectors\n",
    "# (A-lambda)*x = 0\n",
    "\n",
    "\n",
    "from numpy.linalg import eig # eig - it is a function to calculate the eigenvalues and eigenvectors of a matrix\n",
    "matrix=np.matrix([[4,2],[1,3]])\n",
    "vals,vecs=eig(matrix) # eig - it is a function to calculate the eigenvalues and eigenvectors of a matrix\n",
    "print(\"Eigenvalues:\", vals) # vals - it is a variable that stores the eigenvalues of a matrix\n",
    "print(\"Eigenvectors:\", vecs) # vecs - it is a variable that stores the\n"
   ]
  },
  {
   "cell_type": "code",
   "execution_count": 20,
   "id": "8ad76d7a",
   "metadata": {},
   "outputs": [
    {
     "name": "stdout",
     "output_type": "stream",
     "text": [
      "[[3.05921769e-01 9.91411709e-01 9.68065485e-01 7.81797685e-01\n",
      "  4.12106798e-01 4.94258638e-01 9.95716366e-01 5.04350536e-01\n",
      "  7.65742952e-01 4.59431618e-01 2.80794971e-01 2.53793535e-01\n",
      "  9.09007045e-02 7.05016865e-01 4.34459748e-01 9.56162633e-01\n",
      "  7.84273213e-01 9.54274721e-01 1.34109371e-01 3.23948630e-01\n",
      "  2.75687269e-01 2.46928155e-01 6.69124587e-01 2.98338869e-02\n",
      "  6.34991541e-01 5.39531322e-01 2.81230450e-01 1.51417389e-01\n",
      "  4.39840828e-02 1.79116590e-01 9.48743754e-01 3.55523091e-01\n",
      "  3.57084097e-01 1.36300327e-03 8.38243104e-01 7.38620163e-01\n",
      "  3.08746266e-01 3.41465145e-01 5.11314196e-01 8.85682158e-01\n",
      "  3.73091522e-01 4.66544534e-01 8.25110136e-01 6.74208966e-02\n",
      "  2.72851583e-01 2.39360553e-01 5.11897406e-01 6.08480625e-01\n",
      "  3.53464666e-01 3.14835763e-02 9.38671279e-01 9.62882013e-01\n",
      "  8.14429590e-01 2.33420305e-02 2.28821663e-01 1.40789112e-01\n",
      "  2.81875951e-01 7.36439271e-01 7.85992348e-01 9.94283507e-01\n",
      "  8.88551495e-01 7.52000530e-01 5.79788028e-01 9.19109936e-01\n",
      "  5.84387668e-01 1.12187311e-01 4.01562758e-01 5.03183191e-01\n",
      "  1.63919095e-01 5.85817485e-02 4.62506229e-01 6.68062811e-01\n",
      "  4.27004275e-01 7.06037268e-01 3.96370920e-01 1.51805862e-01\n",
      "  9.43860321e-02 3.22475155e-01 9.99321179e-01 8.17001572e-01\n",
      "  2.48132802e-01 9.31962954e-01 8.79721566e-01 1.24813800e-01\n",
      "  1.67587577e-01 1.64994879e-01 5.44540837e-01 4.50637820e-01\n",
      "  9.91475879e-01 1.60387138e-01 8.37931216e-01 7.93412124e-01\n",
      "  5.83840506e-01 8.82190734e-01 2.85275903e-01 7.61458418e-01\n",
      "  9.77546896e-01 2.82570811e-01 4.24321367e-01 3.10440956e-01]\n",
      " [3.27298831e-01 8.34665942e-01 8.09030611e-01 2.71799653e-01\n",
      "  2.70784434e-01 7.39786903e-01 3.15868669e-03 7.16598720e-01\n",
      "  2.37979970e-01 6.60408024e-01 8.60304045e-01 8.02237470e-01\n",
      "  6.75786877e-01 8.12451387e-01 2.19248612e-01 1.85491063e-01\n",
      "  9.29634574e-01 3.98122461e-01 9.53265871e-01 6.12630120e-01\n",
      "  2.73636522e-01 7.24636124e-01 7.35691434e-01 8.34729694e-01\n",
      "  5.20720776e-01 7.77727511e-01 7.04677660e-01 9.86860437e-01\n",
      "  1.44172176e-01 9.57342728e-01 8.05838869e-01 3.05547253e-01\n",
      "  4.86453203e-01 1.33829696e-01 2.93470805e-01 5.38723236e-01\n",
      "  7.73027202e-01 3.54216488e-01 5.27002953e-02 6.53625430e-01\n",
      "  7.30957147e-01 3.57706194e-03 4.65691162e-01 5.32629739e-01\n",
      "  6.46976660e-01 3.59586589e-01 4.81792504e-01 2.87049991e-01\n",
      "  7.22247912e-01 8.50930922e-01 1.94761420e-01 7.83856660e-01\n",
      "  5.18211182e-02 3.11115565e-01 2.89451133e-01 6.11042878e-01\n",
      "  5.77044603e-02 2.37743546e-01 2.90351281e-01 5.10386646e-01\n",
      "  4.01830332e-01 6.60405062e-01 5.60585956e-01 4.54951551e-01\n",
      "  5.15637807e-01 1.21697649e-01 1.82962453e-01 6.40704078e-01\n",
      "  7.86468533e-01 6.15348782e-01 8.28311397e-01 4.58640109e-02\n",
      "  9.09405488e-01 7.19225714e-01 4.43472516e-01 4.72813917e-01\n",
      "  5.97914672e-01 1.75154851e-01 4.30983569e-01 8.11436151e-02\n",
      "  5.17543151e-02 1.70132773e-01 4.09050401e-01 4.82155470e-01\n",
      "  3.83993733e-01 7.92083946e-01 5.66147078e-01 5.59450731e-01\n",
      "  9.68509521e-01 3.06382136e-01 5.17059414e-01 7.35879250e-01\n",
      "  3.71707928e-01 5.73754748e-03 6.86402351e-01 2.38723420e-01\n",
      "  9.54682314e-01 2.81791266e-01 9.77869340e-01 8.89815189e-01]\n",
      " [6.29596855e-01 8.45704118e-01 4.87899642e-01 6.03553473e-01\n",
      "  4.98920508e-01 1.19515955e-01 3.89141785e-01 4.89716774e-01\n",
      "  7.04744765e-01 8.77157658e-01 7.10122478e-02 9.22189326e-01\n",
      "  6.52057010e-01 1.25663978e-01 9.09524329e-01 7.72972733e-01\n",
      "  2.80535227e-01 3.44440165e-01 4.96372983e-01 9.66961248e-01\n",
      "  5.82692877e-03 2.79402068e-01 6.23865783e-01 7.17020440e-01\n",
      "  5.43033981e-01 3.70887605e-01 6.20949640e-01 8.95268027e-01\n",
      "  7.24700654e-01 2.05704337e-01 2.92613659e-01 1.63158516e-01\n",
      "  9.49862638e-01 3.54361688e-01 8.77737493e-01 7.58977227e-01\n",
      "  5.42499417e-02 5.77065331e-02 1.34281560e-01 3.67907246e-01\n",
      "  4.08785477e-01 7.01349425e-01 5.50375359e-01 1.65206918e-02\n",
      "  1.58869733e-01 9.58820015e-01 9.81021438e-01 3.69748371e-01\n",
      "  9.19899593e-01 6.09238076e-01 8.83550454e-01 1.69883743e-01\n",
      "  6.63329381e-02 6.05344327e-01 9.64700654e-03 8.53744027e-01\n",
      "  9.48835840e-01 2.06883763e-01 5.50732852e-01 2.97074621e-01\n",
      "  7.02427654e-01 8.62001969e-01 9.15885558e-01 9.90649351e-01\n",
      "  1.08410875e-01 1.51940034e-01 7.48826375e-01 5.03689372e-01\n",
      "  3.88020342e-01 8.05973216e-01 9.79624278e-01 1.52317150e-01\n",
      "  9.75828263e-01 7.32189641e-01 1.00117255e-01 8.92486471e-01\n",
      "  5.89226407e-02 7.71306851e-01 6.12104832e-01 5.52603805e-01\n",
      "  3.73343795e-01 6.41622985e-01 5.77648013e-01 4.24250929e-01\n",
      "  1.90121146e-01 2.21816216e-01 4.59274121e-01 8.18284213e-01\n",
      "  8.18889079e-01 3.17332605e-01 4.65212902e-01 7.28356016e-01\n",
      "  9.62787758e-01 6.48684640e-02 7.73855582e-01 4.68451223e-01\n",
      "  4.71488500e-01 5.31768402e-01 9.79660547e-01 5.57053342e-01]\n",
      " [8.56530322e-01 3.43705542e-01 2.46772501e-01 4.59418976e-01\n",
      "  6.62208312e-01 8.21264422e-01 4.71774009e-01 4.45360434e-01\n",
      "  4.89367083e-01 2.40910328e-01 6.51373885e-01 7.01960005e-01\n",
      "  8.00204915e-01 9.18167537e-01 3.29894168e-01 3.45941492e-01\n",
      "  6.07679916e-01 3.03876697e-01 8.08713713e-01 7.04342164e-02\n",
      "  4.38609185e-02 1.17977066e-01 8.23019993e-01 6.58256711e-01\n",
      "  9.88498961e-01 6.70159784e-01 1.92676174e-01 3.46607536e-01\n",
      "  3.90202275e-01 6.33277754e-01 4.74230989e-01 3.23279212e-01\n",
      "  6.54744596e-01 8.00382280e-01 6.88509958e-01 4.46328718e-01\n",
      "  8.09326510e-01 2.20016047e-01 7.07115408e-01 8.32239942e-01\n",
      "  7.72853777e-01 1.02732707e-01 8.51964787e-01 3.61916828e-01\n",
      "  9.43158075e-01 4.18374757e-01 2.31065265e-01 3.73197967e-01\n",
      "  2.34151626e-01 4.41011325e-01 4.15658766e-01 8.96524229e-01\n",
      "  7.49784297e-01 3.21713519e-01 2.83658189e-01 9.00113548e-01\n",
      "  9.72512267e-01 3.23807071e-01 9.35900219e-01 1.20249652e-02\n",
      "  4.57554082e-01 4.81364686e-01 3.89672612e-01 6.70080853e-01\n",
      "  7.31716573e-01 5.95397113e-01 9.53465043e-01 3.07659217e-01\n",
      "  8.61939781e-01 4.69868160e-01 6.01645207e-01 3.29305300e-01\n",
      "  5.96841877e-01 2.55298446e-03 3.74516042e-02 9.79250007e-02\n",
      "  2.59146440e-01 8.97086829e-01 6.25866802e-01 3.03867763e-01\n",
      "  6.28812911e-01 5.44335956e-01 4.77124235e-01 8.31424947e-01\n",
      "  5.85628476e-01 5.36764308e-01 9.85820644e-01 5.61661500e-01\n",
      "  8.66538338e-01 2.56485900e-01 1.35175237e-01 3.27955879e-01\n",
      "  7.89301859e-01 2.24813913e-01 8.33911973e-01 7.36374536e-01\n",
      "  8.70568659e-01 2.56599245e-01 2.88383139e-01 2.23716387e-01]\n",
      " [5.29108014e-01 7.41363638e-02 4.50769771e-01 1.62419867e-01\n",
      "  9.06995903e-01 4.39163252e-02 9.64710421e-01 3.46772348e-01\n",
      "  8.39786165e-01 5.86243671e-01 8.05089482e-01 8.07471598e-01\n",
      "  4.82224200e-01 3.85057653e-02 1.49262613e-01 7.30778218e-01\n",
      "  4.57152370e-01 8.44592190e-01 4.03380745e-01 9.19060571e-01\n",
      "  8.30716514e-01 7.99594840e-02 3.63687647e-01 3.21027009e-01\n",
      "  4.94658362e-01 1.50440963e-01 4.23524972e-01 4.70029957e-01\n",
      "  4.14774542e-02 8.00742372e-01 9.53489785e-01 9.86900877e-01\n",
      "  9.51389467e-01 6.62614170e-01 5.74918269e-01 2.78813981e-01\n",
      "  4.26481571e-01 5.21497118e-01 3.95555724e-02 1.80099683e-01\n",
      "  1.52481544e-01 5.63463459e-01 5.76038250e-01 1.05446287e-01\n",
      "  2.33633084e-01 2.65825066e-01 7.85852277e-02 8.39134033e-01\n",
      "  1.89960984e-01 3.22791881e-01 5.04967493e-01 9.46876887e-01\n",
      "  7.74631351e-01 2.57204837e-01 1.76259677e-01 3.41379906e-01\n",
      "  3.24104097e-01 8.90147094e-01 3.80290855e-01 5.84945366e-01\n",
      "  8.99636299e-01 4.77011604e-01 2.93330815e-01 3.65300291e-01\n",
      "  5.06640781e-01 5.35217155e-01 8.34231833e-01 1.11939044e-01\n",
      "  9.73813087e-01 3.73491196e-01 4.71896018e-01 8.02717357e-01\n",
      "  3.03337760e-01 2.11782640e-01 9.78989132e-01 5.58735970e-02\n",
      "  7.58994850e-01 7.89378411e-01 3.54109064e-01 8.43083089e-01\n",
      "  8.29179979e-01 3.14020839e-01 8.80429550e-01 6.94630150e-01\n",
      "  1.72121438e-02 2.38205755e-01 9.17905174e-01 8.74971261e-01\n",
      "  5.25375541e-01 4.68668006e-02 8.79772490e-01 1.20521415e-01\n",
      "  5.24154234e-01 1.01449057e-02 5.53529780e-01 8.11034820e-02\n",
      "  3.00576658e-01 2.88454639e-01 9.35222885e-01 1.21476862e-01]\n",
      " [8.23793166e-01 7.45897760e-01 8.37341612e-01 9.56256195e-01\n",
      "  1.09470064e-01 3.74050023e-01 3.90387050e-01 5.19761495e-01\n",
      "  8.16711225e-01 1.93935168e-02 7.67517177e-01 3.53435356e-01\n",
      "  9.10655131e-01 3.21799100e-02 5.55365153e-01 8.03150942e-01\n",
      "  4.90569330e-01 6.34536540e-01 6.56641640e-01 5.13081256e-01\n",
      "  2.95815916e-01 7.89497160e-01 5.00505393e-01 8.41053776e-01\n",
      "  5.52762206e-01 6.51387467e-01 7.89485403e-02 5.23888611e-01\n",
      "  8.81331393e-01 5.02964404e-01 9.31577054e-03 1.08326719e-01\n",
      "  3.48585557e-01 3.85709045e-01 7.17431090e-01 3.22060264e-01\n",
      "  5.65786160e-01 3.37858426e-01 9.58232535e-01 6.39389627e-01\n",
      "  2.49824574e-01 1.83457399e-01 4.43332895e-01 6.96309924e-01\n",
      "  9.18500831e-01 7.75593358e-01 6.96514579e-01 7.94529694e-01\n",
      "  5.65339763e-01 8.25265573e-01 3.42872420e-02 9.12749965e-01\n",
      "  3.16008244e-01 4.92321826e-01 6.90579965e-01 7.84489620e-01\n",
      "  9.75542038e-01 8.60913299e-01 8.87254400e-01 7.30847115e-01\n",
      "  2.23307641e-01 7.80330162e-01 4.90983112e-01 6.43041841e-01\n",
      "  7.88348457e-01 4.52373283e-01 6.66152755e-02 8.03738873e-01\n",
      "  5.04406731e-01 5.33409208e-01 1.01701262e-02 2.32880610e-01\n",
      "  9.52494411e-01 8.92440237e-01 2.47609380e-01 2.47277958e-01\n",
      "  9.06828301e-01 5.46470638e-01 1.55159624e-01 5.51326318e-01\n",
      "  4.72585013e-02 2.02142619e-01 2.34655051e-01 1.73387175e-02\n",
      "  6.45413548e-01 8.98814490e-01 5.73339167e-01 7.54127648e-01\n",
      "  6.00950893e-01 5.03261709e-01 4.47800000e-01 2.68365639e-01\n",
      "  1.30454460e-01 7.81884657e-01 7.04029710e-01 7.60125116e-01\n",
      "  3.85608990e-01 9.02407737e-01 4.91375058e-01 7.05052476e-01]\n",
      " [5.86311674e-01 6.74809338e-02 9.90337554e-01 1.41966646e-01\n",
      "  3.27722426e-01 6.76217050e-01 2.15473746e-01 6.39065557e-01\n",
      "  6.54394596e-01 5.65174832e-01 6.11102352e-01 1.87783666e-01\n",
      "  5.21743695e-01 5.57799202e-01 1.90629894e-02 4.52453115e-01\n",
      "  6.64469138e-02 9.90586171e-01 6.75460251e-01 9.88922719e-01\n",
      "  8.93584559e-01 5.16931774e-01 6.84359816e-01 2.13875966e-01\n",
      "  4.47474827e-01 6.87254061e-02 7.17543427e-01 4.56066570e-01\n",
      "  3.41452952e-01 6.22193776e-01 9.22781569e-01 5.93326842e-02\n",
      "  5.02791333e-01 7.54254679e-01 6.90294255e-01 9.31269034e-01\n",
      "  6.64835235e-01 5.66690358e-02 7.08911258e-01 8.71344328e-01\n",
      "  8.83101274e-01 3.67992215e-01 1.19604868e-01 9.71030387e-02\n",
      "  8.52114363e-02 2.30992020e-01 2.45353032e-01 8.12971999e-01\n",
      "  7.10360831e-01 2.33158711e-01 2.50778766e-01 7.97896944e-01\n",
      "  9.40777846e-01 7.78961003e-01 9.19883398e-01 1.35348349e-01\n",
      "  7.98655639e-01 4.52530074e-01 6.28999305e-01 7.50513842e-01\n",
      "  2.66082500e-01 6.90175907e-01 9.23930683e-01 4.06491265e-01\n",
      "  5.51918935e-01 9.43376035e-02 5.85567335e-01 4.57655583e-01\n",
      "  8.10399942e-01 1.25959452e-01 9.96197946e-04 4.36741037e-01\n",
      "  2.08603244e-01 7.78418798e-01 3.93124093e-01 7.48447051e-01\n",
      "  3.00705825e-01 2.10764026e-01 1.87145371e-01 5.10678633e-02\n",
      "  6.49415372e-01 9.03405893e-01 9.54403220e-01 3.23751452e-01\n",
      "  5.47831627e-01 2.33906413e-01 6.40343873e-01 6.26210328e-01\n",
      "  9.07536393e-01 3.01830733e-01 3.66809084e-01 7.67106671e-01\n",
      "  2.32113564e-01 1.08650107e-01 9.96519724e-01 6.89507817e-01\n",
      "  6.35079454e-01 6.14057720e-01 3.05270664e-01 9.63845502e-01]\n",
      " [8.70665254e-01 4.88957124e-01 1.49210298e-01 7.15771139e-01\n",
      "  8.88095280e-01 7.88541261e-01 3.89527790e-01 3.45876180e-01\n",
      "  9.88388487e-01 4.48733999e-01 6.90464124e-01 1.50722791e-01\n",
      "  7.92720441e-01 5.82622155e-01 5.42936172e-01 3.37773598e-01\n",
      "  8.70225112e-01 8.22173745e-01 4.40929603e-01 2.38479275e-01\n",
      "  7.12265609e-01 1.50119676e-02 7.21979015e-01 9.66335605e-01\n",
      "  2.43549737e-01 5.13944639e-01 4.08610376e-01 9.57596220e-01\n",
      "  5.58507597e-02 9.23429471e-01 2.82289475e-01 9.59679025e-01\n",
      "  5.27494646e-01 8.52125414e-01 2.37708526e-01 9.43954380e-01\n",
      "  6.78262362e-03 2.09672647e-01 9.78559115e-01 5.87899104e-01\n",
      "  8.13263679e-01 9.52788296e-01 4.88727500e-01 5.06512236e-01\n",
      "  2.69739460e-01 9.73777622e-01 8.96963761e-01 8.19416761e-01\n",
      "  3.76602764e-01 1.70513301e-01 2.96593793e-01 7.94278280e-01\n",
      "  5.82013515e-01 1.46868267e-01 4.14764084e-01 1.56501859e-03\n",
      "  5.19366149e-01 9.54766057e-02 8.08960726e-01 8.68596666e-01\n",
      "  5.84362675e-01 4.96445259e-01 8.37426226e-01 5.65059794e-01\n",
      "  1.47753411e-01 3.20601355e-01 3.17889426e-01 3.45314924e-01\n",
      "  4.77485267e-01 8.34630794e-01 2.86394899e-01 4.62954164e-01\n",
      "  8.46640115e-01 3.91124672e-02 7.25668456e-01 5.45464347e-01\n",
      "  1.09691473e-01 1.64612420e-01 3.26989029e-01 6.10286291e-01\n",
      "  2.78875907e-01 9.78460262e-01 5.32119476e-01 4.87964365e-01\n",
      "  4.37602738e-01 6.41173872e-01 7.51688556e-02 6.42756690e-02\n",
      "  3.12011609e-01 9.23520985e-01 3.18863303e-01 9.34080370e-01\n",
      "  8.78419367e-01 1.63068100e-02 1.30268134e-01 9.66666535e-01\n",
      "  6.92921943e-01 6.60299618e-02 5.82252533e-02 6.44464350e-01]\n",
      " [5.28812664e-01 1.10144288e-01 7.54682429e-01 1.14359534e-01\n",
      "  8.94504668e-02 6.72287099e-01 1.10320009e-01 5.50365898e-01\n",
      "  8.81130125e-01 5.24015984e-01 6.30659434e-01 6.60926501e-02\n",
      "  7.10269867e-01 1.54002359e-01 7.02399448e-01 5.36589892e-01\n",
      "  8.13793311e-01 1.02570195e-01 6.63522379e-01 2.03443919e-01\n",
      "  5.19854061e-02 5.87531183e-01 3.60222820e-01 7.91316390e-01\n",
      "  6.95387051e-01 3.50462353e-01 5.13092535e-01 7.15515295e-01\n",
      "  8.70017506e-01 2.83459530e-01 8.91294352e-01 9.48066186e-01\n",
      "  5.65781466e-01 8.23845212e-01 3.44651584e-01 9.79086869e-01\n",
      "  7.92666200e-01 8.37243673e-01 4.51199825e-02 7.87245595e-01\n",
      "  2.82418631e-01 6.60723303e-01 4.23440398e-02 7.83534812e-01\n",
      "  7.22970979e-01 8.98778028e-01 7.49431125e-01 8.10493297e-01\n",
      "  2.57576938e-01 4.94074548e-01 7.86852388e-01 5.90636176e-01\n",
      "  6.11748198e-01 6.77266623e-01 4.57479639e-01 6.93349515e-01\n",
      "  3.76811924e-01 5.04740391e-01 9.34401935e-02 1.49220096e-01\n",
      "  2.52411726e-01 3.05643540e-01 4.34637044e-01 8.81179437e-01\n",
      "  3.48524419e-01 8.59117827e-01 6.76574720e-01 6.88092297e-01\n",
      "  3.46876530e-01 8.95890341e-01 2.17859117e-01 2.59328661e-01\n",
      "  5.94801276e-01 5.03511104e-01 5.93323464e-01 9.30236135e-01\n",
      "  7.29253804e-02 3.71816328e-01 1.85286228e-01 2.07154552e-01\n",
      "  9.70245186e-01 6.63936644e-01 5.45831094e-01 8.76658183e-02\n",
      "  5.55335002e-01 5.16914582e-01 3.85125180e-01 6.66936575e-02\n",
      "  3.57147805e-01 8.35611376e-01 3.26118071e-01 5.25571503e-01\n",
      "  5.82868916e-01 6.83510703e-02 2.77675096e-01 6.03217355e-01\n",
      "  7.42506528e-01 6.41189475e-01 6.52547252e-01 3.97551550e-01]\n",
      " [1.69254423e-01 9.05967895e-01 5.89407395e-01 8.52954634e-01\n",
      "  9.19285953e-01 6.06075838e-01 5.81486002e-01 5.47599422e-01\n",
      "  7.87280537e-01 3.07412227e-01 6.44624190e-01 9.41956852e-01\n",
      "  9.64523666e-04 9.57288157e-01 6.36210795e-01 8.50609419e-01\n",
      "  1.99555224e-02 4.48221934e-01 7.12693571e-01 3.31311465e-02\n",
      "  4.69616569e-01 6.50161733e-01 1.51018903e-01 1.04619654e-01\n",
      "  3.16509702e-01 1.31887971e-01 3.63277255e-01 2.46547404e-02\n",
      "  1.80332727e-01 3.52409113e-01 7.80473050e-01 8.19007178e-01\n",
      "  4.15668007e-01 7.07670360e-01 8.42789952e-01 5.48412379e-01\n",
      "  4.41371311e-01 7.13420593e-01 6.01749723e-01 7.25655082e-02\n",
      "  1.75203830e-01 9.92164272e-01 8.06325315e-01 9.06746638e-01\n",
      "  3.27895433e-01 7.30249507e-01 6.33021127e-01 8.05700241e-02\n",
      "  7.93293227e-01 2.75843564e-01 5.64983760e-01 8.29709870e-02\n",
      "  2.24971965e-01 1.12887101e-01 3.59137000e-01 6.94066392e-01\n",
      "  4.71745940e-01 4.12484400e-01 5.36825286e-01 2.02695425e-01\n",
      "  9.73511166e-01 5.88210696e-01 3.06537376e-01 2.34538578e-01\n",
      "  8.17117425e-01 3.41300242e-01 2.60796419e-01 7.71690079e-01\n",
      "  8.13309205e-01 7.59526114e-01 4.69064670e-01 5.10739319e-01\n",
      "  3.62625979e-01 1.55318914e-01 9.30338011e-01 7.21472854e-02\n",
      "  2.38322227e-01 3.02866821e-01 4.04277908e-01 8.69552323e-01\n",
      "  9.17161084e-01 7.45430557e-01 1.25187499e-01 3.15591303e-01\n",
      "  5.37237867e-01 5.68247634e-01 4.72270599e-01 1.22883209e-01\n",
      "  4.01980660e-01 5.55367734e-01 8.59637497e-01 1.66045691e-01\n",
      "  5.96108186e-01 2.58524373e-01 6.85759407e-01 8.77958714e-01\n",
      "  6.14621983e-01 2.67611891e-01 8.16612533e-02 9.08160129e-01]]\n"
     ]
    }
   ],
   "source": [
    "# Random methods in numpy\n",
    "\n",
    "a=np.random.rand(10,100) # np.random.rand - it is a function to create an array of random numbers with the given shape(shape- (2,3) means 2 rows and 3 columns)\n",
    "print(a) "
   ]
  },
  {
   "cell_type": "code",
   "execution_count": null,
   "id": "ea02d4ec",
   "metadata": {},
   "outputs": [
    {
     "name": "stdout",
     "output_type": "stream",
     "text": [
      "1\n"
     ]
    }
   ],
   "source": [
    "# Rank - How rows or columns are independent ,\n",
    "#  if it is dependet to any another column,\n",
    "#  we dont consider the independent one\n",
    "import numpy as np\n",
    "v1=np.array([[1,2],[2,4],[4,8]]) # when we multiplle 1st column with 2, we get the second column, so they are dependent\n",
    "# 2nd and 3rd column are dependent on 1st column so the first column is independent\n",
    "print(np.linalg.matrix_rank(v1)) # np.linalg.matrix_rank - it is a function to get the rank of a matrix"
   ]
  },
  {
   "cell_type": "code",
   "execution_count": null,
   "id": "6ff6e37f",
   "metadata": {},
   "outputs": [],
   "source": [
    "\n",
    "# visualization libraries in Python\n",
    "\n",
    "# packages\n",
    "\n",
    "# matplotlib - it is a library for plotting graphs in Python\n",
    "# seaborn - it is a library for statistical data visualization in Python\n",
    "# plotly - it is a library for interactive data visualization in Python"
   ]
  },
  {
   "cell_type": "code",
   "execution_count": null,
   "id": "e4a86451",
   "metadata": {},
   "outputs": [],
   "source": [
    "pip install matplotlib"
   ]
  },
  {
   "cell_type": "code",
   "execution_count": 24,
   "id": "e7b21b71",
   "metadata": {},
   "outputs": [
    {
     "data": {
      "image/png": "[encoded data removed]",
      "text/plain": [
       "<Figure size 640x480 with 1 Axes>"
      ]
     },
     "metadata": {},
     "output_type": "display_data"
    }
   ],
   "source": [
    "# matplotlib\n",
    "import matplotlib.pyplot as plt # matplotlib.pyplot - it is a module in matplotlib for plotting graphs\n",
    "# import seaborn as sns # seaborn - it is a library for statistical data visualization in Python\n",
    "# import plotly \n",
    "\n",
    "a=plt.quiver(1,0,0,2,color=\"red\") #color=\"red\" - it is used to set the color of the vector field\n",
    "b=plt.quiver(2,3,2,3,color=\"green\") # plt.quiver - it is a function to plot a vector field\n",
    "plt.xlim(-5,1) # plt.xlim - it is a function to set the x-axis limits of the plot\n",
    "plt.ylim(-5,1) # plt.ylim - it is a function to set the y-axis limits of the plot\n",
    "plt.show() # plt.show - it is a function to display the plot"
   ]
  },
  {
   "cell_type": "code",
   "execution_count": null,
   "id": "eb1a3bd6",
   "metadata": {},
   "outputs": [],
   "source": [
    "pip install seaborn\n"
   ]
  },
  {
   "cell_type": "code",
   "execution_count": null,
   "id": "9f1a7d0b",
   "metadata": {},
   "outputs": [],
   "source": [
    "pip install plotly"
   ]
  },
  {
   "cell_type": "code",
   "execution_count": null,
   "id": "9b8fd847",
   "metadata": {},
   "outputs": [],
   "source": []
  }
 ],
 "metadata": {
  "kernelspec": {
   "display_name": "Python 3",
   "language": "python",
   "name": "python3"
  },
  "language_info": {
   "codemirror_mode": {
    "name": "ipython",
    "version": 3
   },
   "file_extension": ".py",
   "mimetype": "text/x-python",
   "name": "python",
   "nbconvert_exporter": "python",
   "pygments_lexer": "ipython3",
   "version": "3.12.5"
  }
 },
 "nbformat": 4,
 "nbformat_minor": 5
}
