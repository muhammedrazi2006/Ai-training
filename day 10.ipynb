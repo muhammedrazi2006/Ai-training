{
 "cells": [
  {
   "cell_type": "code",
   "execution_count": null,
   "id": "7cf3c260",
   "metadata": {},
   "outputs": [],
   "source": [
    "# DAY -09- Dunder methods(double underscore methods)\n",
    "\n",
    "# Dunder methods - it is a special method which is used to perform the operations like addition,subtraction ect... \n",
    "# like\n",
    "# __init__() - it is used to initialize the class\n",
    "# __str__() - it is used to print the class object in a readable format\n",
    "# __add__() - it is used to add two objects\n",
    "# __sub__() - it is used to subtract two objects\n",
    "# __mul__() - it is used to multiply two objects\n",
    "# __truediv__() - it is used to divide two objects  \n",
    "# __repr__() - it is used to represent the class object in a readable format\n",
    "# __len__() - it is used to get the length of the class object\n",
    "# __getitem__() - it is used to get the item from the class object\n",
    "# ect.........................................................\n",
    "\n"
   ]
  },
  {
   "cell_type": "code",
   "execution_count": 2,
   "id": "279a2d29",
   "metadata": {},
   "outputs": [
    {
     "name": "stdout",
     "output_type": "stream",
     "text": [
      "godson\n",
      "2020-10-06\n",
      "datetime.date(2002, 11, 5)\n",
      "object is deleted\n"
     ]
    }
   ],
   "source": [
    "from datetime import date # it is used to get the date from the system its a package\n",
    "\n",
    "class person():\n",
    "    def __init__(self,name):\n",
    "        self.name=name\n",
    "    def __str__(self):  # __str__ only for string representation not integer\n",
    "        return self.name  # it is used to print the class object in a readable format\n",
    "    def __repr__(self):  # __repr__ is used to  represent the class objectin a readable format\n",
    "        return self.name\n",
    "    def __del__(self):  # it is used to delete the class object\n",
    "        print(\"object is deleted\")\n",
    "\n",
    "p1=person(\"godson\")\n",
    "print(p1)  # it will give the memory location of the object\n",
    "d=date(year=2020,month=10,day=6)\n",
    "print(d)  # it will give the date in a readable format\n",
    "\n",
    "y=date(2002,11,5)\n",
    "print(repr(y))\n",
    "\n",
    "del p1\n"
   ]
  },
  {
   "cell_type": "code",
   "execution_count": 3,
   "id": "4db1378a",
   "metadata": {},
   "outputs": [
    {
     "name": "stdout",
     "output_type": "stream",
     "text": [
      " (20,50)\n",
      " (0,-30)\n",
      " (100,400)\n",
      " (True,False)\n"
     ]
    }
   ],
   "source": [
    "class person():\n",
    "    def __init__(self,x,y):\n",
    "        self.x=x\n",
    "        self.y=y    \n",
    "    \n",
    "    def __add__(self,other):  # it is used to add two objects\n",
    "        return person(self.x+other.x,self.y+other.y)  # it will return a new object with the sum of the two objects\n",
    "    def __sub__(self,other):  # it is used to diffre two objects\n",
    "        return person(self.x-other.x,self.y-other.y)\n",
    "    def __mul__(self,other):  # it is used to multiply two objects\n",
    "        return person(self.x*other.x,self.y*other.y)\n",
    "    def __eq__(self,other):  # it is used to check the equality of two objects\n",
    "        return person(self.x==other.x,self.y==other.y)\n",
    "    \n",
    "    # __lt__() - it is used to check the less than condition\n",
    "    # __gt__() - it is used to check the greater than condition\n",
    "    # __le__() - it is used to check the less than or equal to condition\n",
    "    # __ge__() - it is used to check the greater than or equal to condition\n",
    "    # __ne__() - it is used to check the not equal to condition\n",
    "\n",
    "\n",
    "\n",
    "\n",
    "\n",
    "    def __repr__(self):\n",
    "        return f\" ({self.x},{self.y})\"\n",
    "p1=person(10,10)\n",
    "p2=person(10,40)\n",
    "print(p1+p2)\n",
    "print(p1-p2)\n",
    "print(p1*p2)\n",
    "print(p1==p2)"
   ]
  },
  {
   "cell_type": "code",
   "execution_count": 4,
   "id": "d82fde21",
   "metadata": {},
   "outputs": [],
   "source": [
    "\n",
    "\n",
    "# __len__() - it is used to get the length of the class object\n",
    "# __abs__() - it is used to get the absolute value of the class object\n",
    "# __getitem__() - it is used to get the item from the class object\n",
    "# __setitem__() - it is used to set the item in the class object\n",
    "# __contains__() - it is used to check if the item is present in the class object\n",
    "# __call__() - it is used to call the class object like a function\n",
    "# __hash__() - it is used to get the hash value of the class object\n",
    "# __iter__() - it is used to iterate over the class object\n",
    "# __next__() - it is used to get the next item from the class object"
   ]
  },
  {
   "cell_type": "code",
   "execution_count": 5,
   "id": "b18b40b5",
   "metadata": {},
   "outputs": [
    {
     "name": "stdout",
     "output_type": "stream",
     "text": [
      "5\n",
      "False\n",
      "20\n"
     ]
    }
   ],
   "source": [
    "#  find the list of values\n",
    "\n",
    "class person():\n",
    "    def __init__(self,data):\n",
    "        self.data=data\n",
    "    def __len__(self): # it is used to get the length of the class object\n",
    "             return len(self.data)\n",
    "    def __contains__(self,item):  # it is used to check if the item is present in the class object\n",
    "            return item in self.data\n",
    "    def __getitem__(self,index):  # it is used to get the item from the class object\n",
    "          return self.data[index]\n",
    "m1=person([10,20,30,40,50])\n",
    "print(len(m1))\n",
    "print(35 in m1)\n",
    "print(m1[1])"
   ]
  },
  {
   "cell_type": "code",
   "execution_count": null,
   "id": "a52ec479",
   "metadata": {},
   "outputs": [],
   "source": []
  },
  {
   "cell_type": "code",
   "execution_count": null,
   "id": "d7f8a1ab",
   "metadata": {},
   "outputs": [],
   "source": []
  }
 ],
 "metadata": {
  "kernelspec": {
   "display_name": "Python 3",
   "language": "python",
   "name": "python3"
  },
  "language_info": {
   "codemirror_mode": {
    "name": "ipython",
    "version": 3
   },
   "file_extension": ".py",
   "mimetype": "text/x-python",
   "name": "python",
   "nbconvert_exporter": "python",
   "pygments_lexer": "ipython3",
   "version": "3.12.5"
  }
 },
 "nbformat": 4,
 "nbformat_minor": 5
}
