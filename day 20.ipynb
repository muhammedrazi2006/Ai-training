{
 "cells": [
  {
   "cell_type": "code",
   "execution_count": 14,
   "id": "c934e7a6",
   "metadata": {},
   "outputs": [
    {
     "data": {
      "text/plain": [
       "'\\n- push()- to insert\\n- pop()-to remove\\n- top() or peek()- it returns top of the element from the stack\\n- Isempty- checks wether the stack is empty or not\\n- size-the size of the stack\\n\\n'"
      ]
     },
     "execution_count": 14,
     "metadata": {},
     "output_type": "execute_result"
    }
   ],
   "source": [
    "\n",
    "# DSA concept\n",
    "\n",
    "'''\n",
    "-stack -    LIFO(last in first out)\n",
    "-queue -    FIFO(first in first out)\n",
    "-linear data structure - when the time complexity is O(1) we said its linear data structure\n",
    "'''\n",
    "# stack methods\n",
    "\n",
    "'''\n",
    "- push()- to insert\n",
    "- pop()-to remove\n",
    "- top() or peek()- it returns top of the element from the stack\n",
    "- Isempty- checks wether the stack is empty or not\n",
    "- size-the size of the stack\n",
    "\n",
    "'''"
   ]
  },
  {
   "cell_type": "code",
   "execution_count": 15,
   "id": "070d14e7",
   "metadata": {},
   "outputs": [
    {
     "name": "stdout",
     "output_type": "stream",
     "text": [
      "[5, 7, 2, 1]\n",
      "1\n",
      "[5, 7, 2]\n",
      "False\n",
      "2\n",
      "3\n"
     ]
    }
   ],
   "source": [
    "class stack():\n",
    "\n",
    "    def __init__(self):\n",
    "        self.stack=[]\n",
    "\n",
    "    def push(self,elements):\n",
    "        self.stack.append(elements)\n",
    "        \n",
    "    def pop(self):\n",
    "        if self.is_empty():\n",
    "            print(\"the stack is empty so we cant pop\")\n",
    "        return self.stack.pop()\n",
    "    def peek(self):\n",
    "        return self.stack[-1]\n",
    "    def is_empty(self):\n",
    "        return len(self.stack)==0\n",
    "    def size(self):\n",
    "        return len(self.stack)\n",
    "    def display(self):\n",
    "        return self.stack\n",
    "\n",
    "        \n",
    "\n",
    "\n",
    "mystack=stack()\n",
    "mystack.push(5)\n",
    "mystack.push(7)\n",
    "mystack.push(2)\n",
    "mystack.push(1)\n",
    "print(mystack.display())\n",
    "print(mystack.pop())\n",
    "print(mystack.display())\n",
    "print(mystack.is_empty())\n",
    "print(mystack.peek())\n",
    "print(mystack.size())\n",
    "\n"
   ]
  },
  {
   "cell_type": "code",
   "execution_count": 52,
   "id": "2afb1bc6",
   "metadata": {},
   "outputs": [
    {
     "name": "stdout",
     "output_type": "stream",
     "text": [
      "stack1- [1]\n",
      "minimum stack- [1]\n",
      "stack1- [1, -2]\n",
      "minimum stack- [1, -2]\n",
      "stack1- [1, -2, 5]\n",
      "stack1- [1, -2, 5, 7]\n",
      "7\n",
      "5\n",
      "-2\n"
     ]
    }
   ],
   "source": [
    "# there is a main stack and in min stack vakues are same nut the last value is not present \n",
    "# to get the min stack \n",
    "\n",
    "\n",
    "\n",
    "class minstack:\n",
    "    def __init__(self):\n",
    "        self.stack=[]\n",
    "        self.min_stack=[]\n",
    "    def push(self,value):\n",
    "        self.stack.append(value)\n",
    "        print(\"stack1-\",self.stack)\n",
    "        if not self.min_stack or value <=self.min_stack[-1]:\n",
    "            self.min_stack.append(value)\n",
    "            print(\"minimum stack-\",self.min_stack)\n",
    "    def pop(self):\n",
    "        if self.stack[-1] == self.min_stack[-1]:\n",
    "            return self.stack[-1]\n",
    "        else:\n",
    "            return self.stack.pop()\n",
    "    def top(self):\n",
    "        return self.stack[-1]\n",
    "    def get_min(self):\n",
    "        return self.min_stack[-1]\n",
    "a1=minstack()\n",
    "a1.push(1)\n",
    "a1.push(-2)\n",
    "a1.push(5)\n",
    "a1.push(7)\n",
    "print(a1.pop())\n",
    "print(a1.top())\n",
    "print(a1.get_min())"
   ]
  },
  {
   "cell_type": "code",
   "execution_count": 17,
   "id": "8544a314",
   "metadata": {},
   "outputs": [
    {
     "name": "stdout",
     "output_type": "stream",
     "text": [
      "True\n"
     ]
    }
   ],
   "source": [
    "# if # present pop the value before hash \n",
    "# if the list are same print true\n",
    "\n",
    "\n",
    "\n",
    "s=\"ab#c\"\n",
    "t=\"ab#c\"\n",
    "\n",
    "s1=[]\n",
    "s2=[]\n",
    "\n",
    "for i in s:\n",
    "    if i != \"#\":\n",
    "        s1.append(i)\n",
    "    elif s1:\n",
    "        s1.pop()\n",
    "for i in s:\n",
    "    if i != \"#\":\n",
    "        s2.append(i)\n",
    "    elif s2:\n",
    "        s2.pop()\n",
    "print(s1==s2)"
   ]
  },
  {
   "cell_type": "code",
   "execution_count": 7,
   "id": "66517e65",
   "metadata": {},
   "outputs": [
    {
     "name": "stdout",
     "output_type": "stream",
     "text": [
      "[1]\n",
      "[1, 3]\n",
      "[1, 3, 4]\n",
      "[3, 4]\n",
      "3\n"
     ]
    }
   ],
   "source": [
    "class queue():\n",
    "    def __init__(self):\n",
    "        self.q=[]\n",
    "    def enqueue(self,val):\n",
    "        self.q.append(val)\n",
    "        return self.q\n",
    "    def dequeue(self,rem):\n",
    "        d=self.q.pop(rem)\n",
    "        return self.q\n",
    "    def is_empty(self):\n",
    "        return len(self.q)==0\n",
    "    def peek(self):\n",
    "        if not self.is_empty():\n",
    "            return self.q[0]\n",
    "        return \"queue is empty\"\n",
    "d1=queue()\n",
    "print(d1.enqueue(1))\n",
    "print(d1.enqueue(3))\n",
    "print(d1.enqueue(4))\n",
    "print(d1.dequeue(0))\n",
    "print(d1.peek())\n"
   ]
  },
  {
   "cell_type": "code",
   "execution_count": 50,
   "id": "3bac7b29",
   "metadata": {},
   "outputs": [
    {
     "name": "stdout",
     "output_type": "stream",
     "text": [
      "stack1- [1]\n",
      "[1]\n",
      "stack1- [1, 2]\n",
      "[1, 2]\n",
      "stack1- [1, 2, 3]\n",
      "[1, 2, 3]\n",
      "stack2- [3]\n",
      "stack2- [3, 2]\n",
      "stack2- [3, 2, 1]\n"
     ]
    },
    {
     "data": {
      "text/plain": [
       "2"
      ]
     },
     "execution_count": 50,
     "metadata": {},
     "output_type": "execute_result"
    }
   ],
   "source": [
    "# implement queue concept on stack\n",
    "\n",
    "class queue():\n",
    "    def __init__(self):\n",
    "        self.stack1=[]\n",
    "        self.stack2=[]\n",
    "    def enqueue(self,val):\n",
    "        self.stack1.append(val)\n",
    "        print(\"stack1-\",self.stack1)\n",
    "        return self.stack1\n",
    "        \n",
    "    def dequeue(self):\n",
    "        if not self.stack2:\n",
    "            while self.stack1:\n",
    "                self.stack2.append(self.stack1.pop())\n",
    "                print(\"stack2-\",self.stack2)\n",
    "        return self.stack2.pop()\n",
    "\n",
    "    def peek(self):\n",
    "        if not self.stack2:\n",
    "            while self.stack1:\n",
    "                self.stack2.append(self.stack1.pop())\n",
    "        return self.stack2[-1]\n",
    "        \n",
    "    def is_empty(self):\n",
    "         if not self.stack2 and not self.stack1:\n",
    "             return \"empty\"\n",
    "q1=queue()\n",
    "print(q1.enqueue(1))\n",
    "print(q1.enqueue(2))\n",
    "print(q1.enqueue(3))\n",
    "\n",
    "q1.dequeue()\n",
    "\n",
    "q1.peek()\n"
   ]
  },
  {
   "cell_type": "code",
   "execution_count": null,
   "id": "996ebb15",
   "metadata": {},
   "outputs": [
    {
     "name": "stdout",
     "output_type": "stream",
     "text": [
      "deque([15, 5, 10, 9])\n",
      "9\n",
      "15\n",
      "deque([5, 10])\n"
     ]
    }
   ],
   "source": [
    "from collections import deque\n",
    "\n",
    "dq=deque()\n",
    "dq.append(10)\n",
    "dq.appendleft(5)\n",
    "dq.append(9)\n",
    "dq.appendleft(15)\n",
    "print(dq)\n",
    "print(dq.pop())\n",
    "print(dq.popleft())\n",
    "print(dq)"
   ]
  },
  {
   "cell_type": "code",
   "execution_count": null,
   "id": "0ad6267a",
   "metadata": {},
   "outputs": [],
   "source": []
  }
 ],
 "metadata": {
  "kernelspec": {
   "display_name": "Python 3",
   "language": "python",
   "name": "python3"
  },
  "language_info": {
   "codemirror_mode": {
    "name": "ipython",
    "version": 3
   },
   "file_extension": ".py",
   "mimetype": "text/x-python",
   "name": "python",
   "nbconvert_exporter": "python",
   "pygments_lexer": "ipython3",
   "version": "3.12.5"
  }
 },
 "nbformat": 4,
 "nbformat_minor": 5
}
