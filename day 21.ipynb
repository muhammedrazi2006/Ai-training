{
 "cells": [
  {
   "cell_type": "code",
   "execution_count": null,
   "id": "c68413e2",
   "metadata": {},
   "outputs": [],
   "source": [
    "# RECURTION - calling the function inside a function"
   ]
  },
  {
   "cell_type": "code",
   "execution_count": 1,
   "id": "ca62f25a",
   "metadata": {},
   "outputs": [
    {
     "name": "stdout",
     "output_type": "stream",
     "text": [
      "dosa ready\n",
      "dosa ready\n",
      "dosa ready\n",
      "dosa ready\n",
      "dosa ready\n",
      "dosa ready\n",
      "dosa ready\n",
      "dosa ready\n",
      "dosa ready\n"
     ]
    },
    {
     "data": {
      "text/plain": [
       "' only one left '"
      ]
     },
     "execution_count": 1,
     "metadata": {},
     "output_type": "execute_result"
    }
   ],
   "source": [
    "def dosai(dosamavu):\n",
    "    if dosamavu==1:\n",
    "        return \" only one left \"\n",
    "    else:\n",
    "        print(\"dosa ready\")\n",
    "        return dosai(dosamavu-1)  # recursive line\n",
    "dosai(10)\n"
   ]
  },
  {
   "cell_type": "code",
   "execution_count": null,
   "id": "cc6cdc0e",
   "metadata": {},
   "outputs": [
    {
     "data": {
      "text/plain": [
       "5040"
      ]
     },
     "execution_count": 6,
     "metadata": {},
     "output_type": "execute_result"
    }
   ],
   "source": [
    "# without recurtion\n",
    "\n",
    "def fact(n):\n",
    "    res=1\n",
    "    for i in range(2,n+1):\n",
    "        res*=i\n",
    "    return res\n",
    "fact(7)"
   ]
  },
  {
   "cell_type": "code",
   "execution_count": 11,
   "id": "e0312f8c",
   "metadata": {},
   "outputs": [
    {
     "data": {
      "text/plain": [
       "24"
      ]
     },
     "execution_count": 11,
     "metadata": {},
     "output_type": "execute_result"
    }
   ],
   "source": [
    "# with recurtion\n",
    "\n",
    "def fact(n):\n",
    "    if n==1:\n",
    "        return 1 \n",
    "    else:\n",
    "        return n*fact(n-1)\n",
    "fact(4)\n",
    "\n",
    "\n",
    "\n",
    "# or \n",
    "\n",
    "\n",
    "\n",
    "\n",
    "def fact(n):\n",
    "    if n>1:\n",
    "        return n*fact(n-1)\n",
    "    return n \n",
    "fact(4)"
   ]
  },
  {
   "cell_type": "code",
   "execution_count": null,
   "id": "4338f261",
   "metadata": {},
   "outputs": [
    {
     "name": "stdout",
     "output_type": "stream",
     "text": [
      "8\n"
     ]
    }
   ],
   "source": [
    "# fobnocci series\n",
    "\n",
    "def fibno(n):\n",
    "    for i in range(n,n+1):\n",
    "        if n<=1:\n",
    "            return n \n",
    "            \n",
    "        else:\n",
    "            return fibno(n-1)+fibno(n-2)\n",
    "print(fibno(6))\n",
    "\n",
    "\n",
    "\n",
    "\n",
    "\n",
    "\n",
    "# for i in range(n,n+1)\n",
    "\n",
    "# f(0)=0  f(n)=f((n-1)+(n-2))\n",
    "\n",
    "# f(1)=1\n",
    "# f(2)=0+1=1\n",
    "# f(3)=1+1=2\n",
    "# f(4)=1+2=3\n",
    "# f(5)=2+3=5\n",
    "# f(6)=3+5=8\n"
   ]
  },
  {
   "cell_type": "code",
   "execution_count": null,
   "id": "9e3b7f22",
   "metadata": {},
   "outputs": [
    {
     "data": {
      "text/plain": [
       "8"
      ]
     },
     "execution_count": 44,
     "metadata": {},
     "output_type": "execute_result"
    }
   ],
   "source": [
    "# another method\n",
    "\n",
    "def fibo(n):\n",
    "    a=0\n",
    "    b=1\n",
    "    if n==0:\n",
    "        return 0\n",
    "    elif n==1:\n",
    "        return 1\n",
    "    \n",
    "    for i in range(2,n+1):\n",
    "        temp=a+b\n",
    "        a=b\n",
    "        b=temp\n",
    "    return b\n",
    "fibo(6)\n",
    "\n",
    "# for i in range (2,n+1)\n",
    "\n",
    "# f(0)=0  f(n)=f((n-1)+(n-2))\n",
    "\n",
    "# f(1)=1\n",
    "# f(2)=1+2=3\n",
    "# f(3)=2+3=5\n",
    "# f(4)=3+5=8\n",
    "# f(5)=5+8=13\n",
    "# f(6)=8+13=21"
   ]
  },
  {
   "cell_type": "code",
   "execution_count": 47,
   "id": "09f9b8fc",
   "metadata": {},
   "outputs": [
    {
     "data": {
      "text/plain": [
       "10"
      ]
     },
     "execution_count": 47,
     "metadata": {},
     "output_type": "execute_result"
    }
   ],
   "source": [
    "# sum of digit\n",
    "\n",
    "def sum_of_digit(n):\n",
    "    sum=0\n",
    "    while n>0:\n",
    "        sum+=n%10 #1234 take the last element 4\n",
    "        n=n//10 # remove the last element remove 4 then 123 is remain\n",
    "    return sum\n",
    "sum_of_digit(1234)\n",
    "\n",
    "\n",
    "\n",
    "\n",
    "\n",
    "# using recurtion \n",
    "\n",
    "\n",
    "def sum_of_digit(n):\n",
    "    if n==0:\n",
    "        return 0\n",
    "    return  (n%10) +sum_of_digit(n//10)\n",
    "sum_of_digit(1234)"
   ]
  },
  {
   "cell_type": "code",
   "execution_count": null,
   "id": "5c724a49",
   "metadata": {},
   "outputs": [
    {
     "name": "stdout",
     "output_type": "stream",
     "text": [
      "4\n"
     ]
    }
   ],
   "source": [
    "'''\n",
    "Imagine you have a stack of coins\n",
    "you want to count how many coins are in the stack\n",
    "but you can remove only one at a time and remove it to a back\n",
    "#write a recursive fn \n",
    "'''\n",
    "\n",
    "\n",
    "list1=[1,1,0,1,1]\n",
    "count=0\n",
    "\n",
    "for i in list1:\n",
    "    if i==1:\n",
    "        count+=1\n",
    "print(count)\n",
    "\n",
    "\n",
    "\n",
    "# using recurtion\n",
    "def count_coin(list1):\n",
    "    if not list1:\n",
    "        return 0\n",
    "    return list1.pop(0) + count_coin(list1)\n",
    "list1=[1,1,0,1,1]\n",
    "print(count_coin(list1))\n",
    "    \n",
    "\n",
    "\n"
   ]
  },
  {
   "cell_type": "code",
   "execution_count": null,
   "id": "32f3ef9c",
   "metadata": {},
   "outputs": [
    {
     "name": "stdout",
     "output_type": "stream",
     "text": [
      "10\n",
      "20\n",
      "40\n",
      "30\n",
      "total- 100\n"
     ]
    }
   ],
   "source": [
    "'''folder 1 contains - 10 files and another file 20\n",
    "folder 2 contains 2 file 40,30 files are there\n",
    "\n",
    "using recurtion find the total file \n",
    "'''\n",
    "\n",
    "folder1={\"file1\":10,\"folder2\":{\"file2\":40,\"file3\":30},\"file4\":20}\n",
    "\n",
    "\n",
    "for i in folder1:\n",
    "    f1=folder1.get(\"file1\")\n",
    "    f4=folder1.get(\"file4\")\n",
    "    for j in folder1[\"folder2\"]:\n",
    "        \n",
    "        s=folder1[\"folder2\"].values()\n",
    "        f2=folder1[\"folder2\"].get(\"file2\")\n",
    "        f3=folder1[\"folder2\"].get(\"file3\")\n",
    "\n",
    "count=f1+f2+f3+f4\n",
    "print(f1)\n",
    "print(f4)\n",
    "# print(s)\n",
    "\n",
    "print(f2)\n",
    "print(f3)\n",
    "print(\"total-\",count)\n"
   ]
  },
  {
   "cell_type": "code",
   "execution_count": null,
   "id": "d312c85c",
   "metadata": {},
   "outputs": [
    {
     "name": "stdout",
     "output_type": "stream",
     "text": [
      "100\n"
     ]
    }
   ],
   "source": [
    "# another method\n",
    "# recursive method\n",
    "\n",
    "\n",
    "def folder_name(folder):\n",
    "    total=0\n",
    "    for key,values in folder.items():\n",
    "        if isinstance(values,dict):  # isinstance - used for accessing depper to a dictionary when a subfolder inside a folder in dict format \n",
    "            total+=folder_name(values) #-recursive\n",
    "        else:\n",
    "\n",
    "            total+=values\n",
    "    return total\n",
    "folder1={\"file1\":10,\"folder2\":{\"file2\":40,\"file3\":30},\"file4\":20}\n",
    "print(folder_name(folder1))"
   ]
  },
  {
   "cell_type": "code",
   "execution_count": null,
   "id": "70f63083",
   "metadata": {},
   "outputs": [],
   "source": [
    "# BACKTRACKING"
   ]
  },
  {
   "cell_type": "code",
   "execution_count": null,
   "id": "0bb318bd",
   "metadata": {},
   "outputs": [],
   "source": [
    "\n",
    "# choice,explore,backtrack\n",
    "\n",
    "'''\n",
    "function backtracking(state):\n",
    "    if state in solution:\n",
    "        return state (base case)\n",
    "    for choice in all possible choices:\n",
    "        if choice is valid:\n",
    "            make choice\n",
    "            result=backtracking(state with choice)\n",
    "            if reult is not failure:\n",
    "                return result\n",
    "            undo choice\n",
    "    return failure\n",
    "    \n",
    "\n",
    "'''"
   ]
  },
  {
   "cell_type": "code",
   "execution_count": 2,
   "id": "e756d9db",
   "metadata": {},
   "outputs": [
    {
     "name": "stdout",
     "output_type": "stream",
     "text": [
      "[1, 2, 3]\n",
      "[1, 3, 2]\n",
      "[2, 1, 3]\n",
      "[2, 3, 1]\n",
      "[3, 1, 2]\n",
      "[3, 2, 1]\n"
     ]
    }
   ],
   "source": [
    "# Pin number\n",
    "def pin_number(path, digits, used, result):\n",
    "    if len(path) == len(digits):\n",
    "        result.append(path.copy())  # store Pin valid\n",
    "        return  # base case\n",
    "    for i in range(len(digits)):\n",
    "        if not used[i]:\n",
    "            used[i] = True\n",
    "            path.append(digits[i])\n",
    "            pin_number(path, digits, used, result)  # Backtracking\n",
    "            path.pop()\n",
    "            used[i] = False\n",
    "result = []\n",
    "digits = [1, 2, 3]\n",
    "used = [False] * len(digits)\n",
    "\n",
    "pin_number([], digits, used, result)\n",
    "\n",
    "for i in result:\n",
    "    print(i)"
   ]
  },
  {
   "cell_type": "code",
   "execution_count": null,
   "id": "6be3cbfd",
   "metadata": {},
   "outputs": [],
   "source": []
  },
  {
   "cell_type": "code",
   "execution_count": null,
   "id": "2fdc8dbd",
   "metadata": {},
   "outputs": [],
   "source": []
  }
 ],
 "metadata": {
  "kernelspec": {
   "display_name": "Python 3",
   "language": "python",
   "name": "python3"
  },
  "language_info": {
   "codemirror_mode": {
    "name": "ipython",
    "version": 3
   },
   "file_extension": ".py",
   "mimetype": "text/x-python",
   "name": "python",
   "nbconvert_exporter": "python",
   "pygments_lexer": "ipython3",
   "version": "3.12.5"
  }
 },
 "nbformat": 4,
 "nbformat_minor": 5
}
