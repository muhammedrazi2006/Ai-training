{
 "cells": [
  {
   "cell_type": "code",
   "execution_count": null,
   "id": "efa02d6b",
   "metadata": {},
   "outputs": [],
   "source": [
    "# HASHING\n"
   ]
  },
  {
   "cell_type": "code",
   "execution_count": null,
   "id": "5b6ce252",
   "metadata": {},
   "outputs": [
    {
     "name": "stdout",
     "output_type": "stream",
     "text": [
      "1001530723631931975\n",
      "78\n",
      "1152921504606847011\n",
      "0\n"
     ]
    }
   ],
   "source": [
    "# converts the data into a fixed value using hash function\n",
    "# hash()\n",
    "print(hash(\"godson\"))\n",
    "print(hash(78))\n",
    "print(hash(35.50))\n",
    "print(hash(False))\n",
    "# why we use hashing - o(n^2),o(n)\n",
    "# hash maps, #hash sets"
   ]
  },
  {
   "cell_type": "code",
   "execution_count": null,
   "id": "d04dc879",
   "metadata": {},
   "outputs": [],
   "source": [
    "# Time  complexity- how much it will take to execute a program\n",
    "# Space complexity- how much space required to perform the program\n",
    "\n",
    "n=10\n",
    "for i in range(n):\n",
    "    print (i)         # when we use single forloop complexity=O(n)\n",
    "\n",
    "\n",
    "\n",
    "\n",
    "n=10\n",
    "list1=[1,2,3,4,5]   #o(1)\n",
    "for i in range(n):\n",
    "    for j in range(n+2):     # when we use double forloop complexity=O(n^2)\n",
    "        print (i)  \n",
    "\n",
    "# we are performing searching,tree  - O(log n)"
   ]
  },
  {
   "cell_type": "code",
   "execution_count": 5,
   "id": "9cab342c",
   "metadata": {},
   "outputs": [
    {
     "name": "stdout",
     "output_type": "stream",
     "text": [
      "1944547111937328755\n",
      "-838000351516261101\n",
      "2962886608892387609\n"
     ]
    }
   ],
   "source": [
    "list1=[\"cheri\",\"pinky\",\"tom\"]\n",
    "for i in list1:\n",
    "    print(hash(i))"
   ]
  },
  {
   "cell_type": "code",
   "execution_count": null,
   "id": "94ee3d29",
   "metadata": {},
   "outputs": [],
   "source": [
    "# hash set - when we apply hash in set concept\n",
    "\n",
    "# hash map - when we apply hash in dictionary concept\n",
    "\n",
    "# methods (packages)- counter,dict,defaultdict"
   ]
  },
  {
   "cell_type": "code",
   "execution_count": null,
   "id": "877b2631",
   "metadata": {},
   "outputs": [
    {
     "name": "stdout",
     "output_type": "stream",
     "text": [
      "{'g': 2, 'o': 3, 'd': 1, ' ': 1, 'm': 1, 'r': 1, 'n': 2, 'i': 1}\n"
     ]
    }
   ],
   "source": [
    "# take a input (ex.good morning).need to count the character\n",
    "#  dict method\n",
    "\n",
    "s=\"good morning\"\n",
    "count={}\n",
    "for i in s:\n",
    "    if i not in count:\n",
    "        count[i]=1\n",
    "    else:\n",
    "        count[i]+=1\n",
    "\n",
    "print(count)\n",
    "\n"
   ]
  },
  {
   "cell_type": "code",
   "execution_count": 16,
   "id": "936312d7",
   "metadata": {},
   "outputs": [
    {
     "name": "stdout",
     "output_type": "stream",
     "text": [
      "Counter({'a': 3, 'n': 2, 'b': 1})\n"
     ]
    }
   ],
   "source": [
    "# without for loop  and using hashing methods\n",
    "# counter method\n",
    "\n",
    "from collections import Counter\n",
    "a=\"banana\"\n",
    "print(Counter(a))"
   ]
  },
  {
   "cell_type": "code",
   "execution_count": 2,
   "id": "5b827d8e",
   "metadata": {},
   "outputs": [
    {
     "name": "stdout",
     "output_type": "stream",
     "text": [
      "134719276196374590\n",
      "-1769659327385767872\n"
     ]
    }
   ],
   "source": [
    "# counterr,dict,defaultdict,set\n",
    "\n",
    "person = {\"name\":\"avani\",\"age\":40}\n",
    "print(hash(\"name\"))\n",
    "print(hash(\"age\"))\n",
    "\n",
    "    \n",
    "\n"
   ]
  },
  {
   "cell_type": "code",
   "execution_count": null,
   "id": "c9c580bc",
   "metadata": {},
   "outputs": [],
   "source": [
    "# This hash value will help to store and we can find it very fast\n",
    "\n",
    "# hashable - it can be used as dict key or element\n",
    "\n"
   ]
  },
  {
   "cell_type": "code",
   "execution_count": null,
   "id": "1bc6ab82",
   "metadata": {},
   "outputs": [
    {
     "name": "stdout",
     "output_type": "stream",
     "text": [
      "godson\n"
     ]
    }
   ],
   "source": [
    "# custom class using __hash__ and __eq__ function \n",
    "\n",
    "\n",
    "class student():\n",
    "    def __init__(self,roll_no):\n",
    "        self.roll_no=roll_no\n",
    "    \n",
    "    def __hash__(self):\n",
    "        return hash(self.roll_no)\n",
    "    def __eq__(self, value):\n",
    "        return self.roll_no==value.roll_no\n",
    "s1=student(101)\n",
    "s2=student(101)\n",
    "\n",
    "\n",
    "d={}\n",
    "d[s1]=\"godson\"\n",
    "print(d[s2])"
   ]
  },
  {
   "cell_type": "code",
   "execution_count": 12,
   "id": "67a34449",
   "metadata": {},
   "outputs": [
    {
     "name": "stdout",
     "output_type": "stream",
     "text": [
      "-1440972132766430888\n",
      "2269085064738787580\n"
     ]
    }
   ],
   "source": [
    "# HASH COLLISION - two diffrent object may return the same hash value\n",
    "\n",
    "print(hash(\"Aa\"))\n",
    "print(hash(\"Bb\"))"
   ]
  },
  {
   "cell_type": "code",
   "execution_count": null,
   "id": "9d05997b",
   "metadata": {},
   "outputs": [
    {
     "name": "stdout",
     "output_type": "stream",
     "text": [
      "['godson', 'abhi', 'vishal']\n"
     ]
    }
   ],
   "source": [
    "# common words finding\n",
    "\n",
    "\n",
    "lis1=[\"godson\",'abhi',\"godson\",\"vishal\",\"vishal\"]\n",
    "uni=[]\n",
    "for i in lis1:\n",
    "    if i not in uni:\n",
    "        uni.append(i)\n",
    "print(uni)\n"
   ]
  },
  {
   "cell_type": "code",
   "execution_count": 23,
   "id": "19643c61",
   "metadata": {},
   "outputs": [
    {
     "name": "stdout",
     "output_type": "stream",
     "text": [
      "{'vishal', 'godson', 'abhi'}\n"
     ]
    }
   ],
   "source": [
    "# using set\n",
    "\n",
    "lis1=[\"godson\",'abhi',\"godson\",\"vishal\",\"vishal\"]\n",
    "st1=set(lis1)\n",
    "print(st1)\n",
    "\n"
   ]
  },
  {
   "cell_type": "code",
   "execution_count": 25,
   "id": "9f032659",
   "metadata": {},
   "outputs": [
    {
     "name": "stdout",
     "output_type": "stream",
     "text": [
      "['The', 'sat', 'on', 'the']\n"
     ]
    }
   ],
   "source": [
    "a=\"The cat sat on the mat\"\n",
    "b=\"The dog sat on the fog\"\n",
    "list1=[]\n",
    "s_a=a.split()\n",
    "s_b=b.split()\n",
    "for i in s_a:\n",
    "    if i in s_b:\n",
    "        list1.append(i)\n",
    "\n",
    "\n",
    "             \n",
    "\n",
    "print(list1)\n"
   ]
  },
  {
   "cell_type": "code",
   "execution_count": 26,
   "id": "36aac97a",
   "metadata": {},
   "outputs": [
    {
     "name": "stdout",
     "output_type": "stream",
     "text": [
      "['the', 'The', 'on', 'sat']\n"
     ]
    }
   ],
   "source": [
    "a=\"The cat sat on the mat\"\n",
    "b=\"The dog sat on the fog\"\n",
    "lit=[]\n",
    "s_a=a.split()\n",
    "s_b=b.split()\n",
    "\n",
    "\n",
    "set1=set(s_a)\n",
    "set2=set(s_b)\n",
    "\n",
    "for i in set1:\n",
    "    if i in set2:\n",
    "        lit.append(i)\n",
    "print(lit)\n"
   ]
  },
  {
   "cell_type": "code",
   "execution_count": 37,
   "id": "eaf91994",
   "metadata": {},
   "outputs": [
    {
     "name": "stdout",
     "output_type": "stream",
     "text": [
      "[['a1', ['chennai', 'italy']], ['b1', ['goa']]]\n"
     ]
    }
   ],
   "source": [
    "\n",
    "# location grouping\n",
    "def grouping(pairs):\n",
    "\n",
    "    lis=[]\n",
    "    for code,location in pairs:\n",
    "        found=False\n",
    "        for group in lis:\n",
    "            if(group[0]==code):\n",
    "                group[1].append(location)\n",
    "                found=True\n",
    "        if not found:\n",
    "            lis.append([code,[location]])\n",
    "    return lis\n",
    "\n",
    "data=[(\"a1\",\"chennai\"),(\"b1\",\"goa\"),(\"a1\",\"italy\")]\n",
    "print(grouping(data))\n"
   ]
  },
  {
   "cell_type": "code",
   "execution_count": 38,
   "id": "083163b4",
   "metadata": {},
   "outputs": [
    {
     "name": "stdout",
     "output_type": "stream",
     "text": [
      "{'a1': ['chennai', 'italy'], 'b1': ['goa']}\n"
     ]
    }
   ],
   "source": [
    "# hash map(i am usina dictionary cocept here)\n",
    "data=[(\"a1\",\"chennai\"),(\"b1\",\"goa\"),(\"a1\",\"italy\")]\n",
    "dictionary={}\n",
    "for code,location in data:\n",
    "    if code not in dictionary:\n",
    "        dictionary[code]=[]\n",
    "    dictionary[code].append(location)\n",
    "print(dictionary)"
   ]
  },
  {
   "cell_type": "code",
   "execution_count": 53,
   "id": "c9cecdf2",
   "metadata": {},
   "outputs": [
    {
     "name": "stdout",
     "output_type": "stream",
     "text": [
      "[2, 3]\n"
     ]
    }
   ],
   "source": [
    "nums=[4,3,2,7,8,2,3,1]\n",
    "list1=[]\n",
    "list2=[]\n",
    "\n",
    "for i in nums:\n",
    "    if i not in list1:\n",
    "        list1.append(i)\n",
    "    else:\n",
    "        list2.append(i)\n",
    "print(list2)\n",
    "   \n",
    "        \n",
    "\n",
    "        \n",
    "\n",
    "\n",
    "\n",
    "\n"
   ]
  },
  {
   "cell_type": "code",
   "execution_count": 57,
   "id": "642c29b3",
   "metadata": {},
   "outputs": [
    {
     "name": "stdout",
     "output_type": "stream",
     "text": [
      "[4, 9]\n"
     ]
    }
   ],
   "source": [
    "nums1=[4,9,5]\n",
    "nums2=[9,4,9,8,4]\n",
    "list1=[]\n",
    "\n",
    "for i in nums1:\n",
    "    if i in nums2:\n",
    "        list1.append(i)\n",
    "print(list1)\n",
    "        "
   ]
  },
  {
   "cell_type": "code",
   "execution_count": 83,
   "id": "2ec81663",
   "metadata": {},
   "outputs": [
    {
     "name": "stdout",
     "output_type": "stream",
     "text": [
      "0\n"
     ]
    }
   ],
   "source": [
    "nums=[0,1,0,1,1]\n",
    "count=0\n",
    "\n",
    "list1=[]\n",
    "n=len(nums)\n",
    "for i in range(n):\n",
    "    for j in range(i+1,n+1):\n",
    "        list1.append(nums[i:j])\n",
    "if i==0 :\n",
    "    if j==1:\n",
    "        count+=1\n",
    "print(count)"
   ]
  }
 ],
 "metadata": {
  "kernelspec": {
   "display_name": "Python 3",
   "language": "python",
   "name": "python3"
  },
  "language_info": {
   "codemirror_mode": {
    "name": "ipython",
    "version": 3
   },
   "file_extension": ".py",
   "mimetype": "text/x-python",
   "name": "python",
   "nbconvert_exporter": "python",
   "pygments_lexer": "ipython3",
   "version": "3.12.5"
  }
 },
 "nbformat": 4,
 "nbformat_minor": 5
}
