{
 "cells": [
  {
   "cell_type": "code",
   "execution_count": null,
   "id": "bcdebf74",
   "metadata": {},
   "outputs": [],
   "source": [
    "# DAY -07\n",
    "\n",
    "\n",
    "#  THE FOUR PILLARS IN OOPS\n",
    "\n",
    "# if want to work with this pillers we want (class and object)\n",
    "\n",
    "\n",
    "# abstraction - Its hiding the internal informations but its give the neccessary out put (-eg:- we order a juice they give that but we don't know how they prepare that its the hidden information)\n",
    "\n",
    "# encapsulation - wrapping/binding  all data into  one single unit \n",
    "\n",
    "# inheritance -   - it is a process of acquiring the properties and behaviors of another class\n",
    "\n",
    "# polimorphism -  we can perform the same task in many ways\n"
   ]
  },
  {
   "cell_type": "code",
   "execution_count": 2,
   "id": "87e302a6",
   "metadata": {},
   "outputs": [
    {
     "name": "stdout",
     "output_type": "stream",
     "text": [
      "all animal make sound\n",
      "dog barks\n",
      "all animal make sound\n",
      "cat meows\n"
     ]
    }
   ],
   "source": [
    "# inheritance \n",
    "\n",
    "\n",
    "\n",
    "\n",
    "class animal():                   #parent class\n",
    "    def sound(abc):\n",
    "        print(\"all animal make sound\")\n",
    "class dog(animal):                     #child class\n",
    "    def bark(abc):\n",
    "        print(\"dog barks\")\n",
    "class cat(dog):                        #grand child class\n",
    "    def meow(abc):\n",
    "        print(\"cat meows\")\n",
    "d1=dog()\n",
    "d1.sound() \n",
    "d1.bark()\n",
    "c1=cat()\n",
    "c1.sound()\n",
    "c1.meow()           \n"
   ]
  },
  {
   "cell_type": "code",
   "execution_count": 3,
   "id": "321ca3f1",
   "metadata": {},
   "outputs": [
    {
     "name": "stdout",
     "output_type": "stream",
     "text": [
      "My name is godson and my roll number is 101\n",
      "My name is malli and my roll number is 102\n"
     ]
    }
   ],
   "source": [
    "# HOME WORK\n",
    "\n",
    "# 1\n",
    "# STUDENT MANAGEMENT\n",
    "\n",
    "\n",
    "class student():\n",
    "    def __init__(self,name,roll_num):\n",
    "        self.name=name\n",
    "        self.roll_num=roll_num\n",
    "    def display(self):\n",
    "        print(f\"My name is {self.name} and my roll number is {self.roll_num}\")\n",
    "godson=student(\"godson\",101)\n",
    "malli=student(\"malli\",102)\n",
    "godson.display()\n",
    "malli.display()\n"
   ]
  },
  {
   "cell_type": "code",
   "execution_count": 4,
   "id": "240e42e8",
   "metadata": {},
   "outputs": [
    {
     "name": "stdout",
     "output_type": "stream",
     "text": [
      "godson, am a manager and my salary is 400000\n",
      "malli, i am a developer and my salary is 20000\n"
     ]
    }
   ],
   "source": [
    "# 2\n",
    "# employee hierarchy\n",
    "class employee():\n",
    "    def __init__(self,name ,salary):\n",
    "        self.name=name\n",
    "        self.salary=salary  \n",
    "class manager(employee):\n",
    "    def show_role(self):\n",
    "        print(f\"{self.name}, am a manager and my salary is {self.salary}\")\n",
    "class develepor(employee):\n",
    "    def show_role(self):\n",
    "        print(f\"{self.name}, i am a developer and my salary is {self.salary}\")\n",
    "a=manager(\"godson\",400000)\n",
    "a.show_role()\n",
    "b=develepor(\"malli\",20000)\n",
    "b.show_role()\n",
    "\n",
    "\n"
   ]
  },
  {
   "cell_type": "code",
   "execution_count": 5,
   "id": "59546eba",
   "metadata": {},
   "outputs": [
    {
     "name": "stdout",
     "output_type": "stream",
     "text": [
      "flight  from delhi to calicut\n",
      "it connecting to the flight api...\n",
      "the seats are  available.\n",
      "flight founded\n",
      "the flight number is A320\n",
      "the available discounts are done \n",
      "checking the traveler valid documents......\n",
      "ticket confirmed enjoy your flight\n",
      "the tiket was booked succesfully \n"
     ]
    }
   ],
   "source": [
    "# 2.abstraction -   travel booking system\n",
    "\n",
    "# we want to create a booking_system  class \n",
    "# we want to search flight with atributes like starting point ,destination\n",
    "# we want to book the ticket  with attribute flight id\n",
    "# we want to give the hidden informations like cheking flight api, check availablity,add discount,checking doc,ticket booked\n",
    "\n",
    "\n",
    "class booking_system():\n",
    "    def search_flight(self,starting,destination):\n",
    "        print(f\"flight  from {starting} to {destination}\")\n",
    "        self.airplane_line()\n",
    "        self.check_availablity()\n",
    "        print(\"flight founded\")\n",
    "    def book_tiket(self,fligth_id):\n",
    "        print(f\"the flight number is {fligth_id}\")\n",
    "        self.discount()\n",
    "        self.checking_doc()\n",
    "        self.ticket_booked()\n",
    "        print(\"the tiket was booked succesfully \")\n",
    "    \n",
    "    def airplane_line(self):\n",
    "        print(\"it connecting to the flight api...\")\n",
    "    def check_availablity(self):\n",
    "        print(\"the seats are  available.\")\n",
    "    def discount(self):\n",
    "        print(\"the available discounts are done \")\n",
    "    def checking_doc(self):\n",
    "        print(\"checking the traveler valid documents......\")\n",
    "    def ticket_booked(self):\n",
    "        print(\"ticket confirmed enjoy your flight\")\n",
    "b1=booking_system()\n",
    "b1.search_flight(\"delhi\",\"calicut\")\n",
    "b1.book_tiket(\"A320\")"
   ]
  }
 ],
 "metadata": {
  "kernelspec": {
   "display_name": "Python 3",
   "language": "python",
   "name": "python3"
  },
  "language_info": {
   "codemirror_mode": {
    "name": "ipython",
    "version": 3
   },
   "file_extension": ".py",
   "mimetype": "text/x-python",
   "name": "python",
   "nbconvert_exporter": "python",
   "pygments_lexer": "ipython3",
   "version": "3.12.5"
  }
 },
 "nbformat": 4,
 "nbformat_minor": 5
}
