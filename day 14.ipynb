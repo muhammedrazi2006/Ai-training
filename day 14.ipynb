{
 "cells": [
  {
   "cell_type": "code",
   "execution_count": null,
   "id": "603f6880",
   "metadata": {},
   "outputs": [],
   "source": [
    "# DAY - 14\n",
    "\n",
    "\n",
    "# PROBABLITY - A chance"
   ]
  },
  {
   "cell_type": "code",
   "execution_count": null,
   "id": "3b62584a",
   "metadata": {},
   "outputs": [
    {
     "name": "stdout",
     "output_type": "stream",
     "text": [
      "['apple', 'apple', 'apple', 'orange', 'orange', 'banana']\n",
      "0.5\n",
      "-----------------------------------------------------------------------------------------------------------------------------------------------\n",
      "0.5\n",
      "-----------------------------------------------------------------------------------------------------------------------------------------------\n",
      "0.6666666666666666\n",
      "0.6666666666666667\n"
     ]
    }
   ],
   "source": [
    "# P(A)=N(A)/N(S)\n",
    "# N(S)- total chances\n",
    "\n",
    "\n",
    "\n",
    "basket= [\"apple\"]*3 + [\"orange\"]*2 + [\"banana\"]*1\n",
    "total=len(basket)\n",
    "app_con=basket.count(\"apple\")/total\n",
    "print(basket)\n",
    "print(app_con)\n",
    "print(\"-----------------------------------------------------------------------------------------------------------------------------------------------\")\n",
    "p_orage_or_banana=(basket.count(\"orange\") + basket.count(\"banana\"))/ total\n",
    "print(p_orage_or_banana)\n",
    "print(\"-----------------------------------------------------------------------------------------------------------------------------------------------\")\n",
    "no_orange=(basket.count(\"apple\")+basket.count(\"banana\"))/total\n",
    "print(no_orange)\n",
    "\n",
    "# another method\n",
    "\n",
    "no_or=(1-basket.count(\"orange\")/total)  # here 1-p(A) condition used  it is used to remove particular element\n",
    "print(no_or)"
   ]
  },
  {
   "cell_type": "code",
   "execution_count": null,
   "id": "6c39fb58",
   "metadata": {},
   "outputs": [
    {
     "name": "stdout",
     "output_type": "stream",
     "text": [
      "0.75\n"
     ]
    }
   ],
   "source": [
    "# two dies probablity to get head\n",
    "\n",
    "\n",
    "# head,head  tail,head  head,tail tail,tail\n",
    "\n",
    "coin=[\"hh\",\"ht\",\"th\",\"tt\"]\n",
    "\n",
    "count=0 \n",
    "\n",
    "for i in coin:\n",
    "    if \"h\" in i:\n",
    "        count+=1\n",
    "else:\n",
    "    print(count/len(coin))\n",
    "\n"
   ]
  },
  {
   "cell_type": "code",
   "execution_count": null,
   "id": "76b6ead5",
   "metadata": {},
   "outputs": [
    {
     "name": "stdout",
     "output_type": "stream",
     "text": [
      "probablity of people taking umberlla on rainy: 0.8333333333333334\n",
      "probablity of people taking umberlla on sunny: 0.25\n"
     ]
    }
   ],
   "source": [
    "\n",
    "# conitional probablity\n",
    "#P(A/B) = P(A intersection B)/P(B)\n",
    "\n",
    "\n",
    "# 100 days - 60 days rainy,40 days dry\n",
    "# 60 days-50 people use umberlla\n",
    "# in 40 days - 10 peoples use umberlla\n",
    "\n",
    "\n",
    "days=100\n",
    "rainy=60\n",
    "sunny=40\n",
    "umberlla_intersection_rainy=50 #(here we make umberlla as \"a\" and rainy as \"b\") - so we use P(a/b)=p(a intersection b)/p(b)\n",
    "umberlla_intersection_sunny=10 #(here we make umberlla as \"a\" and sunny as \"b\")\n",
    "\n",
    "prob_rain=(umberlla_intersection_rainy/rainy) \n",
    "prob_sunny=(umberlla_intersection_sunny/sunny)\n",
    "print(\"probablity of people taking umberlla on rainy:\",prob_rain)\n",
    "print(\"probablity of people taking umberlla on sunny:\",prob_sunny)"
   ]
  },
  {
   "cell_type": "code",
   "execution_count": 24,
   "id": "09d36341",
   "metadata": {},
   "outputs": [
    {
     "name": "stdout",
     "output_type": "stream",
     "text": [
      "probablity of student attende the monday class:  0.8\n",
      "probablity of student attende the tuesday class:  0.75\n",
      "probablity of student attende the wednesday class:  0.5\n"
     ]
    }
   ],
   "source": [
    "# total 100 students \n",
    "# only 80 students attende the monday class\n",
    "# from 80 only 60 attend the tuesday class\n",
    "# from 60 only 30 attend the wednesday class\n",
    "\n",
    "\n",
    "students=100\n",
    "mon_class=80\n",
    "tue_class=60\n",
    "wed_class=30\n",
    "#p(a/b)=p(a intersection b)/p(b)\n",
    "prob_mon_class=mon_class/students # here we use mon as \"a\" intersection class as \"b\"\n",
    "\n",
    "prob_tue_class=tue_class/mon_class\n",
    "\n",
    "prob_wed_class=wed_class/tue_class\n",
    "\n",
    "print(\"probablity of student attende the monday class: \",prob_mon_class)\n",
    "print(\"probablity of student attende the tuesday class: \",prob_tue_class)\n",
    "print(\"probablity of student attende the wednesday class: \",prob_wed_class)"
   ]
  },
  {
   "cell_type": "code",
   "execution_count": null,
   "id": "ebcdf157",
   "metadata": {},
   "outputs": [],
   "source": [
    "# base theorem\n",
    "\n",
    "# there are three steps\n",
    "# -frequency table- we want to know the count yes ,no seprately total(add final no.of yes , no ) if yes  is 7 and no is 3   so total=7+3=10\n",
    "\n",
    "\n",
    "\n",
    "# -likelyhood table - once we convert the question to frequency table we want to concert to likelyhood table it also take the count\n",
    "# ( total - find the sum and divided each of them with that total )  if yes  is 7 and no is 3   so total=7+3=10 then we want to divide 7/10,3/10\n",
    "\n",
    "# then use the eqn \n",
    "# P(A/B)=P(B/A) . P(A)  /  P(B)\n",
    "\n"
   ]
  },
  {
   "cell_type": "code",
   "execution_count": 4,
   "id": "a775fd5f",
   "metadata": {},
   "outputs": [
    {
     "name": "stdout",
     "output_type": "stream",
     "text": [
      "0.75\n",
      "0.25\n"
     ]
    }
   ],
   "source": [
    "# 100 mails\n",
    "# 40 mails spam\n",
    "# 60 mails are not spam\n",
    "\n",
    "\n",
    "# frequency value\n",
    "p_spam=40\n",
    "p_not_spam=60\n",
    "\n",
    "# likely hood(\"win\" present in both spam and not apam mails (its a word common in that name))\n",
    "\n",
    "prob_win_given_spam=30/40   #(30 we give a 30 win word are from 40 mails)\n",
    "prob_win_given_not_spam=10/60 # 10 we give a 10 win word present from 60)\n",
    "\n",
    "# total probability of appearing the word win\n",
    "\n",
    "prob_win=(prob_win_given_spam*p_spam)+(prob_win_given_not_spam*p_not_spam)\n",
    "\n",
    "# bayes formula\n",
    "\n",
    "prob_spam_given_win =(prob_win_given_spam*p_spam)/prob_win\n",
    "print(prob_spam_given_win)\n",
    "\n",
    "prob_not_spam_given_win =(prob_win_given_not_spam*p_not_spam)/prob_win\n",
    "print(prob_not_spam_given_win)\n"
   ]
  },
  {
   "cell_type": "code",
   "execution_count": null,
   "id": "7a4a6900",
   "metadata": {},
   "outputs": [
    {
     "name": "stdout",
     "output_type": "stream",
     "text": [
      "0.4000000000000001\n"
     ]
    }
   ],
   "source": [
    "# count=100\n",
    "# rain=0.2(20%)\n",
    "# not rain = 0.8 (80%)\n",
    "# cloudy/rain=0.8   (if there is 80%  chance it's cloudy )\n",
    "# cloudy/not rain=0.30   (if it doesn't rain,there is 30% chance it's cloudy)\n",
    "# (rain/cloudy)? bayes thorem\n",
    "\n",
    "\n",
    "rain=0.2\n",
    "not_rain=0.8\n",
    "\n",
    "\n",
    "prob_cloudy_given_rain=0.8\n",
    "prob_cloudy_given_not_rain=0.3\n",
    "\n",
    "prob_cloudy=(prob_cloudy_given_rain*rain)+(prob_cloudy_given_not_rain*not_rain)\n",
    "\n",
    "prob_rain_in_clouds=(prob_cloudy_given_rain*rain)/prob_cloudy\n",
    "print(prob_rain_in_clouds)\n",
    "\n",
    "\n"
   ]
  },
  {
   "cell_type": "code",
   "execution_count": 15,
   "id": "b5e707d4",
   "metadata": {},
   "outputs": [
    {
     "name": "stdout",
     "output_type": "stream",
     "text": [
      "163\n"
     ]
    }
   ],
   "source": [
    "#assesment 2 nd question \n",
    "\n",
    "# roll the dies 1000 time \n",
    "# find the probability to get 6\n",
    "\n",
    "\n",
    "import random\n",
    "\n",
    "count=0\n",
    "n=1000\n",
    "\n",
    "for i in range(n):\n",
    "    roll_dies=random.randint(1,6)\n",
    "\n",
    "    if roll_dies==6:\n",
    "        count+=1\n",
    "\n",
    "print(count)"
   ]
  },
  {
   "cell_type": "code",
   "execution_count": null,
   "id": "c669a57c",
   "metadata": {},
   "outputs": [],
   "source": [
    "# 125\n",
    "# 204\n",
    "# 58"
   ]
  }
 ],
 "metadata": {
  "kernelspec": {
   "display_name": "Python 3",
   "language": "python",
   "name": "python3"
  },
  "language_info": {
   "codemirror_mode": {
    "name": "ipython",
    "version": 3
   },
   "file_extension": ".py",
   "mimetype": "text/x-python",
   "name": "python",
   "nbconvert_exporter": "python",
   "pygments_lexer": "ipython3",
   "version": "3.12.5"
  }
 },
 "nbformat": 4,
 "nbformat_minor": 5
}
