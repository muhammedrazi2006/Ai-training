{
 "cells": [
  {
   "cell_type": "code",
   "execution_count": null,
   "id": "04ed20d8",
   "metadata": {},
   "outputs": [],
   "source": [
    "# BFS AND DFS \n",
    "\n",
    "# - BREATH FIRST SEARCH - it going to access all the nodes level by level its a level by level order - first level 0,1,2(queue concept)\n",
    "# - DEPTH FIRST SEARCH - like inorder ,preorder,post oreder it access depthly (stack concept)"
   ]
  },
  {
   "cell_type": "code",
   "execution_count": 21,
   "id": "4650100c",
   "metadata": {},
   "outputs": [
    {
     "name": "stdout",
     "output_type": "stream",
     "text": [
      "1 2 3 4 5 6 "
     ]
    }
   ],
   "source": [
    "# BFS\n",
    "from collections import deque\n",
    "class node():\n",
    "    def __init__(self,val):\n",
    "        self.val=val\n",
    "        self.left=None\n",
    "        self.right=None\n",
    "root=node(1)\n",
    "root.left=node(2)\n",
    "root.right=node(3)\n",
    "root.left.left=node(4)\n",
    "root.left.right=node(5)\n",
    "root.right.right=node(6)\n",
    "\n",
    "\n",
    "def bfs(root):\n",
    "    q=deque()\n",
    "    q.append(root)\n",
    "\n",
    "    if not q:\n",
    "        return \n",
    "    \n",
    "    while q:\n",
    "        \n",
    "        node=q.popleft()\n",
    "        print(node.val,end=\" \")\n",
    "\n",
    "        if node.left:\n",
    "            q.append(node.left)\n",
    "        if node.right:\n",
    "            q.append(node.right)\n",
    "\n",
    "bfs(root)\n",
    "\n",
    "    \n",
    "\n"
   ]
  },
  {
   "cell_type": "code",
   "execution_count": 32,
   "id": "25ed341c",
   "metadata": {},
   "outputs": [
    {
     "name": "stdout",
     "output_type": "stream",
     "text": [
      "1 2 4 5 3 6 \n",
      "\n",
      "4 2 5 1 3 6 \n",
      "\n",
      "4 5 2 6 3 1 "
     ]
    }
   ],
   "source": [
    "# DFS\n",
    "\n",
    "class node():\n",
    "    def __init__(self,val):\n",
    "        self.val=val\n",
    "        self.right=None\n",
    "        self.left=None\n",
    "root=node(1)\n",
    "root.left=node(2)\n",
    "root.right=node(3)\n",
    "root.left.left=node(4)\n",
    "root.left.right=node(5)\n",
    "root.right.right=node(6)\n",
    "\n",
    "\n",
    "def dfs_preorder(node):\n",
    "    if not node:\n",
    "        return\n",
    "    print(node.val,end=\" \")\n",
    "    dfs_preorder(node.left)\n",
    "    dfs_preorder(node.right)\n",
    "\n",
    "def dfs_inorder(node):\n",
    "    if not node:\n",
    "        return\n",
    "    \n",
    "    dfs_inorder(node.left)\n",
    "    print(node.val,end=\" \")\n",
    "    dfs_inorder(node.right)\n",
    "\n",
    "def dfs_postorder(node):\n",
    "    if not node:\n",
    "        return\n",
    "    \n",
    "    dfs_postorder(node.left)\n",
    "    \n",
    "    dfs_postorder(node.right)\n",
    "    print(node.val,end=\" \")\n",
    "\n",
    "\n",
    "dfs_preorder(root)\n",
    "print(\"\\n\")\n",
    "dfs_inorder(root)\n",
    "print(\"\\n\")\n",
    "dfs_postorder(root)\n",
    "\n"
   ]
  },
  {
   "cell_type": "code",
   "execution_count": null,
   "id": "b6a108c0",
   "metadata": {},
   "outputs": [],
   "source": [
    "# GRAPH \n",
    "\n",
    "\n",
    "# TYPES OF GRAPHS\n",
    "\n",
    "'''\n",
    "-directed - one way road\n",
    "-undirected-two way road\n",
    "-weighted-distance/cost attached\n",
    "- unweighted \n",
    "-cyclic - routes that loop back\n",
    "-acyclic-no loops\n",
    "\n",
    "\n",
    "'''\n",
    "\n",
    "\n",
    "# GRAPH REPRESENTATIONS\n",
    "'''\n",
    "adjecency list - (python dict or list)\n",
    "adjecency matrix - (for dence graph)\n",
    "\n",
    "  a   b   c\n",
    "a[0   1   1 ]\n",
    "b[1   0   1 ]\n",
    "c[1   0   0 ]\n",
    "\n",
    "if present in a,a=no so 0\n",
    "present in a,b= yes so 1\n",
    "'''"
   ]
  },
  {
   "cell_type": "code",
   "execution_count": 35,
   "id": "ec15df10",
   "metadata": {},
   "outputs": [
    {
     "name": "stdout",
     "output_type": "stream",
     "text": [
      "{'A': ['B', 'C'], 'B': ['A'], 'C': ['A']}\n",
      "we can go city A from:B\n",
      "we can go city A from:C\n"
     ]
    }
   ],
   "source": [
    "# represent a simlpe city map \n",
    "'''\n",
    "Lets consider you have 3 cities :A B C\n",
    "     there are roads:\n",
    "     A<->B\n",
    "     A<->C\n",
    "\n",
    "\n",
    "     so the graph like\n",
    "\n",
    "           A\n",
    "         /  \\\n",
    "       B     C\n",
    "'''\n",
    "\n",
    "graph={\n",
    "    \"A\":[\"B\",\"C\"],\n",
    "    \"B\":[\"A\"],\n",
    "    \"C\":[\"A\"]\n",
    "\n",
    "}\n",
    "print(graph)\n",
    "\n",
    "# print all cities conncted to A\n",
    "\n",
    "for city in graph[\"A\"]:\n",
    "    print(f\"we can go city A from:{city}\")"
   ]
  },
  {
   "cell_type": "code",
   "execution_count": 3,
   "id": "ed59621c",
   "metadata": {},
   "outputs": [
    {
     "name": "stdout",
     "output_type": "stream",
     "text": [
      "A -> B -> D\n",
      "A -> C -> D\n"
     ]
    }
   ],
   "source": [
    "# Print All Paths from the start to End\n",
    "\n",
    "def all_paths(graph,start,end,path = []):\n",
    "    path = path + [start]\n",
    "    if start == end:\n",
    "        print(\" -> \" .join(path))\n",
    "        return\n",
    "    for i in graph[start]:\n",
    "        if i not in path:\n",
    "            all_paths(graph,i,end,path)\n",
    "\n",
    "# Test\n",
    "\n",
    "graph = {\n",
    "    'A' : ['B','C'],\n",
    "    'B' : ['D'],\n",
    "    'C' : ['D'],\n",
    "    'D' : []\n",
    "}\n",
    "\n",
    "all_paths(graph,'A','D')"
   ]
  },
  {
   "cell_type": "code",
   "execution_count": null,
   "id": "c5696d20",
   "metadata": {},
   "outputs": [
    {
     "name": "stdout",
     "output_type": "stream",
     "text": [
      "A\n",
      "B\n",
      "C\n",
      "D\n",
      "E\n"
     ]
    }
   ],
   "source": [
    "# BFS FOR GRAPH\n",
    "\n",
    "\n",
    "from collections import deque\n",
    "def bfs(graph,start):\n",
    "    visited = set()\n",
    "    queue = deque([start])\n",
    "    while queue:\n",
    "        node = queue.popleft()\n",
    "        if node not in visited:\n",
    "            print(node)\n",
    "            visited.add(node)\n",
    "            for i in graph[node]:\n",
    "                queue.append(i)\n",
    "\n",
    "graph = {\n",
    "    'A' : ['B','C'],\n",
    "    'B' : ['D'],\n",
    "    'C' : ['E'],\n",
    "    'D' : [],\n",
    "    'E' : []\n",
    "}\n",
    "\n",
    "bfs(graph,\"A\")"
   ]
  },
  {
   "cell_type": "code",
   "execution_count": 3,
   "id": "fda41a79",
   "metadata": {},
   "outputs": [
    {
     "name": "stdout",
     "output_type": "stream",
     "text": [
      "A\n",
      "B\n",
      "D\n",
      "C\n",
      "E\n"
     ]
    }
   ],
   "source": [
    "# DFS FOR GRAPH\n",
    "def dfs(graph,start,visited=None):\n",
    "    if visited is None:\n",
    "        visited=set()\n",
    "    print(start)\n",
    "    visited.add(start)\n",
    "\n",
    "    for i in graph[start]:\n",
    "        if i not in visited:\n",
    "            dfs(graph,i,visited)\n",
    "\n",
    "graph = {\n",
    "    'A' : ['B','C'],\n",
    "    'B' : ['D'],\n",
    "    'C' : ['E'],\n",
    "    'D' : [],\n",
    "    'E' : []\n",
    "}\n",
    "\n",
    "dfs(graph,\"A\")"
   ]
  },
  {
   "cell_type": "code",
   "execution_count": 9,
   "id": "e7da64be",
   "metadata": {},
   "outputs": [
    {
     "name": "stdout",
     "output_type": "stream",
     "text": [
      "{'A': ['B', 'c'], 'B': ['A', 'D'], 'c': ['A'], 'D': ['B']}\n"
     ]
    }
   ],
   "source": [
    "# how we can add the edges\n",
    "\n",
    "def add_edges(graph,u,v):\n",
    "    if u not in graph:\n",
    "        graph[u]=[]\n",
    "    if v not in graph:\n",
    "        graph[v]=[]\n",
    "    graph[u].append(v)\n",
    "    graph[v].append(u)    #remove if graph is directed\n",
    "graph={}\n",
    "\n",
    "add_edges(graph,\"A\",\"B\")\n",
    "add_edges(graph,\"A\",\"c\")\n",
    "add_edges(graph,\"B\",\"D\")\n",
    "\n",
    "print(graph)"
   ]
  },
  {
   "cell_type": "code",
   "execution_count": 11,
   "id": "2bf96b46",
   "metadata": {},
   "outputs": [
    {
     "name": "stdout",
     "output_type": "stream",
     "text": [
      "4\n"
     ]
    }
   ],
   "source": [
    "# count nodes in a graph using dfs\n",
    "\n",
    "def count_nodes(graph,start,visited=None):\n",
    "    if visited is None:\n",
    "        visited=set()\n",
    "    visited.add(start)\n",
    "    count=1\n",
    "    for i in graph[start]:\n",
    "        if i not in visited:\n",
    "            count+=count_nodes(graph,i,visited)\n",
    "    return count\n",
    "graph = {\n",
    "    'A' : ['B','C'],\n",
    "    'B' : ['D'],\n",
    "    'C' : [],\n",
    "    'D' : []\n",
    "    \n",
    "}\n",
    "\n",
    "print(count_nodes(graph,\"A\"))\n",
    "\n"
   ]
  },
  {
   "cell_type": "code",
   "execution_count": 20,
   "id": "c52e6f4b",
   "metadata": {},
   "outputs": [
    {
     "name": "stdout",
     "output_type": "stream",
     "text": [
      "True\n",
      "True\n",
      "False\n"
     ]
    }
   ],
   "source": [
    "# CHECK IF THE PATH IS EXISTING BETWEEN TWO NODES\n",
    "\n",
    "def has_path(graph,sorce,desti,visited=None):\n",
    "    if visited is None:\n",
    "        visited=set()\n",
    "    if sorce==desti:\n",
    "        return True\n",
    "    visited.add(sorce)\n",
    "\n",
    "    for i in graph[sorce]:\n",
    "        if i not in visited:\n",
    "            if has_path(graph,i,desti,visited):\n",
    "                return True\n",
    "    return False\n",
    "graph = {\n",
    "    'A' : ['B',\"C\"],\n",
    "    'B' : ['D'],\n",
    "    'C' : [],\n",
    "    'D' : []\n",
    "    \n",
    "}\n",
    "\n",
    "print(has_path(graph,\"A\",\"B\"))\n",
    "print(has_path(graph,\"A\",\"C\"))\n",
    "print(has_path(graph,\"C\",\"D\"))\n",
    "\n"
   ]
  },
  {
   "cell_type": "code",
   "execution_count": 21,
   "id": "79597f2f",
   "metadata": {},
   "outputs": [
    {
     "name": "stdout",
     "output_type": "stream",
     "text": [
      "False\n"
     ]
    }
   ],
   "source": [
    "# cycle detection code\n",
    "def has_cycle(graph):\n",
    "    v=set()\n",
    "    def dfs(n,p):\n",
    "        v.add(n)\n",
    "        for i in graph[n]:\n",
    "            if i not in v:\n",
    "                if dfs(i,n):\n",
    "                    return True\n",
    "            elif i!=p:\n",
    "\n",
    "                return True\n",
    "        return False\n",
    "    for node in graph:\n",
    "        if node not in v:\n",
    "            if dfs(node,None):\n",
    "                return True\n",
    "    return False\n",
    "\n",
    "graph={\n",
    "    'A' : ['B',\"C\"],\n",
    "    'B' : ['D'],\n",
    "    'C' : [],\n",
    "    'D' : []\n",
    "    \n",
    "}\n",
    "\n",
    "print(has_cycle(graph))"
   ]
  },
  {
   "cell_type": "code",
   "execution_count": 1,
   "id": "7a8f82b7",
   "metadata": {},
   "outputs": [
    {
     "name": "stdout",
     "output_type": "stream",
     "text": [
      "A->B->C->D\n",
      "A->C->D\n"
     ]
    }
   ],
   "source": [
    "\n",
    "# printing all path\n",
    "\n",
    "def all_path(graph,start,end,path=[]):\n",
    "    path=path+[start]\n",
    "    if start==end:\n",
    "        print(\"->\".join(path))\n",
    "        return\n",
    "    for i in graph[start]:\n",
    "        if i not in path:\n",
    "            all_path(graph,i,end,path)\n",
    "\n",
    "graph={\n",
    "    \"A\":[\"B\",\"C\"],\n",
    "    \"B\":[\"C\"],\n",
    "    \"C\":[\"D\"],\n",
    "    \"D\":[]\n",
    "}   \n",
    "all_path(graph,\"A\",\"D\")"
   ]
  }
 ],
 "metadata": {
  "kernelspec": {
   "display_name": "Python 3",
   "language": "python",
   "name": "python3"
  },
  "language_info": {
   "codemirror_mode": {
    "name": "ipython",
    "version": 3
   },
   "file_extension": ".py",
   "mimetype": "text/x-python",
   "name": "python",
   "nbconvert_exporter": "python",
   "pygments_lexer": "ipython3",
   "version": "3.12.5"
  }
 },
 "nbformat": 4,
 "nbformat_minor": 5
}
