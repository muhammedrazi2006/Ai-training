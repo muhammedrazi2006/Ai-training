{
 "cells": [
  {
   "cell_type": "code",
   "execution_count": null,
   "id": "05ee267d",
   "metadata": {},
   "outputs": [],
   "source": [
    "# TREE\n",
    "\n",
    "# time complexity - o(1)"
   ]
  },
  {
   "cell_type": "code",
   "execution_count": null,
   "id": "22c7b25a",
   "metadata": {},
   "outputs": [],
   "source": [
    "# tree\n",
    "'''\n",
    "-root -top node\n",
    "-child node - a node that comes from parent\n",
    "-edge-connection between to nodes\n",
    "-leaf node- node doesnt have children (last node)\n",
    "-height - from the root node we have to take the longest path towards the leaf node\n",
    "-depth - calculating level by level\n",
    "-descrete or decendence\n",
    "'''"
   ]
  },
  {
   "cell_type": "code",
   "execution_count": null,
   "id": "c99bd363",
   "metadata": {},
   "outputs": [],
   "source": [
    "# descrete or decendence\n",
    "\n",
    "\n",
    "# methods of tree\n",
    "# insertion \n",
    "# deletion\n",
    "# traversal\n",
    "\n",
    "\n",
    "# tree concept\n",
    "# here we want to traverse all the way down throught each node present , we want to get the leaf node we want to traverse from the root node\n",
    "\n",
    "# types of tree\n",
    "\n",
    "'''\n",
    "-binary tree\n",
    "-binary search tree\n",
    "-red black tree\n",
    "-avial tree'''"
   ]
  },
  {
   "cell_type": "code",
   "execution_count": 2,
   "id": "1f4b8d78",
   "metadata": {},
   "outputs": [
    {
     "name": "stdout",
     "output_type": "stream",
     "text": [
      "CEO\n",
      "  CFO\n",
      "  CTO\n",
      "    QA\n",
      "    DEV\n",
      "  COO\n",
      "    OPS\n"
     ]
    }
   ],
   "source": [
    "# Tree implimentation\n",
    "\n",
    "\n",
    "# node creation\n",
    "\n",
    "class Treenode():\n",
    "    def __init__(self,val):\n",
    "        self.val=val\n",
    "        self.children=[]\n",
    "ceo=Treenode(\"CEO\")\n",
    "cfo=Treenode(\"CFO\")\n",
    "cto=Treenode(\"CTO\")\n",
    "coo=Treenode(\"COO\")\n",
    "qa=Treenode(\"QA\")\n",
    "dev=Treenode(\"DEV\")\n",
    "ops=Treenode(\"OPS\")\n",
    "\n",
    "# making parent and child class\n",
    "ceo.children=[cfo,cto,coo]\n",
    "cto.children=[qa,dev]\n",
    "coo.children=[ops]\n",
    "\n",
    "# traversing\n",
    "\n",
    "def tarversal(node,level=0):\n",
    "    print(\"  \"*level +node.val)\n",
    "\n",
    "    for child in node.children:\n",
    "        tarversal(child,level+1)\n",
    "tarversal(ceo)\n"
   ]
  },
  {
   "cell_type": "code",
   "execution_count": null,
   "id": "2321be25",
   "metadata": {},
   "outputs": [],
   "source": [
    "# FIRST ELEMENT OF THE LIST IS ROOT VALUE ITS FOR ALL LIST"
   ]
  },
  {
   "cell_type": "code",
   "execution_count": 15,
   "id": "a076c40f",
   "metadata": {},
   "outputs": [
    {
     "name": "stdout",
     "output_type": "stream",
     "text": [
      "inorder traversal\n",
      "5 10 18 20 25 30 40 \n",
      "\n",
      "preorder traversal\n",
      "20 10 5 18 30 25 40 \n",
      "\n",
      "postorder traversal\n",
      "5 18 10 25 40 30 20 \n",
      "\n",
      "         40\n",
      "     30\n",
      "         25\n",
      " 20\n",
      "         18\n",
      "     10\n",
      "         5\n"
     ]
    }
   ],
   "source": [
    "# binary tree\n",
    "\n",
    "# inorder(LNR)\n",
    "# preorder(NLR)\n",
    "# post order(LRN)\n",
    "\n",
    "\n",
    "# node creation\n",
    "\n",
    "class node():\n",
    "    def __init__(self,val):\n",
    "        self.val=val\n",
    "        self.left=None\n",
    "        self.right=None\n",
    "# insetion\n",
    "\n",
    "def insert(root,val):\n",
    "    if root is None:\n",
    "        return node(val)\n",
    "    if val<root.val:  \n",
    "        root.left=insert(root.left,val)      # if the root is lessthan values it store on left\n",
    "    else:\n",
    "        root.right=insert(root.right,val)      # if the root is greaterthan values it store on right\n",
    "    return root\n",
    "\n",
    "\n",
    "# inorder traversal(left->root->right)\n",
    "def inorder(root):\n",
    "    if root:\n",
    "        inorder(root.left)\n",
    "        print(root.val,end=\" \")\n",
    "        inorder(root.right)\n",
    "# preorder traversal(root->left->right)\n",
    "def preorder(root):\n",
    "    if root:\n",
    "        print(root.val,end=\" \")\n",
    "        preorder(root.left)\n",
    "        preorder(root.right)\n",
    "# postorder traversal(left->right->root)\n",
    "def postorder(root):\n",
    "    if root:\n",
    "        postorder(root.left)\n",
    "        postorder(root.right)\n",
    "        print(root.val,end=\" \")\n",
    "\n",
    "\n",
    "\n",
    "def print_tree(node,level=0):\n",
    "    if node is not None:\n",
    "        print_tree(node.right,level+1)\n",
    "\n",
    "        print(\"    \"*level,node.val)\n",
    "        print_tree(node.left,level+1)\n",
    "val=[20,10,30,40,25,18,5]\n",
    "root=None\n",
    "for i in val:\n",
    "    root=insert(root,i)\n",
    "print(\"inorder traversal\")\n",
    "inorder(root)\n",
    "print(\"\\n\")\n",
    "print(\"preorder traversal\")\n",
    "preorder(root)\n",
    "print(\"\\n\")\n",
    "print(\"postorder traversal\")\n",
    "postorder(root)\n",
    "print(\"\\n\")\n",
    "\n",
    "print_tree(root)\n",
    "\n",
    "\n",
    "\n",
    "\n",
    "\n"
   ]
  },
  {
   "cell_type": "code",
   "execution_count": 7,
   "id": "12010326",
   "metadata": {},
   "outputs": [
    {
     "name": "stdout",
     "output_type": "stream",
     "text": [
      "2\n"
     ]
    }
   ],
   "source": [
    "# height = max(height of left,height of right)\n",
    "\n",
    "def height(root):\n",
    "    if not root:\n",
    "        return -1\n",
    "    return 1+max(height(root.left),height(root.right))\n",
    "print(height(root))"
   ]
  },
  {
   "cell_type": "code",
   "execution_count": 8,
   "id": "25a1d3c7",
   "metadata": {},
   "outputs": [
    {
     "name": "stdout",
     "output_type": "stream",
     "text": [
      "4\n"
     ]
    }
   ],
   "source": [
    "# counting the leafnode\n",
    "def count_ln(root):\n",
    "    if not root:\n",
    "        return 0\n",
    "    if not root.left and not root.right:\n",
    "        return 1 \n",
    "    return count_ln(root.left)+count_ln(root.right)\n",
    "print(count_ln(root))"
   ]
  },
  {
   "cell_type": "code",
   "execution_count": 16,
   "id": "3ec553d9",
   "metadata": {},
   "outputs": [
    {
     "name": "stdout",
     "output_type": "stream",
     "text": [
      "True\n"
     ]
    }
   ],
   "source": [
    "# check the tree is balanced or not\n",
    "def balance(root):\n",
    "    if not root:\n",
    "        return 0\n",
    "    if balance(root.left)==balance(root.right):\n",
    "        return True\n",
    "    return False\n",
    "print(balance(root))"
   ]
  }
 ],
 "metadata": {
  "kernelspec": {
   "display_name": "Python 3",
   "language": "python",
   "name": "python3"
  },
  "language_info": {
   "codemirror_mode": {
    "name": "ipython",
    "version": 3
   },
   "file_extension": ".py",
   "mimetype": "text/x-python",
   "name": "python",
   "nbconvert_exporter": "python",
   "pygments_lexer": "ipython3",
   "version": "3.12.5"
  }
 },
 "nbformat": 4,
 "nbformat_minor": 5
}
