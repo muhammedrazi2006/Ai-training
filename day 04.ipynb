{
 "cells": [
  {
   "cell_type": "code",
   "execution_count": 1,
   "id": "95bd0e2d",
   "metadata": {},
   "outputs": [
    {
     "name": "stdout",
     "output_type": "stream",
     "text": [
      "[134, 'True']\n",
      "['True', 'False']\n",
      "['False', 'True', 4.5, 23, 134, 'richu', 'chahchu']\n"
     ]
    }
   ],
   "source": [
    "\n",
    "#DAY-03\n",
    "\n",
    "\n",
    "# LIST - collection of data types\n",
    "# it is orderd,mutable,heterogenous\n",
    "# we can use diffrent data types like intiger,boolean,float ect.......\n",
    "\n",
    "list1=[\"chahchu\",\"richu\",134,23,4.5,\"True\",\"False\"]\n",
    "\n",
    "\n",
    "#slicing\n",
    "\n",
    "#positive indexing - it start with 0\n",
    "#negative indexing - it is a reverse order and start with -1\n",
    "\n",
    "print(list1[-5:-1:3]) #(it print towards right side)\n",
    "\n",
    "#end -1 (-1-1=-2)\n",
    "print(list1[-2:])\n",
    "\n",
    "#if the step is negative (start,end+1,step)\n",
    "\n",
    "print(list1[::-1])#(it print towards left)\n",
    "\n"
   ]
  },
  {
   "cell_type": "code",
   "execution_count": 2,
   "id": "eacb2822",
   "metadata": {},
   "outputs": [],
   "source": [
    "#list methods\n",
    "\n",
    "# append,copy,sort,insert,len,count,remove,extend,clear,pop,reverse,count,index\n",
    "\n",
    "# append-add the value at the end of the list\n",
    "# insert- you can add values at the specific position\n",
    "# extend- it can ensure to combine the list with another\n",
    "# pop-remove the value based on index\n",
    "# remove- you can mention the element to remove \n",
    "# copy - you can copy the list\n",
    "# reverse - it will reverse the list of elements\n",
    "# sort - it will arrange the elements by asec,desc values\n",
    "# clear-clear the data \n",
    "# count- to count the repeating data\n",
    "# index- its used for slicing"
   ]
  },
  {
   "cell_type": "code",
   "execution_count": 3,
   "id": "227bf9b3",
   "metadata": {},
   "outputs": [
    {
     "name": "stdout",
     "output_type": "stream",
     "text": [
      "['chahchu', 'richu', 134, 23, 4.5, 'True', 'False', 'dingu', 'True1']\n",
      "['chahchu', 'richu', 134, 23, 4.5, 'True', 'False', 'dingu', 'True1']\n",
      "['True1', 'dingu', 'False', 'True', 4.5, 23, 134, 'richu', 'chahchu']\n",
      "[1, 2, 3, 4, 5, 6, 7]\n",
      "[]\n"
     ]
    }
   ],
   "source": [
    "list1=[\"chahchu\",\"richu\",134,23,4.5,\"True\",\"False\"]\n",
    "list2=[\"True1\",\"False1\"]\n",
    "\n",
    "\n",
    "list1.append(\"dingu\")\n",
    "list1.insert(1,\"mingu\")\n",
    "list1.extend(list2)\n",
    "list1.pop(1)\n",
    "list1.remove(\"False1\")\n",
    "print(list1)\n",
    "list3=list1.copy()\n",
    "list1.reverse()\n",
    "\n",
    "listsrt=[1,6,7,5,2,3,4]\n",
    "listsrt.sort()\n",
    "\n",
    "\n",
    "listclr=[3,4,5,6,7,84,7]\n",
    "listclr.clear()\n",
    "\n",
    "\n",
    "\n",
    "\n",
    "print(list3)\n",
    "print(list1)\n",
    "print(listsrt)\n",
    "print(listclr)\n"
   ]
  },
  {
   "cell_type": "code",
   "execution_count": null,
   "id": "1e8eff70",
   "metadata": {},
   "outputs": [
    {
     "name": "stdout",
     "output_type": "stream",
     "text": [
      "['10', '20', '30', '40', '50']\n"
     ]
    }
   ],
   "source": [
    "# list creation using for loop\n",
    "# it is used to create a list with user input\n",
    "\n",
    "list2=[]\n",
    "n=int(input(\"enter the limit:\"))\n",
    "for i in range(n):\n",
    "    num=input(\"enter the value:\")\n",
    "    list2.append(num)\n",
    "print(list2)\n"
   ]
  },
  {
   "cell_type": "code",
   "execution_count": 5,
   "id": "3e5a98fb",
   "metadata": {},
   "outputs": [
    {
     "name": "stdout",
     "output_type": "stream",
     "text": [
      "('chahchu', 'richu', 134, 23, 4.5, 23, 'True', 23, 'False')\n",
      "('richu', 134, 23, 4.5)\n",
      "count= 3\n",
      "index= 2\n"
     ]
    }
   ],
   "source": [
    "#tuple-()\n",
    "#orders and immutable\n",
    "#only two operations are applicable (count,index)\n",
    "\n",
    "\n",
    "tuple1=(\"chahchu\",\"richu\",134,23,4.5,23,\"True\",23,\"False\")\n",
    "tuple2=(\"True1\",\"False1\")\n",
    "\n",
    "print(tuple1)\n",
    "print(tuple1[1:5]) #slicing\n",
    "\n",
    "print(\"count=\", tuple1.count(23))\n",
    "\n",
    "print(\"index=\", tuple1.index(134))\n",
    "\n"
   ]
  },
  {
   "cell_type": "code",
   "execution_count": 6,
   "id": "8c5e5040",
   "metadata": {},
   "outputs": [
    {
     "name": "stdout",
     "output_type": "stream",
     "text": [
      "{1, 3, 4, 5, 6, 44, 222}\n",
      "{1, 3, 4, 5, 6, 10, 44, 222}\n",
      "{1, 3, 4, 5, 6, 10, 44}\n",
      "{1, 3, 4, 5, 6, 10, 11, 22, 44}\n",
      "{1, 3, 4, 5, 6, 10, 11, 44}\n",
      "{1, 44, 222, 6}\n",
      "{1, 3, 4, 5, 6, 44, 333, 55, 666, 222}\n",
      "{3, 4, 5}\n"
     ]
    }
   ],
   "source": [
    "#set-{}\n",
    "# it doesnt allows the duplicates\n",
    "# it doest allow slicing\n",
    "# it doesnt allow indexing\n",
    "# unorderd\n",
    "\n",
    "# set methods\n",
    "\n",
    "# add,update,remove,discard,remove,pop\n",
    "# operations- union,intersection,diffrence\n",
    "\n",
    "\n",
    "#  set_1={}- empty set\n",
    "\n",
    "\n",
    "set1={1,222,3,3,4,222,44,5,6,44,}\n",
    "print(set1)\n",
    "\n",
    "set1.add(10) # also sorting occured\n",
    "print(set1)\n",
    "set1.remove(222)\n",
    "print(set1)\n",
    "set1.update([11,22])#add and update are same\n",
    "print(set1)\n",
    "set1.discard(22)\n",
    "print(set1)\n",
    "\n",
    "#----------------------------------------------------------------------------------------------------------------------------------------------------------\n",
    "\n",
    "set1={1,222,3,3,4,222,44,5,6,44,}\n",
    "\n",
    "set2={3,4,5,4,333,55,666,333,55}\n",
    "\n",
    "print(set1.difference(set2))\n",
    "\n",
    "print(set1.union(set2))\n",
    "\n",
    "print(set1.intersection(set2))\n",
    "\n",
    "\n",
    "\n"
   ]
  },
  {
   "cell_type": "code",
   "execution_count": 7,
   "id": "976a0b99",
   "metadata": {},
   "outputs": [
    {
     "data": {
      "text/plain": [
       "8"
      ]
     },
     "execution_count": 7,
     "metadata": {},
     "output_type": "execute_result"
    }
   ],
   "source": [
    "#find the unique values\n",
    "\n",
    "def unique_item(text):\n",
    "    words=text.lower().split()\n",
    "    unique=set(words)#set-it is used for converting a list in to set\n",
    "    return len(unique)\n",
    "unique_item(\"Raju is a good boy but sometimes raju is a bad boy\")"
   ]
  },
  {
   "cell_type": "code",
   "execution_count": 8,
   "id": "e01497c7",
   "metadata": {},
   "outputs": [
    {
     "data": {
      "text/plain": [
       "[1, 2, 3, 4, 5, 6]"
      ]
     },
     "execution_count": 8,
     "metadata": {},
     "output_type": "execute_result"
    }
   ],
   "source": [
    "#remove duplicates from a list\n",
    "\n",
    "\n",
    "def remove_dupli(num):\n",
    "    result=[]\n",
    "    for i in num:\n",
    "        if i not in result:\n",
    "            result.append(i)\n",
    "    return result\n",
    "list1=[1,2,1,1,1,3,4,5,6,4,5,]\n",
    "remove_dupli(list1)\n"
   ]
  },
  {
   "cell_type": "code",
   "execution_count": 9,
   "id": "fb77f507",
   "metadata": {},
   "outputs": [
    {
     "name": "stdout",
     "output_type": "stream",
     "text": [
      "deepa\n",
      "kadhir\n",
      "priya\n"
     ]
    }
   ],
   "source": [
    "#print words longer than 3 letter from a list\n",
    "\n",
    "list1=[\"deepa\",\"kadhir\",\"joe\",\"sri\",\"priya\"]\n",
    "for i in list1:\n",
    "    if(len(i)>3):\n",
    "        print(i)"
   ]
  }
 ],
 "metadata": {
  "kernelspec": {
   "display_name": "Python 3",
   "language": "python",
   "name": "python3"
  },
  "language_info": {
   "codemirror_mode": {
    "name": "ipython",
    "version": 3
   },
   "file_extension": ".py",
   "mimetype": "text/x-python",
   "name": "python",
   "nbconvert_exporter": "python",
   "pygments_lexer": "ipython3",
   "version": "3.12.5"
  }
 },
 "nbformat": 4,
 "nbformat_minor": 5
}
