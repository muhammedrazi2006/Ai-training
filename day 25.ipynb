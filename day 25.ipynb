{
 "cells": [
  {
   "cell_type": "code",
   "execution_count": null,
   "id": "a56f4da4",
   "metadata": {},
   "outputs": [],
   "source": [
    "# DYNAMIC PROGRAMMING\n",
    "\n",
    "'''\n",
    "first solve the smallest problem (eg.floor 0,floor 1)\n",
    "store answer in lit or table\n",
    "build bigger answer from small answer.\n",
    "\n",
    "this is tabulation (bottom - up).\n",
    "\n",
    "fibo(5) = fibo(4)-fibo(3)\n",
    "fibo(4)= fibo(3)-fibo(2)\n",
    "\n",
    "dp[i]=?\n",
    "'''"
   ]
  },
  {
   "cell_type": "code",
   "execution_count": null,
   "id": "1fba0ff8",
   "metadata": {},
   "outputs": [],
   "source": [
    "'''\n",
    "-In 1D DP = the state depended on a single index (like dp[i] for climbing stairs)\n",
    "-In 2D DP = the state depends on two indices - typically i (row) and j(column)\n",
    "'''"
   ]
  },
  {
   "cell_type": "code",
   "execution_count": null,
   "id": "a3df1c81",
   "metadata": {},
   "outputs": [],
   "source": [
    "'''dp[i][j] = some computed value for cell (i, j) in a table/grid.\n",
    "Example:\n",
    "    For counting paths = number of ways to reach (i, j)\n",
    "    For min cost path = minimum sum to reach (i, j)\n",
    "\n",
    "# We have a robot starting at (0, 0), can move right or down.\n",
    "\n",
    "Transition formula\n",
    "for 1D= dp[i]= dp[i-1]+dp[i-2] \n",
    "\n",
    "dp[i][j] = dp[i-1][j] + dp[i][j-1] = for 2D\n",
    "dp[i-1][j]: ways from above\n",
    "dp[i][j-1]: ways from left\n",
    "\n",
    "'''"
   ]
  },
  {
   "cell_type": "code",
   "execution_count": 3,
   "id": "5692fed1",
   "metadata": {},
   "outputs": [
    {
     "name": "stdout",
     "output_type": "stream",
     "text": [
      "DDRR\n",
      "RRDD\n"
     ]
    }
   ],
   "source": [
    "# without DP\n",
    "\n",
    "def find(x,y,path):\n",
    "    if x==2 and y==2:\n",
    "        print(path)\n",
    "        return     #x-coloumn (down)   , y= row (right)\n",
    "    if x+1<=2 and grid[x+1][y]==0:\n",
    "        find(x+1,y,path+\"D\")\n",
    "    if y+1<=2 and grid[x][y+1]==0:\n",
    "        find(x,y+1,path+\"R\")\n",
    "grid=[\n",
    "    [0,0,0],\n",
    "    [0,1,0],\n",
    "    [0,0,0]\n",
    "]\n",
    "\n",
    "find(0,0,\"\")"
   ]
  },
  {
   "cell_type": "code",
   "execution_count": 4,
   "id": "abbf2f6c",
   "metadata": {},
   "outputs": [
    {
     "name": "stdout",
     "output_type": "stream",
     "text": [
      "['DDRR', 'RRDD']\n"
     ]
    }
   ],
   "source": [
    "# with DP\n",
    "\n",
    "def find(x,y,path,memo):\n",
    "    if x==2 and y==2:\n",
    "        return [path]\n",
    "    if (x,y,path) in memo:\n",
    "        return memo[(x,y,path)]\n",
    "    paths=[]\n",
    "    # move down\n",
    "    if x+1 <=2 and grid[x+1][y]==0:\n",
    "        paths+=find(x+1,y,path+\"D\",memo)\n",
    "    # move right\n",
    "    if y+1 <=2 and grid[x][y+1]==0:\n",
    "        paths+=find(x,y+1,path+\"R\",memo)\n",
    "\n",
    "    memo[(x,y,path)]=paths\n",
    "    return paths\n",
    "grid=[\n",
    "    [0,0,0],\n",
    "    [0,1,0],\n",
    "    [0,0,0]\n",
    "]\n",
    "\n",
    "# to you this function\n",
    "memo={}\n",
    "all_paths=find(0,0,\"\",memo)\n",
    "print(all_paths)"
   ]
  },
  {
   "cell_type": "code",
   "execution_count": 5,
   "id": "a552d4d6",
   "metadata": {},
   "outputs": [
    {
     "name": "stdout",
     "output_type": "stream",
     "text": [
      "DDRR\n",
      "DRDR\n",
      "DRRD\n",
      "RDDR\n",
      "RDRD\n",
      "RRDD\n"
     ]
    }
   ],
   "source": [
    "# all path finding\n",
    "\n",
    "# with out dp\n",
    "\n",
    "def find(x,y,path):\n",
    "    if x==2 and y==2:\n",
    "        print(path)\n",
    "        return     #x-coloumn (down)   , y= row (right)\n",
    "    if x+1<=2 and grid[x+1][y]==0:\n",
    "        find(x+1,y,path+\"D\")\n",
    "    if y+1<=2 and grid[x][y+1]==0:\n",
    "        find(x,y+1,path+\"R\")\n",
    "grid=[\n",
    "    [0,0,0],\n",
    "    [0,0,0],\n",
    "    [0,0,0]\n",
    "]\n",
    "\n",
    "find(0,0,\"\")"
   ]
  },
  {
   "cell_type": "code",
   "execution_count": 6,
   "id": "16eb6cd4",
   "metadata": {},
   "outputs": [
    {
     "name": "stdout",
     "output_type": "stream",
     "text": [
      "['DDRR', 'DRDR', 'DRRD', 'RDDR', 'RDRD', 'RRDD']\n"
     ]
    }
   ],
   "source": [
    "# with dp find all path \n",
    "\n",
    "def find(x,y,path,memo):\n",
    "    if x==2 and y==2:\n",
    "        return [path]\n",
    "    if (x,y,path) in memo:\n",
    "        return memo[(x,y,path)]\n",
    "    paths=[]\n",
    "    # move down\n",
    "    if x+1 <=2 and grid[x+1][y]==0:\n",
    "        paths+=find(x+1,y,path+\"D\",memo)\n",
    "    # move right\n",
    "    if y+1 <=2 and grid[x][y+1]==0:\n",
    "        paths+=find(x,y+1,path+\"R\",memo)\n",
    "\n",
    "    memo[(x,y,path)]=paths\n",
    "    return paths\n",
    "grid=[\n",
    "    [0,0,0],\n",
    "    [0,0,0],\n",
    "    [0,0,0]\n",
    "]\n",
    "\n",
    "# to you this function\n",
    "memo={}\n",
    "all_paths=find(0,0,\"\",memo)\n",
    "print(all_paths)"
   ]
  },
  {
   "cell_type": "code",
   "execution_count": 7,
   "id": "43986e5f",
   "metadata": {},
   "outputs": [
    {
     "name": "stdout",
     "output_type": "stream",
     "text": [
      "DDRR\n",
      "DRDR\n",
      "DRRD\n",
      "RDDR\n",
      "RDRD\n",
      "RRDD\n"
     ]
    }
   ],
   "source": [
    "# fiding all path without zero\n",
    "def find(x,y,path):\n",
    "    if x==2 and y==2:\n",
    "        print(path)\n",
    "        return     #x-coloumn (down)   , y= row (right)\n",
    "    if x+1<=2 and grid[x+1][y]!=0:\n",
    "        find(x+1,y,path+\"D\")\n",
    "    if y+1<=2 and grid[x][y+1]!=0:\n",
    "        find(x,y+1,path+\"R\")\n",
    "grid=[\n",
    "    [1,5,3],\n",
    "    [2,4,8],\n",
    "    [9,6,7]\n",
    "]\n",
    "\n",
    "find(0,0,\"\")"
   ]
  },
  {
   "cell_type": "code",
   "execution_count": 27,
   "id": "ed5ee498",
   "metadata": {},
   "outputs": [
    {
     "name": "stdout",
     "output_type": "stream",
     "text": [
      "DDRR\n",
      "DRDR\n",
      "DRRD\n",
      "RDDR\n",
      "RDRD\n",
      "RRDD\n"
     ]
    },
    {
     "data": {
      "text/plain": [
       "6"
      ]
     },
     "execution_count": 27,
     "metadata": {},
     "output_type": "execute_result"
    }
   ],
   "source": [
    "\n",
    "def find(x,y,path):\n",
    "    \n",
    "    if x==2 and y==2:\n",
    "        print(path)\n",
    "        \n",
    "        return 1     #x-coloumn (down)   , y= row (right)\n",
    "    count=0\n",
    "    \n",
    "    if x+1<=2 and grid[x+1][y]==0:\n",
    "        count+=find(x+1,y,path+\"D\")\n",
    "    if y+1<=2 and grid[x][y+1]==0:\n",
    "        count+=find(x,y+1,path+\"R\")\n",
    "    return count\n",
    "grid=[\n",
    "    [0,0,0],\n",
    "    [0,0,0],\n",
    "    [0,0,0]\n",
    "]\n",
    "\n",
    "find(0,0,\"\")"
   ]
  },
  {
   "cell_type": "code",
   "execution_count": null,
   "id": "17d28945",
   "metadata": {},
   "outputs": [
    {
     "data": {
      "text/plain": [
       "3"
      ]
     },
     "execution_count": 28,
     "metadata": {},
     "output_type": "execute_result"
    }
   ],
   "source": [
    "# LONGEST SUBSTRING WITHOUT REPEATING\n",
    "# INPUT-\"abcabcbb\"\n",
    "# without Dp\n",
    "\n",
    "def l_s(s):\n",
    "    n=len(s)\n",
    "    m_l=0\n",
    "    for i in range(n):\n",
    "        seen=set()\n",
    "        for j in range(i,n):\n",
    "            if s[j]in seen:\n",
    "                break\n",
    "            seen.add(s[j])\n",
    "            m_l=max(m_l,j-i+1)\n",
    "    return m_l # abc is the longest sub string\n",
    "l_s(\"abcabcbb\")"
   ]
  },
  {
   "cell_type": "code",
   "execution_count": 29,
   "id": "d643cc6c",
   "metadata": {},
   "outputs": [
    {
     "name": "stdout",
     "output_type": "stream",
     "text": [
      "3\n"
     ]
    }
   ],
   "source": [
    "# with Dp\n",
    "\n",
    "\n",
    "def longest_unique_substring(s):\n",
    "    last_seen = {}  # store last position of each char\n",
    "    dp = [0] * len(s)  # dp[i] = longest unique substring ending at i\n",
    "    max_len = 0\n",
    "\n",
    "    for i in range(len(s)):\n",
    "        if s[i] in last_seen:\n",
    "            distance = i - last_seen[s[i]]\n",
    "            dp[i] = min(dp[i - 1] + 1, distance)\n",
    "        else:\n",
    "            dp[i] = dp[i - 1] + 1 if i > 0 else 1\n",
    "\n",
    "        last_seen[s[i]] = i\n",
    "        max_len = max(max_len, dp[i])\n",
    "\n",
    "    return max_len\n",
    "\n",
    "print(longest_unique_substring(\"abcabcbb\"))"
   ]
  },
  {
   "cell_type": "code",
   "execution_count": null,
   "id": "de843be5",
   "metadata": {},
   "outputs": [
    {
     "data": {
      "text/plain": [
       "6"
      ]
     },
     "execution_count": 48,
     "metadata": {},
     "output_type": "execute_result"
    }
   ],
   "source": [
    "# fiding the min  path  sum\n",
    "def find(x,y,cost):\n",
    "    if x==2 and y==2:\n",
    "        # print(path)\n",
    "        return cost +grid[x][y]     #x-coloumn (down)   , y= row (right)\n",
    "    costs=[]\n",
    "    if x+1<=2:\n",
    "        costs.append(find(x+1,y,cost+grid[x][y]))\n",
    "    if y+1<=2:\n",
    "        costs.append(find(x,y+1,cost+grid[x][y]))\n",
    "    return min(costs)\n",
    "grid=[\n",
    "    [2,1,1],\n",
    "    [1,5,1],\n",
    "    [1,4,1]\n",
    "]\n",
    "\n",
    "find(0,0,0)"
   ]
  },
  {
   "cell_type": "code",
   "execution_count": 49,
   "id": "b0227f62",
   "metadata": {},
   "outputs": [
    {
     "name": "stdout",
     "output_type": "stream",
     "text": [
      "converted csv to tsv successfully!!\n"
     ]
    }
   ],
   "source": [
    "# CSV - TSV\n",
    "\n",
    "import csv\n",
    "\n",
    "with open(r\"C:\\Users\\hp\\Downloads\\File handle\\Book1.csv\",\"r\") as csvfile:\n",
    "    reader = csv.reader(csvfile)\n",
    "    rows=list(reader)  #READ ALL ROWS INTO A LIST\n",
    "\n",
    "with open(\"data_converted_to_tsv.tsv\",\"w\",newline=\"\") as tsvfile:\n",
    "    writer=csv.writer(tsvfile,delimiter=\"\\t\") # delimeter is tab here it changes the coma to space\n",
    "    writer.writerows(rows)\n",
    "print(\"converted csv to tsv successfully!!\")"
   ]
  },
  {
   "cell_type": "code",
   "execution_count": 50,
   "id": "73fc487b",
   "metadata": {},
   "outputs": [
    {
     "name": "stdout",
     "output_type": "stream",
     "text": [
      "richu 1000\n",
      "godson 2500\n",
      "abhi 2\n",
      "akash 1\n",
      "noufal 0\n",
      "razeen -1\n",
      "jameela 1000000\n",
      "shaz 100000\n",
      "sandra 9000\n",
      "fady 3000\n",
      "mufeed 200\n",
      "fiza 500\n",
      "minha 3\n",
      "abishek 6\n",
      "athulyaa 4\n",
      "kiran 0\n",
      "kishore 100000000\n",
      "manu 300000\n",
      "raju 500\n"
     ]
    }
   ],
   "source": [
    "import csv\n",
    "with open(r\"Book1.csv\",encoding=\"utf-8\",newline=\"\") as f:\n",
    "    reader=csv.DictReader(f)\n",
    "    for row in reader:\n",
    "        # row is an orderdict : column_name -> value\n",
    "        print(row[\"name\"],row[\"salary\"])"
   ]
  },
  {
   "cell_type": "code",
   "execution_count": 53,
   "id": "197eb724",
   "metadata": {},
   "outputs": [
    {
     "name": "stdout",
     "output_type": "stream",
     "text": [
      "CSV normslized and saved as cleaned_data.csv\n"
     ]
    }
   ],
   "source": [
    "# NORMALIZATION\n",
    "\n",
    "import csv\n",
    "\n",
    "with open(r\"C:\\Users\\hp\\Downloads\\File handle\\Book1.csv\",\"r\") as infile:\n",
    "    reader=csv.reader(infile)\n",
    "    rows=list(reader)\n",
    "\n",
    "# clean headers : trim spaces and lowercase\n",
    "    header =[h.strip().lower() for h in rows[0]]\n",
    "\n",
    "# clean data rows: trim spaces from each value\n",
    "cleaned_rows=[header]\n",
    "for row in rows[1:]:\n",
    "    cleaned_row=[val.strip() for val in row]\n",
    "    cleaned_rows.append(cleaned_row)\n",
    "\n",
    "# write cleaned csv\n",
    "with open(\"cleaned_data.csv\",\"w\",newline=\"\") as outfile:\n",
    "    writer = csv.writer(outfile)\n",
    "    writer.writerows(cleaned_rows)\n",
    "\n",
    "print(\"CSV normslized and saved as cleaned_data.csv\")\n"
   ]
  },
  {
   "cell_type": "code",
   "execution_count": 68,
   "id": "0be69b6e",
   "metadata": {},
   "outputs": [
    {
     "name": "stdout",
     "output_type": "stream",
     "text": [
      "    SI.NO      name       salary\n",
      "0       1     richu       1000.0\n",
      "1       2    godson       2500.0\n",
      "2       3      abhi          2.0\n",
      "3       4     akash          NaN\n",
      "4       5    noufal          0.0\n",
      "5       6    razeen         -1.0\n",
      "6       7   jameela    1000000.0\n",
      "7       8      shaz     100000.0\n",
      "8       9    sandra       9000.0\n",
      "9      10      fady          NaN\n",
      "10     11    mufeed        200.0\n",
      "11     12      fiza        500.0\n",
      "12     13     minha          3.0\n",
      "13     14   abishek          6.0\n",
      "14     15  athulyaa          4.0\n",
      "15     16     kiran          0.0\n",
      "16     17   kishore  100000000.0\n",
      "17     18      manu     300000.0\n",
      "18     19      raju        500.0\n"
     ]
    }
   ],
   "source": [
    "import pandas as pd\n",
    "\n",
    "data =pd.read_csv(\"Book1.csv\")\n",
    "print(data)"
   ]
  },
  {
   "cell_type": "code",
   "execution_count": 55,
   "id": "a2d28e76",
   "metadata": {},
   "outputs": [
    {
     "data": {
      "text/html": [
       "<div>\n",
       "<style scoped>\n",
       "    .dataframe tbody tr th:only-of-type {\n",
       "        vertical-align: middle;\n",
       "    }\n",
       "\n",
       "    .dataframe tbody tr th {\n",
       "        vertical-align: top;\n",
       "    }\n",
       "\n",
       "    .dataframe thead th {\n",
       "        text-align: right;\n",
       "    }\n",
       "</style>\n",
       "<table border=\"1\" class=\"dataframe\">\n",
       "  <thead>\n",
       "    <tr style=\"text-align: right;\">\n",
       "      <th></th>\n",
       "      <th>SI.NO</th>\n",
       "      <th>name</th>\n",
       "      <th>salary</th>\n",
       "    </tr>\n",
       "  </thead>\n",
       "  <tbody>\n",
       "    <tr>\n",
       "      <th>0</th>\n",
       "      <td>1</td>\n",
       "      <td>richu</td>\n",
       "      <td>1000</td>\n",
       "    </tr>\n",
       "    <tr>\n",
       "      <th>1</th>\n",
       "      <td>2</td>\n",
       "      <td>godson</td>\n",
       "      <td>2500</td>\n",
       "    </tr>\n",
       "    <tr>\n",
       "      <th>2</th>\n",
       "      <td>3</td>\n",
       "      <td>abhi</td>\n",
       "      <td>2</td>\n",
       "    </tr>\n",
       "    <tr>\n",
       "      <th>3</th>\n",
       "      <td>4</td>\n",
       "      <td>akash</td>\n",
       "      <td>1</td>\n",
       "    </tr>\n",
       "    <tr>\n",
       "      <th>4</th>\n",
       "      <td>5</td>\n",
       "      <td>noufal</td>\n",
       "      <td>0</td>\n",
       "    </tr>\n",
       "  </tbody>\n",
       "</table>\n",
       "</div>"
      ],
      "text/plain": [
       "   SI.NO    name  salary\n",
       "0      1   richu    1000\n",
       "1      2  godson    2500\n",
       "2      3    abhi       2\n",
       "3      4   akash       1\n",
       "4      5  noufal       0"
      ]
     },
     "execution_count": 55,
     "metadata": {},
     "output_type": "execute_result"
    }
   ],
   "source": [
    "data.head(5)   # it gives the first 5"
   ]
  },
  {
   "cell_type": "code",
   "execution_count": 56,
   "id": "c38adbc9",
   "metadata": {},
   "outputs": [
    {
     "data": {
      "text/html": [
       "<div>\n",
       "<style scoped>\n",
       "    .dataframe tbody tr th:only-of-type {\n",
       "        vertical-align: middle;\n",
       "    }\n",
       "\n",
       "    .dataframe tbody tr th {\n",
       "        vertical-align: top;\n",
       "    }\n",
       "\n",
       "    .dataframe thead th {\n",
       "        text-align: right;\n",
       "    }\n",
       "</style>\n",
       "<table border=\"1\" class=\"dataframe\">\n",
       "  <thead>\n",
       "    <tr style=\"text-align: right;\">\n",
       "      <th></th>\n",
       "      <th>SI.NO</th>\n",
       "      <th>name</th>\n",
       "      <th>salary</th>\n",
       "    </tr>\n",
       "  </thead>\n",
       "  <tbody>\n",
       "    <tr>\n",
       "      <th>14</th>\n",
       "      <td>15</td>\n",
       "      <td>athulyaa</td>\n",
       "      <td>4</td>\n",
       "    </tr>\n",
       "    <tr>\n",
       "      <th>15</th>\n",
       "      <td>16</td>\n",
       "      <td>kiran</td>\n",
       "      <td>0</td>\n",
       "    </tr>\n",
       "    <tr>\n",
       "      <th>16</th>\n",
       "      <td>17</td>\n",
       "      <td>kishore</td>\n",
       "      <td>100000000</td>\n",
       "    </tr>\n",
       "    <tr>\n",
       "      <th>17</th>\n",
       "      <td>18</td>\n",
       "      <td>manu</td>\n",
       "      <td>300000</td>\n",
       "    </tr>\n",
       "    <tr>\n",
       "      <th>18</th>\n",
       "      <td>19</td>\n",
       "      <td>raju</td>\n",
       "      <td>500</td>\n",
       "    </tr>\n",
       "  </tbody>\n",
       "</table>\n",
       "</div>"
      ],
      "text/plain": [
       "    SI.NO      name     salary\n",
       "14     15  athulyaa          4\n",
       "15     16     kiran          0\n",
       "16     17   kishore  100000000\n",
       "17     18      manu     300000\n",
       "18     19      raju        500"
      ]
     },
     "execution_count": 56,
     "metadata": {},
     "output_type": "execute_result"
    }
   ],
   "source": [
    "data.tail() # it gives the last 5"
   ]
  },
  {
   "cell_type": "code",
   "execution_count": 57,
   "id": "a286a175",
   "metadata": {},
   "outputs": [
    {
     "name": "stdout",
     "output_type": "stream",
     "text": [
      "<class 'pandas.core.frame.DataFrame'>\n",
      "RangeIndex: 19 entries, 0 to 18\n",
      "Data columns (total 3 columns):\n",
      " #   Column  Non-Null Count  Dtype \n",
      "---  ------  --------------  ----- \n",
      " 0   SI.NO   19 non-null     int64 \n",
      " 1   name    19 non-null     object\n",
      " 2   salary  19 non-null     int64 \n",
      "dtypes: int64(2), object(1)\n",
      "memory usage: 588.0+ bytes\n"
     ]
    }
   ],
   "source": [
    "data.info()    #it gives the all informations "
   ]
  },
  {
   "cell_type": "code",
   "execution_count": null,
   "id": "8817ba82",
   "metadata": {},
   "outputs": [
    {
     "data": {
      "text/html": [
       "<div>\n",
       "<style scoped>\n",
       "    .dataframe tbody tr th:only-of-type {\n",
       "        vertical-align: middle;\n",
       "    }\n",
       "\n",
       "    .dataframe tbody tr th {\n",
       "        vertical-align: top;\n",
       "    }\n",
       "\n",
       "    .dataframe thead th {\n",
       "        text-align: right;\n",
       "    }\n",
       "</style>\n",
       "<table border=\"1\" class=\"dataframe\">\n",
       "  <thead>\n",
       "    <tr style=\"text-align: right;\">\n",
       "      <th></th>\n",
       "      <th>SI.NO</th>\n",
       "      <th>salary</th>\n",
       "    </tr>\n",
       "  </thead>\n",
       "  <tbody>\n",
       "    <tr>\n",
       "      <th>count</th>\n",
       "      <td>19.000000</td>\n",
       "      <td>1.900000e+01</td>\n",
       "    </tr>\n",
       "    <tr>\n",
       "      <th>mean</th>\n",
       "      <td>10.000000</td>\n",
       "      <td>5.337722e+06</td>\n",
       "    </tr>\n",
       "    <tr>\n",
       "      <th>std</th>\n",
       "      <td>5.627314</td>\n",
       "      <td>2.292471e+07</td>\n",
       "    </tr>\n",
       "    <tr>\n",
       "      <th>min</th>\n",
       "      <td>1.000000</td>\n",
       "      <td>-1.000000e+00</td>\n",
       "    </tr>\n",
       "    <tr>\n",
       "      <th>25%</th>\n",
       "      <td>5.500000</td>\n",
       "      <td>2.500000e+00</td>\n",
       "    </tr>\n",
       "    <tr>\n",
       "      <th>50%</th>\n",
       "      <td>10.000000</td>\n",
       "      <td>5.000000e+02</td>\n",
       "    </tr>\n",
       "    <tr>\n",
       "      <th>75%</th>\n",
       "      <td>14.500000</td>\n",
       "      <td>6.000000e+03</td>\n",
       "    </tr>\n",
       "    <tr>\n",
       "      <th>max</th>\n",
       "      <td>19.000000</td>\n",
       "      <td>1.000000e+08</td>\n",
       "    </tr>\n",
       "  </tbody>\n",
       "</table>\n",
       "</div>"
      ],
      "text/plain": [
       "           SI.NO        salary\n",
       "count  19.000000  1.900000e+01\n",
       "mean   10.000000  5.337722e+06\n",
       "std     5.627314  2.292471e+07\n",
       "min     1.000000 -1.000000e+00\n",
       "25%     5.500000  2.500000e+00\n",
       "50%    10.000000  5.000000e+02\n",
       "75%    14.500000  6.000000e+03\n",
       "max    19.000000  1.000000e+08"
      ]
     },
     "execution_count": 58,
     "metadata": {},
     "output_type": "execute_result"
    }
   ],
   "source": [
    "data.describe()  #it apply the statistics for number colums(like mean ,median ,count etc...)"
   ]
  },
  {
   "cell_type": "code",
   "execution_count": 69,
   "id": "16def682",
   "metadata": {},
   "outputs": [
    {
     "data": {
      "text/plain": [
       "SI.NO     0\n",
       "name      0\n",
       "salary    2\n",
       "dtype: int64"
      ]
     },
     "execution_count": 69,
     "metadata": {},
     "output_type": "execute_result"
    }
   ],
   "source": [
    "data.isnull().sum()  # it gives the count of missing data(empty column) in the table"
   ]
  },
  {
   "cell_type": "code",
   "execution_count": 70,
   "id": "e4e63e9d",
   "metadata": {},
   "outputs": [
    {
     "data": {
      "text/plain": [
       "<bound method DataFrame.dropna of     SI.NO      name       salary\n",
       "0       1     richu       1000.0\n",
       "1       2    godson       2500.0\n",
       "2       3      abhi          2.0\n",
       "3       4     akash          NaN\n",
       "4       5    noufal          0.0\n",
       "5       6    razeen         -1.0\n",
       "6       7   jameela    1000000.0\n",
       "7       8      shaz     100000.0\n",
       "8       9    sandra       9000.0\n",
       "9      10      fady          NaN\n",
       "10     11    mufeed        200.0\n",
       "11     12      fiza        500.0\n",
       "12     13     minha          3.0\n",
       "13     14   abishek          6.0\n",
       "14     15  athulyaa          4.0\n",
       "15     16     kiran          0.0\n",
       "16     17   kishore  100000000.0\n",
       "17     18      manu     300000.0\n",
       "18     19      raju        500.0>"
      ]
     },
     "execution_count": 70,
     "metadata": {},
     "output_type": "execute_result"
    }
   ],
   "source": [
    "data.dropna # drop the colums row wise if there any missing values"
   ]
  },
  {
   "cell_type": "code",
   "execution_count": null,
   "id": "5dbb2986",
   "metadata": {},
   "outputs": [
    {
     "data": {
      "text/html": [
       "<div>\n",
       "<style scoped>\n",
       "    .dataframe tbody tr th:only-of-type {\n",
       "        vertical-align: middle;\n",
       "    }\n",
       "\n",
       "    .dataframe tbody tr th {\n",
       "        vertical-align: top;\n",
       "    }\n",
       "\n",
       "    .dataframe thead th {\n",
       "        text-align: right;\n",
       "    }\n",
       "</style>\n",
       "<table border=\"1\" class=\"dataframe\">\n",
       "  <thead>\n",
       "    <tr style=\"text-align: right;\">\n",
       "      <th></th>\n",
       "      <th>SI.NO</th>\n",
       "      <th>name</th>\n",
       "      <th>salary</th>\n",
       "    </tr>\n",
       "  </thead>\n",
       "  <tbody>\n",
       "    <tr>\n",
       "      <th>0</th>\n",
       "      <td>1</td>\n",
       "      <td>richu</td>\n",
       "      <td>1000.0</td>\n",
       "    </tr>\n",
       "    <tr>\n",
       "      <th>1</th>\n",
       "      <td>2</td>\n",
       "      <td>godson</td>\n",
       "      <td>2500.0</td>\n",
       "    </tr>\n",
       "    <tr>\n",
       "      <th>2</th>\n",
       "      <td>3</td>\n",
       "      <td>abhi</td>\n",
       "      <td>2.0</td>\n",
       "    </tr>\n",
       "    <tr>\n",
       "      <th>3</th>\n",
       "      <td>4</td>\n",
       "      <td>akash</td>\n",
       "      <td>100.0</td>\n",
       "    </tr>\n",
       "    <tr>\n",
       "      <th>4</th>\n",
       "      <td>5</td>\n",
       "      <td>noufal</td>\n",
       "      <td>0.0</td>\n",
       "    </tr>\n",
       "    <tr>\n",
       "      <th>5</th>\n",
       "      <td>6</td>\n",
       "      <td>razeen</td>\n",
       "      <td>-1.0</td>\n",
       "    </tr>\n",
       "    <tr>\n",
       "      <th>6</th>\n",
       "      <td>7</td>\n",
       "      <td>jameela</td>\n",
       "      <td>1000000.0</td>\n",
       "    </tr>\n",
       "    <tr>\n",
       "      <th>7</th>\n",
       "      <td>8</td>\n",
       "      <td>shaz</td>\n",
       "      <td>100000.0</td>\n",
       "    </tr>\n",
       "    <tr>\n",
       "      <th>8</th>\n",
       "      <td>9</td>\n",
       "      <td>sandra</td>\n",
       "      <td>9000.0</td>\n",
       "    </tr>\n",
       "    <tr>\n",
       "      <th>9</th>\n",
       "      <td>10</td>\n",
       "      <td>fady</td>\n",
       "      <td>100.0</td>\n",
       "    </tr>\n",
       "    <tr>\n",
       "      <th>10</th>\n",
       "      <td>11</td>\n",
       "      <td>mufeed</td>\n",
       "      <td>200.0</td>\n",
       "    </tr>\n",
       "    <tr>\n",
       "      <th>11</th>\n",
       "      <td>12</td>\n",
       "      <td>fiza</td>\n",
       "      <td>500.0</td>\n",
       "    </tr>\n",
       "    <tr>\n",
       "      <th>12</th>\n",
       "      <td>13</td>\n",
       "      <td>minha</td>\n",
       "      <td>3.0</td>\n",
       "    </tr>\n",
       "    <tr>\n",
       "      <th>13</th>\n",
       "      <td>14</td>\n",
       "      <td>abishek</td>\n",
       "      <td>6.0</td>\n",
       "    </tr>\n",
       "    <tr>\n",
       "      <th>14</th>\n",
       "      <td>15</td>\n",
       "      <td>athulyaa</td>\n",
       "      <td>4.0</td>\n",
       "    </tr>\n",
       "    <tr>\n",
       "      <th>15</th>\n",
       "      <td>16</td>\n",
       "      <td>kiran</td>\n",
       "      <td>0.0</td>\n",
       "    </tr>\n",
       "    <tr>\n",
       "      <th>16</th>\n",
       "      <td>17</td>\n",
       "      <td>kishore</td>\n",
       "      <td>100000000.0</td>\n",
       "    </tr>\n",
       "    <tr>\n",
       "      <th>17</th>\n",
       "      <td>18</td>\n",
       "      <td>manu</td>\n",
       "      <td>300000.0</td>\n",
       "    </tr>\n",
       "    <tr>\n",
       "      <th>18</th>\n",
       "      <td>19</td>\n",
       "      <td>raju</td>\n",
       "      <td>500.0</td>\n",
       "    </tr>\n",
       "  </tbody>\n",
       "</table>\n",
       "</div>"
      ],
      "text/plain": [
       "    SI.NO      name       salary\n",
       "0       1     richu       1000.0\n",
       "1       2    godson       2500.0\n",
       "2       3      abhi          2.0\n",
       "3       4     akash        100.0\n",
       "4       5    noufal          0.0\n",
       "5       6    razeen         -1.0\n",
       "6       7   jameela    1000000.0\n",
       "7       8      shaz     100000.0\n",
       "8       9    sandra       9000.0\n",
       "9      10      fady        100.0\n",
       "10     11    mufeed        200.0\n",
       "11     12      fiza        500.0\n",
       "12     13     minha          3.0\n",
       "13     14   abishek          6.0\n",
       "14     15  athulyaa          4.0\n",
       "15     16     kiran          0.0\n",
       "16     17   kishore  100000000.0\n",
       "17     18      manu     300000.0\n",
       "18     19      raju        500.0"
      ]
     },
     "execution_count": 72,
     "metadata": {},
     "output_type": "execute_result"
    }
   ],
   "source": [
    "data.fillna(100)   #replace a value if any null spaces with given value"
   ]
  }
 ],
 "metadata": {
  "kernelspec": {
   "display_name": "Python 3",
   "language": "python",
   "name": "python3"
  },
  "language_info": {
   "codemirror_mode": {
    "name": "ipython",
    "version": 3
   },
   "file_extension": ".py",
   "mimetype": "text/x-python",
   "name": "python",
   "nbconvert_exporter": "python",
   "pygments_lexer": "ipython3",
   "version": "3.12.5"
  }
 },
 "nbformat": 4,
 "nbformat_minor": 5
}
