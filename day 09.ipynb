{
 "cells": [
  {
   "cell_type": "code",
   "execution_count": null,
   "id": "a4cfee9d",
   "metadata": {},
   "outputs": [],
   "source": [
    "# DAY -08\n",
    "\n",
    "\n",
    "# encapsulation - wrapping/binding  all data into  one single unit \n",
    "# methods - setter ( company name ) and getter (to get the company name )\n",
    "\n",
    "\n",
    "# Access modifiers - private(we can't able to change the company name),public (we can able to change the company name),protected"
   ]
  },
  {
   "cell_type": "code",
   "execution_count": 3,
   "id": "de6ed0c8",
   "metadata": {},
   "outputs": [
    {
     "name": "stdout",
     "output_type": "stream",
     "text": [
      "i am raju and i am 19 year old \n",
      "i am raju and i am 21 year old \n"
     ]
    }
   ],
   "source": [
    "class person():\n",
    "    def __init__(self,name,age): #constructor\n",
    "        # self.name=\"godson\"  # its public mode (the name gives directly)\n",
    "        self.name=name\n",
    "        self.__age=age #private mode (we give \"__\" in front of variable it turn to private)\n",
    "        # self._age=age  # protected mode (we give \"_\" in front of variable is called protected mode)\n",
    "    def display(self):\n",
    "        print(f\"i am {self.name} and i am {self.__age} year old \")\n",
    "    def setter(self,new_age):\n",
    "        if new_age>0:\n",
    "            self.__age=new_age\n",
    "\n",
    "    def getter(self):\n",
    "        return self.__age \n",
    "p1=person(\"raju\",19)\n",
    "p1.display()\n",
    "p1.getter()\n",
    "p1.setter(21)\n",
    "p1.getter()\n",
    "p1.display()\n",
    "\n"
   ]
  },
  {
   "cell_type": "code",
   "execution_count": 4,
   "id": "8c9be329",
   "metadata": {},
   "outputs": [
    {
     "name": "stdout",
     "output_type": "stream",
     "text": [
      "my name is godson and the pin is 1236\n",
      "my name is godson and the pin is 9510\n"
     ]
    }
   ],
   "source": [
    "# creat atm class\n",
    "# use init method-parameter PIN (in private)\n",
    "# length upto 4 in give more no give invalid pin\n",
    "# use  setter & getter  method\n",
    "\n",
    "\n",
    "class atm():\n",
    "    def __init__(self,name,pin):\n",
    "        self.name=name\n",
    "        self.__pin=pin\n",
    "    def display(self):\n",
    "        print(f\"my name is {self.name} and the pin is {self.__pin}\")\n",
    "    def setter(self,new_pin):\n",
    "        if (len(str(new_pin))==4):     # in intiger there is no len so we want to convert to str\n",
    "            self.__pin=new_pin\n",
    "        else:\n",
    "            print(\"invalid pin\")\n",
    "    def getter(self):\n",
    "        return self.__pin\n",
    "a1=atm(\"godson\",1236)\n",
    "a1.display()\n",
    "a1.getter()\n",
    "a1.setter(9510)\n",
    "a1.display()\n",
    "\n",
    "\n",
    "        "
   ]
  },
  {
   "cell_type": "code",
   "execution_count": 5,
   "id": "b74cb4e4",
   "metadata": {},
   "outputs": [
    {
     "name": "stdout",
     "output_type": "stream",
     "text": [
      "bird is flying in the sky\n",
      "the flight flies\n",
      "ironman is flying using super power\n"
     ]
    }
   ],
   "source": [
    "# polymorphism - we can perform the same task in many ways\n",
    "\n",
    "\n",
    "class bird():\n",
    "    def fly(self):\n",
    "        print(\"bird is flying in the sky\")\n",
    "class flight():\n",
    "    def fly(self):\n",
    "        print(\"the flight flies\")\n",
    "class ironman():\n",
    "    def fly(self):\n",
    "        print(\"ironman is flying using super power\")\n",
    "b1=[bird(),flight(),ironman()]  #there is 3 class so object doesnt work\n",
    "\n",
    "for i in b1:\n",
    "    i.fly()\n",
    "\n",
    "    "
   ]
  },
  {
   "cell_type": "code",
   "execution_count": 6,
   "id": "05a5ce99",
   "metadata": {},
   "outputs": [
    {
     "name": "stdout",
     "output_type": "stream",
     "text": [
      "all animal make sound\n",
      "dog barks\n",
      "cat meows\n"
     ]
    }
   ],
   "source": [
    "# animal heirarcy\n",
    "\n",
    "class animal():\n",
    "    def sound(self):\n",
    "        print(\"all animal make sound\")\n",
    "class dog():\n",
    "    def sound(self):\n",
    "        print(\"dog barks\")\n",
    "class cat():\n",
    "    def sound(self):\n",
    "        print(\"cat meows\")\n",
    "c1=[animal(),dog(),cat()]\n",
    "\n",
    "for i in c1:\n",
    "    i.sound()"
   ]
  },
  {
   "cell_type": "code",
   "execution_count": 7,
   "id": "ef15c09e",
   "metadata": {},
   "outputs": [
    {
     "name": "stdout",
     "output_type": "stream",
     "text": [
      "washing the fruits\n",
      "cutting the fruits by using knif\n",
      "grind the fruits using mixer\n",
      "add suger to the juice\n",
      "serve it and enjoy it\n"
     ]
    }
   ],
   "source": [
    "# ABSTRACTION\n",
    "\n",
    "\n",
    "class juicemaker():\n",
    "    def make_juice(self):\n",
    "        self.__wash()\n",
    "        self.__cutting_the_fruits()\n",
    "        self.__blending()\n",
    "        self.__adding_suger()\n",
    "        self.__serve()\n",
    "    def __wash(self):\n",
    "        print(\"washing the fruits\")\n",
    "    def __cutting_the_fruits(self):\n",
    "        print(\"cutting the fruits by using knif\")\n",
    "    def __blending(self):\n",
    "        print(\"grind the fruits using mixer\")\n",
    "    def __adding_suger(self):\n",
    "        print(\"add suger to the juice\")\n",
    "    def __serve(self):\n",
    "        print(\"serve it and enjoy it\")\n",
    "jm=juicemaker()\n",
    "jm.make_juice()\n",
    "\n",
    "# all the methods are given in private soo it gives the output but (there is an error of attribute in class (juicemaker ))"
   ]
  },
  {
   "cell_type": "code",
   "execution_count": 8,
   "id": "500cc8ef",
   "metadata": {},
   "outputs": [
    {
     "name": "stdout",
     "output_type": "stream",
     "text": [
      "the cuurent temp is 22\n",
      "the target temp is25\n",
      "turn on the heater\n"
     ]
    }
   ],
   "source": [
    "# HOME WORK QUESTIONS\n",
    "\n",
    "# 1.encapsulation -smart thermostat system\n",
    "\n",
    "\n",
    "# creat\n",
    "# class termostat\n",
    "# two methods current tmp and target (hidden)\n",
    "# if the current temp <target temp  turn on heater\n",
    "# if the current temp> target temp  turn on cooler\n",
    "# else normal temp\n",
    "\n",
    "class thermostat():\n",
    "    def __init__(self,current,target):\n",
    "        self.__current_temp=current\n",
    "        self.__target_temp=target\n",
    "    def getter(self):\n",
    "        print(f\"the cuurent temp is {self.__current_temp}\") \n",
    "    def setter(self,new_temp):\n",
    "        if(new_temp>=15 and new_temp<=30):\n",
    "            self.__target_temp=new_temp\n",
    "            print(f\"the target temp is{self.__target_temp}\")\n",
    "            self.system()\n",
    "        else:\n",
    "            print(\"temp is out of control\")\n",
    "    def system(self):\n",
    "        if (self.__current_temp <self.__target_temp):\n",
    "            print(\"turn on the heater\")\n",
    "        elif(self.__current_temp > self.__target_temp):\n",
    "            print(\"turn on the cooler\")\n",
    "        else:\n",
    "            print(\"whether is normal\")\n",
    "t1=thermostat(22,25)\n",
    "t1.getter()\n",
    "t1.setter(25)\n",
    "\n"
   ]
  },
  {
   "cell_type": "code",
   "execution_count": 9,
   "id": "f3f00551",
   "metadata": {},
   "outputs": [
    {
     "name": "stdout",
     "output_type": "stream",
     "text": [
      "my name is sins and i am from heart surgen department and my ID is 101\n",
      "my name is john and i am from assistant nurse department and my ID is 202\n",
      "my name is kiru and i am from staff department and my ID is 606\n"
     ]
    }
   ],
   "source": [
    "# 3. Iheritance -hospital management system\n",
    "# A hospital has a base class staff with common attributes like name, id an department\n",
    "# subclass like doctor nurse and receptionist inherted from it and there on methods\n",
    "# like diagnose,assist_surgery or shedule appoiments\n",
    "# concept-use inheritance to reuse and extend base functionalities\n",
    " \n",
    "\n",
    "class hospital():\n",
    "    def __init__(self,name,ID,department):\n",
    "        self.name=name\n",
    "        self.ID=ID\n",
    "        self.department=department\n",
    "class doctor(hospital):\n",
    "    def diagnose(self):\n",
    "        print(f\"my name is {self.name} and i am from {self.department} department and my ID is {self.ID}\")\n",
    "class nurse(hospital):\n",
    "    def assist_surgery(self):\n",
    "        print(f\"my name is {self.name} and i am from {self.department} department and my ID is {self.ID}\")\n",
    "class receptionist(hospital):\n",
    "    def shcedule_appoiments(self):\n",
    "        print(f\"my name is {self.name} and i am from {self.department} department and my ID is {self.ID}\")\n",
    "\n",
    "d1=doctor(\"sins\",101,\"heart surgen\")\n",
    "d1.diagnose()\n",
    "n1=nurse(\"john\",202,\"assistant nurse\")\n",
    "n1.assist_surgery()\n",
    "r1=receptionist(\"kiru\",606,\"staff\")\n",
    "r1.shcedule_appoiments()"
   ]
  },
  {
   "cell_type": "code",
   "execution_count": 10,
   "id": "3df3ad6f",
   "metadata": {},
   "outputs": [
    {
     "name": "stdout",
     "output_type": "stream",
     "text": [
      "sending email\n",
      "sending sms\n",
      "sending notification\n"
     ]
    }
   ],
   "source": [
    "# polymorphism - notifiaction\n",
    "# we want to make a class notification \n",
    "# creat a method send for every class\n",
    "# create seperate subclasses like email,sms,push notification\n",
    "# we want to creat a list for caling the fn bcz it have same method\n",
    "\n",
    "class notification():\n",
    "    def send(self):\n",
    "        print(\"send msg every where\")\n",
    "\n",
    "class email():\n",
    "    def send(self):\n",
    "        print(\"sending email\")\n",
    "class sms():\n",
    "    def send(self):\n",
    "        print(\"sending sms\")\n",
    "class push():\n",
    "    def send(self):\n",
    "        print(\"sending notification\")\n",
    "n1=[email(),sms(),push()]\n",
    "for n in n1:\n",
    "    n.send()\n",
    "        \n"
   ]
  }
 ],
 "metadata": {
  "kernelspec": {
   "display_name": "Python 3",
   "language": "python",
   "name": "python3"
  },
  "language_info": {
   "codemirror_mode": {
    "name": "ipython",
    "version": 3
   },
   "file_extension": ".py",
   "mimetype": "text/x-python",
   "name": "python",
   "nbconvert_exporter": "python",
   "pygments_lexer": "ipython3",
   "version": "3.12.5"
  }
 },
 "nbformat": 4,
 "nbformat_minor": 5
}
