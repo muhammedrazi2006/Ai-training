{
 "cells": [
  {
   "cell_type": "code",
   "execution_count": null,
   "id": "99b34638",
   "metadata": {},
   "outputs": [],
   "source": [
    "# day 11\n",
    "#      foundation of ai\n",
    "# scalar - 0 dimensional value eg: 5\n",
    "# vector\n",
    "# linear algebra - 1 dimensional value eg: [1,2,3,4,5]\n",
    "\n",
    "#scalar=4 \n",
    "# vector- 1 deimension value eg:[1,2,3,4,5]\n",
    "# matrix- 2 or more diemensional value eg: [[1,2],[2,3]] \n",
    "# tensor- 3 or more dimensional value eg: [[[1,2],[2,3]],[[1,2],[2,3]]]\n"
   ]
  },
  {
   "cell_type": "code",
   "execution_count": 2,
   "id": "64af81f4",
   "metadata": {},
   "outputs": [
    {
     "name": "stdout",
     "output_type": "stream",
     "text": [
      "5\n",
      "1\n",
      "2\n",
      "3\n"
     ]
    }
   ],
   "source": [
    "import numpy as np\n",
    "scalar=5\n",
    "vector=np.array([1,2,3,4,5])\n",
    "matrix=np.matrix([[1,2,2],[3,2,1],[1,2,3]])\n",
    "print(scalar)\n",
    "print(vector.ndim)\n",
    "print(matrix.ndim)\n",
    "print(np.linalg.matrix_rank(matrix))\n",
    "# tensor- 3 or more dimensional value eg: [[[1,2],[2,3]],[[1,2],[2,3]]]"
   ]
  },
  {
   "cell_type": "code",
   "execution_count": 3,
   "id": "4f0db3ea",
   "metadata": {},
   "outputs": [
    {
     "name": "stdout",
     "output_type": "stream",
     "text": [
      "1\n",
      "2\n",
      "[1 2 3]\n",
      "[[1]\n",
      " [2]\n",
      " [3]]\n"
     ]
    }
   ],
   "source": [
    "# dot product of two vectors using numpy\n",
    "\n",
    "row=np.array([1,2,3])\n",
    "col=np.matrix([[1],[2],[3]])\n",
    "print(row.ndim) #ndim - it returns number of dimensions (1D, 2D, etc.  )\n",
    "print(col.ndim)\n",
    "print(row)\n",
    "print(col)"
   ]
  },
  {
   "cell_type": "code",
   "execution_count": 4,
   "id": "78d38604",
   "metadata": {},
   "outputs": [
    {
     "name": "stdout",
     "output_type": "stream",
     "text": [
      "[[ 1  4]\n",
      " [ 9 16]]\n",
      "[[2 4]\n",
      " [6 8]]\n"
     ]
    }
   ],
   "source": [
    "# multiply of two vectors using numpy\n",
    "v1=np.array([[1,2],[3,4]])\n",
    "v2=np.array([[1,2],[3,4]])\n",
    "print(v1*v2)\n",
    "print(2*v1)"
   ]
  },
  {
   "cell_type": "code",
   "execution_count": 5,
   "id": "3d2f5fc8",
   "metadata": {},
   "outputs": [
    {
     "name": "stdout",
     "output_type": "stream",
     "text": [
      "[[ 7 10]\n",
      " [15 22]]\n"
     ]
    }
   ],
   "source": [
    "# dot product of two vectors using numpy\n",
    "A = np.array([[1, 2], [3, 4]])\n",
    "B = np.array([[1, 2], [3, 4]])\n",
    "result = np.dot(A, B)\n",
    "print(result)"
   ]
  },
  {
   "cell_type": "code",
   "execution_count": 6,
   "id": "a14ac1af",
   "metadata": {},
   "outputs": [
    {
     "name": "stdout",
     "output_type": "stream",
     "text": [
      "[[1 3]\n",
      " [2 4]]\n"
     ]
    }
   ],
   "source": [
    "#transpose of a matrix\n",
    "v1=np.array([[1,2],[3,4]])\n",
    "print(v1.T)"
   ]
  },
  {
   "cell_type": "code",
   "execution_count": 7,
   "id": "aa57ed16",
   "metadata": {},
   "outputs": [
    {
     "name": "stdout",
     "output_type": "stream",
     "text": [
      "[0 0]\n"
     ]
    },
    {
     "name": "stderr",
     "output_type": "stream",
     "text": [
      "C:\\Users\\hp\\AppData\\Local\\Temp\\ipykernel_4356\\4086599768.py:8: DeprecationWarning: Arrays of 2-dimensional vectors are deprecated. Use arrays of 3-dimensional vectors instead. (deprecated in NumPy 2.0)\n",
      "  result = np.cross(A, B)\n"
     ]
    }
   ],
   "source": [
    "# cross product of two vectors\n",
    "# The cross product is only defined for 3-dimensional vectors.\n",
    "import numpy as np\n",
    "\n",
    "\n",
    "A = np.array([[1, 2], [3, 4]])\n",
    "B = np.array([[1, 2], [3, 4]])\n",
    "result = np.cross(A, B)\n",
    "print(result)"
   ]
  },
  {
   "cell_type": "code",
   "execution_count": 8,
   "id": "343787e4",
   "metadata": {},
   "outputs": [
    {
     "name": "stdout",
     "output_type": "stream",
     "text": [
      "30\n"
     ]
    }
   ],
   "source": [
    "# dot product of two vectors\n",
    "# The dot product is defined for vectors of the same dimension.\n",
    "\n",
    "\n",
    "A = np.array([1, 2,3, 4])\n",
    "B = np.array([1, 2,3, 4])\n",
    "result = np.dot(A, B)\n",
    "print(result)"
   ]
  },
  {
   "cell_type": "code",
   "execution_count": 9,
   "id": "4b229225",
   "metadata": {},
   "outputs": [
    {
     "name": "stdout",
     "output_type": "stream",
     "text": [
      "[[ -3   6  -3]\n",
      " [ 24  12 -46]]\n"
     ]
    }
   ],
   "source": [
    "# cross product of two vectors\n",
    "# The cross product is only defined for 3-dimensional vectors.\n",
    "import numpy as np\n",
    "A = np.array([[1, 2,3], [7,9,6]])\n",
    "B = np.array([[4,5,6], [9,5,6]])\n",
    "result = np.cross(A, B)\n",
    "print(result)"
   ]
  },
  {
   "cell_type": "code",
   "execution_count": 10,
   "id": "c54fc53c",
   "metadata": {},
   "outputs": [
    {
     "name": "stdout",
     "output_type": "stream",
     "text": [
      "32\n"
     ]
    }
   ],
   "source": [
    "# dot product of two vectors using a for loop\n",
    "\n",
    "a=[1,2,3]\n",
    "b=[4,5,6]\n",
    "c=0\n",
    "for i in range(len(a)):\n",
    "    c+=(a[i]*b[i])  \n",
    "print(c)    "
   ]
  },
  {
   "cell_type": "code",
   "execution_count": 11,
   "id": "dc6b6b2f",
   "metadata": {},
   "outputs": [
    {
     "name": "stdout",
     "output_type": "stream",
     "text": [
      "transpose of a matrix is:\n",
      "[1, 4]\n",
      "[2, 5]\n",
      "[3, 6]\n"
     ]
    }
   ],
   "source": [
    "# transpose of a matrix using a for loop\n",
    "# This code transposes a matrix by swapping rows and columns.\n",
    "\n",
    "a=[[1, 2, 3],[4, 5, 6]]\n",
    "b=[]\n",
    "for i in range(len(a[0])): # loop through columns\n",
    "    c=[]\n",
    "    for j in range(len(a)): # loop through rows\n",
    "        c.append(a[j][i])\n",
    "    b.append(c)\n",
    "\n",
    "print(\"transpose of a matrix is:\")    \n",
    "\n",
    "for d in b:\n",
    "    print(d)\n",
    "   "
   ]
  }
 ],
 "metadata": {
  "kernelspec": {
   "display_name": "Python 3",
   "language": "python",
   "name": "python3"
  },
  "language_info": {
   "codemirror_mode": {
    "name": "ipython",
    "version": 3
   },
   "file_extension": ".py",
   "mimetype": "text/x-python",
   "name": "python",
   "nbconvert_exporter": "python",
   "pygments_lexer": "ipython3",
   "version": "3.12.5"
  }
 },
 "nbformat": 4,
 "nbformat_minor": 5
}
